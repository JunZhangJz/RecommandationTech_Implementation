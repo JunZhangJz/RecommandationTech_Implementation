{
 "cells": [
  {
   "cell_type": "code",
   "id": "initial_id",
   "metadata": {
    "collapsed": true,
    "ExecuteTime": {
     "end_time": "2024-09-22T10:18:58.461273Z",
     "start_time": "2024-09-22T10:18:56.187788Z"
    }
   },
   "source": [
    "import math\n",
    "\n",
    "import pandas as pd\n",
    "import numpy as np\n",
    "import random\n",
    "\n",
    "from tqdm import tqdm\n",
    "\n",
    "#读入数据集\n",
    "u1_base = pd.read_csv('ml-100k/u1.base', sep='\\t', names=['uid', 'iid', 'rate', 'timestamp'])\n",
    "u1_test = pd.read_csv('ml-100k/u1.test', sep='\\t', names=['uid', 'iid', 'rate', 'timestamp'])\n",
    "\n",
    "#初始化\n",
    "user_num = u1_base['uid'].max()\n",
    "item_num = u1_base['iid'].max()\n",
    "\n",
    "y_ui = np.zeros((user_num, item_num), int)\n",
    "\n",
    "I_u = {}\n",
    "U_i = {}\n",
    "P = set()\n",
    "#base记录转化为matrix\n",
    "for index, row in u1_base.iterrows():\n",
    "    user_id = row['uid'] - 1\n",
    "    item_id = row['iid'] - 1\n",
    "    rating = row['rate']\n",
    "    if rating >= 4:\n",
    "        P.add((user_id, item_id))\n",
    "        y_ui[user_id, item_id] = 1\n",
    "        I_u.setdefault(user_id,set())\n",
    "        U_i.setdefault(item_id,set())\n",
    "\n",
    "        I_u[user_id].add(item_id)\n",
    "        U_i[item_id].add(user_id)\n",
    "\n",
    "R = y_ui.sum()\n",
    "#全局平均\n",
    "GlobalAverage = R / user_num / item_num\n",
    "\n",
    "#计算四个参数 user_means item_means user_bias item_bias\n",
    "y_sum_row = [sum(row) for row in y_ui]\n",
    "\n",
    "y_sum_col = [sum(column) for column in zip(*y_ui)]\n",
    "\n",
    "user_bias = []\n",
    "for i in range(user_num):\n",
    "    if y_sum_row[i] == 0:\n",
    "        I_u.setdefault(i,set())\n",
    "        user_bias.append(0)\n",
    "    else:\n",
    "        sum_bias = 0\n",
    "        for j in range(item_num):\n",
    "            sum_bias += y_ui[i][j]\n",
    "        user_bias.append(sum_bias / item_num - GlobalAverage)\n",
    "\n",
    "item_bias = []\n",
    "for i in range(item_num):\n",
    "    if y_sum_col[i] == 0:\n",
    "        U_i.setdefault(i,set())\n",
    "        item_bias.append(0)\n",
    "    else:\n",
    "        sum_bias = 0\n",
    "        for j in range(user_num):\n",
    "            sum_bias += y_ui[j][i]\n",
    "        item_bias.append(sum_bias / user_num - GlobalAverage)\n",
    "\n",
    "ui_set_unob = set(zip(*np.where(y_ui == 0)))"
   ],
   "outputs": [],
   "execution_count": 7
  },
  {
   "metadata": {
    "ExecuteTime": {
     "end_time": "2024-09-22T10:18:58.468723Z",
     "start_time": "2024-09-22T10:18:58.465579Z"
    }
   },
   "cell_type": "code",
   "source": [
    "P_size = len(P)\n",
    "rho = 3\n",
    "A_size = rho * P_size\n",
    "alpha = 0.5\n",
    "lr = 0.01\n",
    "d = 20\n",
    "lmda = 0.001\n",
    "T = 100\n",
    "\n",
    "W = np.random.rand(item_num, d)\n",
    "V = np.random.rand(item_num, d)\n",
    "W = (W - 0.5) * 0.01\n",
    "V = (V - 0.5) * 0.01\n"
   ],
   "id": "35f9be57f3f74b63",
   "outputs": [],
   "execution_count": 8
  },
  {
   "metadata": {
    "ExecuteTime": {
     "end_time": "2024-09-22T10:19:00.500457Z",
     "start_time": "2024-09-22T10:19:00.497938Z"
    }
   },
   "cell_type": "code",
   "source": [
    "def I_u_except_i(u, i):\n",
    "    Items_u_except_i = I_u[u].copy()\n",
    "    Items_u_except_i = Items_u_except_i - {i}\n",
    "    return Items_u_except_i"
   ],
   "id": "a36dd5385545d88",
   "outputs": [],
   "execution_count": 9
  },
  {
   "metadata": {
    "ExecuteTime": {
     "end_time": "2024-09-22T10:19:02.284685Z",
     "start_time": "2024-09-22T10:19:02.282528Z"
    }
   },
   "cell_type": "code",
   "source": [
    "def U_u_except_i(u, i):\n",
    "    if len(I_u_except_i(u, i)) == 0:\n",
    "        return np.zeros(d)\n",
    "    U_u_exc_i = sum(W[i] for i in I_u_except_i(u, i))\n",
    "    return U_u_exc_i / len(I_u_except_i(u, i)) ** alpha"
   ],
   "id": "48749e78d8cc2c45",
   "outputs": [],
   "execution_count": 10
  },
  {
   "metadata": {
    "ExecuteTime": {
     "end_time": "2024-09-22T10:19:04.011849Z",
     "start_time": "2024-09-22T10:19:04.009918Z"
    }
   },
   "cell_type": "code",
   "source": [
    "def FISM(u, i):\n",
    "    return user_bias[u] + item_bias[i] + np.dot(U_u_except_i(u, i), V[i])"
   ],
   "id": "726eab0b42bc06b8",
   "outputs": [],
   "execution_count": 11
  },
  {
   "metadata": {
    "ExecuteTime": {
     "end_time": "2024-09-22T10:21:02.391324Z",
     "start_time": "2024-09-22T10:20:29.564788Z"
    }
   },
   "cell_type": "code",
   "source": [
    "S_list = list(ui_set_unob)\n",
    "for t in range(T):\n",
    "    A = random.sample(S_list, A_size)\n",
    "    P_union_A = set(P).union(A)\n",
    "    for i in tqdm(P_union_A, desc=f\"Epoch {t + 1}/{T}\", leave=False):\n",
    "        user_id = i[0]\n",
    "        item_id = i[1]\n",
    "        r_hat = FISM(user_id, item_id)\n",
    "        e_ui = 1 - r_hat if i in P else - r_hat\n",
    "        # if i in A:\n",
    "        #     e_ui = - r_hat\n",
    "        # else:\n",
    "        #     e_ui = 1 - r_hat\n",
    "        delta_bu = -e_ui + lmda * user_bias[user_id]\n",
    "        delta_bi = -e_ui + lmda * item_bias[item_id]\n",
    "        delta_Vi = -e_ui * U_u_except_i(user_id, item_id) + lmda * V[item_id]\n",
    "        user_bias[user_id] -= lr * delta_bu\n",
    "        item_bias[item_id] -= lr * delta_bi\n",
    "        V[item_id] -= lr * delta_Vi\n",
    "        if len(I_u_except_i(user_id, item_id)) != 0:\n",
    "            fm = len(I_u_except_i(user_id, item_id)) ** alpha\n",
    "            i_pie_list = list(I_u_except_i(user_id, item_id))\n",
    "            #使用这下索引方式加快训练\n",
    "            W[i_pie_list] -= lr * ((-e_ui / fm) * V[item_id] + lmda * W[i_pie_list])\n",
    "            # for i_pie in I_u_except_i(user_id, item_id):\n",
    "            #     delta_Wi = -(e_ui / fm) * V[item_id] + lmda * W[i_pie]\n",
    "            #     W[i_pie] = lr * delta_Wi"
   ],
   "id": "a63ea046a61d1689",
   "outputs": [
    {
     "name": "stderr",
     "output_type": "stream",
     "text": [
      "                                                                   \r"
     ]
    },
    {
     "ename": "KeyboardInterrupt",
     "evalue": "",
     "output_type": "error",
     "traceback": [
      "\u001B[0;31m---------------------------------------------------------------------------\u001B[0m",
      "\u001B[0;31mKeyboardInterrupt\u001B[0m                         Traceback (most recent call last)",
      "Cell \u001B[0;32mIn[14], line 16\u001B[0m\n\u001B[1;32m     14\u001B[0m delta_bu \u001B[38;5;241m=\u001B[39m \u001B[38;5;241m-\u001B[39me_ui \u001B[38;5;241m+\u001B[39m lmda \u001B[38;5;241m*\u001B[39m user_bias[user_id]\n\u001B[1;32m     15\u001B[0m delta_bi \u001B[38;5;241m=\u001B[39m \u001B[38;5;241m-\u001B[39me_ui \u001B[38;5;241m+\u001B[39m lmda \u001B[38;5;241m*\u001B[39m item_bias[item_id]\n\u001B[0;32m---> 16\u001B[0m delta_Vi \u001B[38;5;241m=\u001B[39m \u001B[38;5;241m-\u001B[39me_ui \u001B[38;5;241m*\u001B[39m \u001B[43mU_u_except_i\u001B[49m\u001B[43m(\u001B[49m\u001B[43muser_id\u001B[49m\u001B[43m,\u001B[49m\u001B[43m \u001B[49m\u001B[43mitem_id\u001B[49m\u001B[43m)\u001B[49m \u001B[38;5;241m+\u001B[39m lmda \u001B[38;5;241m*\u001B[39m V[item_id]\n\u001B[1;32m     17\u001B[0m user_bias[user_id] \u001B[38;5;241m-\u001B[39m\u001B[38;5;241m=\u001B[39m lr \u001B[38;5;241m*\u001B[39m delta_bu\n\u001B[1;32m     18\u001B[0m item_bias[item_id] \u001B[38;5;241m-\u001B[39m\u001B[38;5;241m=\u001B[39m lr \u001B[38;5;241m*\u001B[39m delta_bi\n",
      "Cell \u001B[0;32mIn[10], line 1\u001B[0m, in \u001B[0;36mU_u_except_i\u001B[0;34m(u, i)\u001B[0m\n\u001B[0;32m----> 1\u001B[0m \u001B[38;5;28;01mdef\u001B[39;00m \u001B[38;5;21mU_u_except_i\u001B[39m(u, i):\n\u001B[1;32m      2\u001B[0m     \u001B[38;5;28;01mif\u001B[39;00m \u001B[38;5;28mlen\u001B[39m(I_u_except_i(u, i)) \u001B[38;5;241m==\u001B[39m \u001B[38;5;241m0\u001B[39m:\n\u001B[1;32m      3\u001B[0m         \u001B[38;5;28;01mreturn\u001B[39;00m np\u001B[38;5;241m.\u001B[39mzeros(d)\n",
      "\u001B[0;31mKeyboardInterrupt\u001B[0m: "
     ]
    }
   ],
   "execution_count": 14
  },
  {
   "metadata": {
    "ExecuteTime": {
     "end_time": "2024-09-20T05:43:16.204051Z",
     "start_time": "2024-09-20T05:43:15.894422Z"
    }
   },
   "cell_type": "code",
   "source": [
    "#test\n",
    "I_u_preferred = {}\n",
    "U_te = set()\n",
    "for index, row in u1_test.iterrows():\n",
    "    user_id = row['uid'] - 1\n",
    "    item_id = row['iid'] - 1\n",
    "    rating = row['rate']\n",
    "    if rating >= 4:\n",
    "        if user_id not in I_u_preferred:\n",
    "            I_u_preferred[user_id] = set()\n",
    "        I_u_preferred[user_id].add(item_id)\n",
    "        U_te.add(user_id)"
   ],
   "id": "b181f9d7d1601813",
   "outputs": [],
   "execution_count": 51
  },
  {
   "metadata": {
    "ExecuteTime": {
     "end_time": "2024-09-20T05:43:16.210955Z",
     "start_time": "2024-09-20T05:43:16.208627Z"
    }
   },
   "cell_type": "code",
   "source": [
    "#用户u未评价过的物品集\n",
    "def I_unob_u(user_id):\n",
    "    return np.where(y_ui[user_id] == 0)[0]"
   ],
   "id": "ef1476ce5cc14904",
   "outputs": [],
   "execution_count": 52
  },
  {
   "metadata": {
    "ExecuteTime": {
     "end_time": "2024-09-20T05:43:20.424053Z",
     "start_time": "2024-09-20T05:43:20.420024Z"
    }
   },
   "cell_type": "code",
   "source": [
    "#为用户u推荐的物品\n",
    "def get_rec_items(u,R_HAT,k):\n",
    "    unob_items = I_unob_u(u)\n",
    "    items_pred = {i:R_HAT(u,i) for i in unob_items }\n",
    "    # 根据预测评分降序排序\n",
    "    sorted_items = sorted(items_pred.items(), key=lambda x: x[1], reverse=True)\n",
    "    # 输出前 k 个物品及其评分\n",
    "    top_k_items = sorted_items[:k]\n",
    "    return [k for k,v in top_k_items]\n"
   ],
   "id": "7b900f6103cb7abd",
   "outputs": [],
   "execution_count": 53
  },
  {
   "metadata": {
    "ExecuteTime": {
     "end_time": "2024-09-20T05:43:20.432601Z",
     "start_time": "2024-09-20T05:43:20.427922Z"
    }
   },
   "cell_type": "code",
   "source": [
    "def Pre_at_k(R_HAT, k):\n",
    "    Pre = 0\n",
    "    for u in U_te:\n",
    "        rec_items = get_rec_items(u, R_HAT, k)\n",
    "        pre_items = I_u_preferred[u]  #用户实际喜欢项目 \n",
    "        Pre_u = len(set(rec_items).intersection(set(pre_items))) / k\n",
    "        Pre += Pre_u\n",
    "    return Pre / len(U_te)\n",
    "\n",
    "\n",
    "def Rec_at_k(R_HAT, k):\n",
    "    Rec = 0\n",
    "    for u in U_te:\n",
    "        rec_items = get_rec_items(u, R_HAT, k)\n",
    "        pre_items = I_u_preferred[u]\n",
    "        Rec_u = len(set(rec_items).intersection(set(pre_items))) / len(pre_items)\n",
    "        Rec += Rec_u\n",
    "    return Rec / len(U_te)\n",
    "\n",
    "\n",
    "def NDCG_at_k(R_HAT, k):\n",
    "    NDCG = 0\n",
    "    for u in U_te:\n",
    "        rec_items = get_rec_items(u, R_HAT, k)\n",
    "        pre_items = I_u_preferred[u]\n",
    "        DCG_u = 0\n",
    "        for pos in range(k):\n",
    "            if rec_items[pos] in pre_items:\n",
    "                DCG_u += 1 / math.log(pos + 2)\n",
    "        IDCG_u = sum(1.0 / math.log(pos + 2) for pos in range(min(len(pre_items), k)))  #Zu\n",
    "        NDCG += DCG_u / IDCG_u\n",
    "    return NDCG / len(U_te)\n"
   ],
   "id": "e2b5c3009619457b",
   "outputs": [],
   "execution_count": 54
  },
  {
   "metadata": {
    "ExecuteTime": {
     "end_time": "2024-09-20T05:44:03.062476Z",
     "start_time": "2024-09-20T05:43:22.268939Z"
    }
   },
   "cell_type": "code",
   "source": [
    "print(f\"Pre: {Pre_at_k(FISM, 5):.4f}\")\n",
    "print(f\"Rec: {Rec_at_k(FISM, 5):.4f}\")\n",
    "print(f\"NDCG: {NDCG_at_k(FISM, 5):.4f}\")"
   ],
   "id": "884b0b484082730a",
   "outputs": [
    {
     "name": "stdout",
     "output_type": "stream",
     "text": [
      "Pre: 0.3851\n",
      "Rec: 0.1255\n",
      "NDCG: 0.4153\n"
     ]
    }
   ],
   "execution_count": 55
  },
  {
   "metadata": {},
   "cell_type": "code",
   "outputs": [],
   "execution_count": null,
   "source": "",
   "id": "88bf91745794cfc1"
  }
 ],
 "metadata": {
  "kernelspec": {
   "display_name": "Python 3",
   "language": "python",
   "name": "python3"
  },
  "language_info": {
   "codemirror_mode": {
    "name": "ipython",
    "version": 2
   },
   "file_extension": ".py",
   "mimetype": "text/x-python",
   "name": "python",
   "nbconvert_exporter": "python",
   "pygments_lexer": "ipython2",
   "version": "2.7.6"
  }
 },
 "nbformat": 4,
 "nbformat_minor": 5
}
