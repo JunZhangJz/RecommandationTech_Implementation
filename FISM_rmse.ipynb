{
 "cells": [
  {
   "cell_type": "code",
   "id": "initial_id",
   "metadata": {
    "collapsed": true,
    "ExecuteTime": {
     "end_time": "2024-09-13T11:39:04.731555Z",
     "start_time": "2024-09-13T11:39:02.232430Z"
    }
   },
   "source": [
    "import math\n",
    "\n",
    "import pandas as pd\n",
    "import numpy as np\n",
    "import random\n",
    "\n",
    "from tqdm import tqdm\n",
    "\n",
    "#读入数据集\n",
    "u1_base = pd.read_csv('ml-100k/u1.base', sep='\\t', names=['uid', 'iid', 'rate', 'timestamp'])\n",
    "u1_test = pd.read_csv('ml-100k/u1.test', sep='\\t', names=['uid', 'iid', 'rate', 'timestamp'])\n",
    "\n",
    "#初始化\n",
    "user_num = u1_base['uid'].max()\n",
    "item_num = u1_base['iid'].max()\n",
    "\n",
    "y_ui = np.zeros((user_num, item_num), int)\n",
    "\n",
    "I_u = {}\n",
    "U_i = {}\n",
    "P = set()\n",
    "#base记录转化为matrix\n",
    "for index, row in u1_base.iterrows():\n",
    "    user_id = row['uid'] - 1\n",
    "    item_id = row['iid'] - 1\n",
    "    rating = row['rate']\n",
    "    if rating >= 4:\n",
    "        P.add((user_id, item_id))\n",
    "        y_ui[user_id, item_id] = 1\n",
    "        if user_id not in I_u:\n",
    "            I_u[user_id] = set()\n",
    "        I_u[user_id].add(item_id)\n",
    "        if item_id not in U_i:\n",
    "            U_i[item_id] = set()\n",
    "        U_i[item_id].add(user_id)\n",
    "\n",
    "R = y_ui.sum()\n",
    "#全局平均\n",
    "GlobalAverage = R / user_num / item_num\n",
    "\n",
    "#计算四个参数 user_means item_means user_bias item_bias\n",
    "y_sum_row = [sum(row) for row in y_ui]\n",
    "\n",
    "y_sum_col = [sum(column) for column in zip(*y_ui)]\n",
    "\n",
    "user_bias = []\n",
    "for i in range(user_num):\n",
    "    if y_sum_row[i] == 0:\n",
    "        user_bias.append(0)\n",
    "    else:\n",
    "        sum_bias = 0\n",
    "        for j in range(item_num):\n",
    "            sum_bias += y_ui[i][j]\n",
    "        user_bias.append(sum_bias / item_num - GlobalAverage)\n",
    "\n",
    "item_bias = []\n",
    "for i in range(item_num):\n",
    "    if y_sum_col[i] == 0:\n",
    "        item_bias.append(0)\n",
    "    else:\n",
    "        sum_bias = 0\n",
    "        for j in range(user_num):\n",
    "            sum_bias += y_ui[j][i]\n",
    "        item_bias.append(sum_bias / user_num - GlobalAverage)\n",
    "\n",
    "ui_set_unob = set(zip(*np.where(y_ui == 0)))"
   ],
   "outputs": [],
   "execution_count": 54
  },
  {
   "metadata": {
    "ExecuteTime": {
     "end_time": "2024-09-13T11:39:04.746362Z",
     "start_time": "2024-09-13T11:39:04.738585Z"
    }
   },
   "cell_type": "code",
   "source": [
    "P_size = len(P)\n",
    "rho = 3\n",
    "A_size = rho*P_size\n",
    "alpha = 0.5\n",
    "lr = 0.01\n",
    "d= 20\n",
    "lmda = 0.001\n",
    "T = 100\n",
    "\n",
    "W = np.random.rand(item_num, d)\n",
    "V = np.random.rand(item_num, d)\n",
    "W = (W - 0.5) * 0.01\n",
    "V = (V - 0.5) * 0.01\n"
   ],
   "id": "35f9be57f3f74b63",
   "outputs": [],
   "execution_count": 55
  },
  {
   "metadata": {
    "ExecuteTime": {
     "end_time": "2024-09-13T11:39:06.533202Z",
     "start_time": "2024-09-13T11:39:06.530666Z"
    }
   },
   "cell_type": "code",
   "source": [
    "def I_u_except_i(u, i):\n",
    "    Items_u_except_i = I_u[u].copy()\n",
    "    if i in Items_u_except_i:\n",
    "        Items_u_except_i.remove(i)\n",
    "    return Items_u_except_i"
   ],
   "id": "a36dd5385545d88",
   "outputs": [],
   "execution_count": 56
  },
  {
   "metadata": {
    "ExecuteTime": {
     "end_time": "2024-09-13T11:39:08.273109Z",
     "start_time": "2024-09-13T11:39:08.270920Z"
    }
   },
   "cell_type": "code",
   "source": [
    "def U_u_except_i(u, i):\n",
    "    U_u_exc_i = sum(W[i] for i in I_u_except_i(u, i))\n",
    "    return U_u_exc_i / len(I_u_except_i(u, i)) ** alpha"
   ],
   "id": "48749e78d8cc2c45",
   "outputs": [],
   "execution_count": 57
  },
  {
   "metadata": {
    "ExecuteTime": {
     "end_time": "2024-09-13T11:39:10.042921Z",
     "start_time": "2024-09-13T11:39:10.040314Z"
    }
   },
   "cell_type": "code",
   "source": [
    "def FISM(u, i):\n",
    "    return user_bias[u] + item_bias[i] + np.dot(U_u_except_i(u, i), V[i])"
   ],
   "id": "726eab0b42bc06b8",
   "outputs": [],
   "execution_count": 58
  },
  {
   "metadata": {
    "ExecuteTime": {
     "start_time": "2024-09-13T11:39:11.989112Z"
    }
   },
   "cell_type": "code",
   "source": [
    "S_list = list(ui_set_unob)\n",
    "for t in range(T):\n",
    "    A = random.sample(S_list, A_size)\n",
    "    P_union_A = set(P).union(A)\n",
    "    for i in tqdm(P_union_A, desc=f\"Epoch {t + 1}/{T}\", leave=False):\n",
    "        user_id = i[0]\n",
    "        item_id = i[1]\n",
    "        if user_id not in I_u or len(I_u_except_i(user_id,item_id)) == 0:\n",
    "            continue\n",
    "        r_hat = FISM(user_id, item_id)\n",
    "        if i in P:\n",
    "            e_ui = 1 - r_hat\n",
    "        else:\n",
    "            e_ui = -r_hat\n",
    "\n",
    "        delta_bu = -e_ui + lmda * user_bias[user_id]\n",
    "        delta_bi = -e_ui + lmda * item_bias[item_id]\n",
    "        delta_Vi = -e_ui * U_u_except_i(user_id, item_id) + lmda * V[item_id]\n",
    "        for i_pie in I_u_except_i(user_id, item_id):\n",
    "            delta_Wi = -e_ui * V[item_id] / (len(I_u_except_i(user_id, item_id))) ** alpha + lmda * W[i_pie]\n",
    "            W[i_pie] = lr * delta_Wi\n",
    "        #update \n",
    "\n",
    "        user_bias[user_id] -= lr * delta_bu\n",
    "        item_bias[item_id] -= lr * delta_bi\n",
    "        V[item_id] -= lr * delta_Vi"
   ],
   "id": "a63ea046a61d1689",
   "outputs": [
    {
     "name": "stderr",
     "output_type": "stream",
     "text": [
      "                                                                     \r"
     ]
    },
    {
     "ename": "KeyboardInterrupt",
     "evalue": "",
     "output_type": "error",
     "traceback": [
      "\u001B[0;31m---------------------------------------------------------------------------\u001B[0m",
      "\u001B[0;31mKeyboardInterrupt\u001B[0m                         Traceback (most recent call last)",
      "Cell \u001B[0;32mIn[59], line 10\u001B[0m\n\u001B[1;32m      8\u001B[0m \u001B[38;5;28;01mif\u001B[39;00m user_id \u001B[38;5;129;01mnot\u001B[39;00m \u001B[38;5;129;01min\u001B[39;00m I_u \u001B[38;5;129;01mor\u001B[39;00m \u001B[38;5;28mlen\u001B[39m(I_u_except_i(user_id,item_id)) \u001B[38;5;241m==\u001B[39m \u001B[38;5;241m0\u001B[39m:\n\u001B[1;32m      9\u001B[0m     \u001B[38;5;28;01mcontinue\u001B[39;00m\n\u001B[0;32m---> 10\u001B[0m r_hat \u001B[38;5;241m=\u001B[39m \u001B[43mFISM\u001B[49m\u001B[43m(\u001B[49m\u001B[43muser_id\u001B[49m\u001B[43m,\u001B[49m\u001B[43m \u001B[49m\u001B[43mitem_id\u001B[49m\u001B[43m)\u001B[49m\n\u001B[1;32m     11\u001B[0m \u001B[38;5;28;01mif\u001B[39;00m i \u001B[38;5;129;01min\u001B[39;00m P:\n\u001B[1;32m     12\u001B[0m     e_ui \u001B[38;5;241m=\u001B[39m \u001B[38;5;241m1\u001B[39m \u001B[38;5;241m-\u001B[39m r_hat\n",
      "Cell \u001B[0;32mIn[58], line 2\u001B[0m, in \u001B[0;36mFISM\u001B[0;34m(u, i)\u001B[0m\n\u001B[1;32m      1\u001B[0m \u001B[38;5;28;01mdef\u001B[39;00m \u001B[38;5;21mFISM\u001B[39m(u, i):\n\u001B[0;32m----> 2\u001B[0m     \u001B[38;5;28;01mreturn\u001B[39;00m user_bias[u] \u001B[38;5;241m+\u001B[39m item_bias[i] \u001B[38;5;241m+\u001B[39m np\u001B[38;5;241m.\u001B[39mdot(\u001B[43mU_u_except_i\u001B[49m\u001B[43m(\u001B[49m\u001B[43mu\u001B[49m\u001B[43m,\u001B[49m\u001B[43m \u001B[49m\u001B[43mi\u001B[49m\u001B[43m)\u001B[49m, V[i])\n",
      "Cell \u001B[0;32mIn[57], line 2\u001B[0m, in \u001B[0;36mU_u_except_i\u001B[0;34m(u, i)\u001B[0m\n\u001B[1;32m      1\u001B[0m \u001B[38;5;28;01mdef\u001B[39;00m \u001B[38;5;21mU_u_except_i\u001B[39m(u, i):\n\u001B[0;32m----> 2\u001B[0m     U_u_exc_i \u001B[38;5;241m=\u001B[39m \u001B[38;5;28;43msum\u001B[39;49m\u001B[43m(\u001B[49m\u001B[43mW\u001B[49m\u001B[43m[\u001B[49m\u001B[43mi\u001B[49m\u001B[43m]\u001B[49m\u001B[43m \u001B[49m\u001B[38;5;28;43;01mfor\u001B[39;49;00m\u001B[43m \u001B[49m\u001B[43mi\u001B[49m\u001B[43m \u001B[49m\u001B[38;5;129;43;01min\u001B[39;49;00m\u001B[43m \u001B[49m\u001B[43mI_u_except_i\u001B[49m\u001B[43m(\u001B[49m\u001B[43mu\u001B[49m\u001B[43m,\u001B[49m\u001B[43m \u001B[49m\u001B[43mi\u001B[49m\u001B[43m)\u001B[49m\u001B[43m)\u001B[49m\n\u001B[1;32m      3\u001B[0m     \u001B[38;5;28;01mreturn\u001B[39;00m U_u_exc_i \u001B[38;5;241m/\u001B[39m \u001B[38;5;28mlen\u001B[39m(I_u_except_i(u, i)) \u001B[38;5;241m*\u001B[39m\u001B[38;5;241m*\u001B[39m alpha\n",
      "Cell \u001B[0;32mIn[57], line 2\u001B[0m, in \u001B[0;36m<genexpr>\u001B[0;34m(.0)\u001B[0m\n\u001B[1;32m      1\u001B[0m \u001B[38;5;28;01mdef\u001B[39;00m \u001B[38;5;21mU_u_except_i\u001B[39m(u, i):\n\u001B[0;32m----> 2\u001B[0m     U_u_exc_i \u001B[38;5;241m=\u001B[39m \u001B[38;5;28msum\u001B[39m(W[i] \u001B[38;5;28;01mfor\u001B[39;00m i \u001B[38;5;129;01min\u001B[39;00m I_u_except_i(u, i))\n\u001B[1;32m      3\u001B[0m     \u001B[38;5;28;01mreturn\u001B[39;00m U_u_exc_i \u001B[38;5;241m/\u001B[39m \u001B[38;5;28mlen\u001B[39m(I_u_except_i(u, i)) \u001B[38;5;241m*\u001B[39m\u001B[38;5;241m*\u001B[39m alpha\n",
      "\u001B[0;31mKeyboardInterrupt\u001B[0m: "
     ]
    }
   ],
   "execution_count": 59
  },
  {
   "metadata": {
    "ExecuteTime": {
     "end_time": "2024-09-13T11:39:25.901852Z",
     "start_time": "2024-09-13T11:39:25.464397Z"
    }
   },
   "cell_type": "code",
   "source": [
    "#test\n",
    "I_u_preferred = {}\n",
    "U_te = set()\n",
    "for index, row in u1_test.iterrows():\n",
    "    user_id = row['uid'] - 1\n",
    "    item_id = row['iid'] - 1\n",
    "    rating = row['rate']\n",
    "    if rating >= 4:\n",
    "        if user_id not in I_u_preferred:\n",
    "            I_u_preferred[user_id] = set()\n",
    "        I_u_preferred[user_id].add(item_id)\n",
    "        U_te.add(user_id)"
   ],
   "id": "b181f9d7d1601813",
   "outputs": [],
   "execution_count": 60
  },
  {
   "metadata": {
    "ExecuteTime": {
     "end_time": "2024-09-13T11:39:28.020741Z",
     "start_time": "2024-09-13T11:39:28.018813Z"
    }
   },
   "cell_type": "code",
   "source": [
    "#用户u未评价过的物品集\n",
    "def I_unob_u(user_id):\n",
    "    return np.where(y_ui[user_id] == 0)[0]"
   ],
   "id": "ef1476ce5cc14904",
   "outputs": [],
   "execution_count": 61
  },
  {
   "metadata": {
    "ExecuteTime": {
     "end_time": "2024-09-13T11:39:28.027423Z",
     "start_time": "2024-09-13T11:39:28.025227Z"
    }
   },
   "cell_type": "code",
   "source": [
    "#为用户u推荐的物品\n",
    "def get_rec_items(u,R_HAT,k):\n",
    "    unob_items = I_unob_u(u)\n",
    "    items_pred = {i:R_HAT(u,i) for i in unob_items }\n",
    "    # 根据预测评分降序排序\n",
    "    sorted_items = sorted(items_pred.items(), key=lambda x: x[1], reverse=True)\n",
    "    # 输出前 k 个物品及其评分\n",
    "    top_k_items = sorted_items[:k]\n",
    "    return [k for k,v in top_k_items]\n"
   ],
   "id": "7b900f6103cb7abd",
   "outputs": [],
   "execution_count": 62
  },
  {
   "metadata": {
    "ExecuteTime": {
     "end_time": "2024-09-13T11:39:31.561136Z",
     "start_time": "2024-09-13T11:39:31.556450Z"
    }
   },
   "cell_type": "code",
   "source": [
    "def Pre_at_k(R_HAT, k):\n",
    "    Pre = 0\n",
    "    for u in U_te:\n",
    "        rec_items = get_rec_items(u, R_HAT, k)\n",
    "        pre_items = I_u_preferred[u]  #用户实际喜欢项目 \n",
    "        Pre_u = len(set(rec_items).intersection(set(pre_items))) / k\n",
    "        Pre += Pre_u\n",
    "    return Pre / len(U_te)\n",
    "\n",
    "\n",
    "def Rec_at_k(R_HAT, k):\n",
    "    Rec = 0\n",
    "    for u in U_te:\n",
    "        rec_items = get_rec_items(u, R_HAT, k)\n",
    "        pre_items = I_u_preferred[u]\n",
    "        Rec_u = len(set(rec_items).intersection(set(pre_items))) / len(pre_items)\n",
    "        Rec += Rec_u\n",
    "    return Rec / len(U_te)\n",
    "\n",
    "\n",
    "def NDCG_at_k(R_HAT, k):\n",
    "    NDCG = 0\n",
    "    for u in U_te:\n",
    "        rec_items = get_rec_items(u, R_HAT, k)\n",
    "        pre_items = I_u_preferred[u]\n",
    "        DCG_u = 0\n",
    "        for pos in range(k):\n",
    "            if rec_items[pos] in pre_items:\n",
    "                DCG_u += 1 / math.log(pos + 2)\n",
    "        IDCG_u = sum(1.0 / math.log(pos + 2) for pos in range(min(len(pre_items), k)))  #Zu\n",
    "        NDCG += DCG_u / IDCG_u\n",
    "    return NDCG / len(U_te)\n"
   ],
   "id": "e2b5c3009619457b",
   "outputs": [],
   "execution_count": 63
  },
  {
   "metadata": {
    "ExecuteTime": {
     "end_time": "2024-09-13T11:40:08.760632Z",
     "start_time": "2024-09-13T11:39:31.570817Z"
    }
   },
   "cell_type": "code",
   "source": [
    "print(f\"Pre: {Pre_at_k(FISM, 5):.4f}\")\n",
    "print(f\"Rec: {Rec_at_k(FISM, 5):.4f}\")\n",
    "print(f\"NDCG: {NDCG_at_k(FISM, 5):.4f}\")"
   ],
   "id": "884b0b484082730a",
   "outputs": [
    {
     "name": "stdout",
     "output_type": "stream",
     "text": [
      "Pre: 0.2303\n",
      "Rec: 0.0565\n",
      "NDCG: 0.2506\n"
     ]
    }
   ],
   "execution_count": 64
  },
  {
   "metadata": {},
   "cell_type": "code",
   "outputs": [],
   "execution_count": null,
   "source": "",
   "id": "88bf91745794cfc1"
  }
 ],
 "metadata": {
  "kernelspec": {
   "display_name": "Python 3",
   "language": "python",
   "name": "python3"
  },
  "language_info": {
   "codemirror_mode": {
    "name": "ipython",
    "version": 2
   },
   "file_extension": ".py",
   "mimetype": "text/x-python",
   "name": "python",
   "nbconvert_exporter": "python",
   "pygments_lexer": "ipython2",
   "version": "2.7.6"
  }
 },
 "nbformat": 4,
 "nbformat_minor": 5
}
