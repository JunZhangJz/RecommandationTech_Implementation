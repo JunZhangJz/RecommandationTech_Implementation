{
 "cells": [
  {
   "cell_type": "code",
   "id": "initial_id",
   "metadata": {
    "collapsed": true,
    "ExecuteTime": {
     "end_time": "2024-09-13T11:33:13.655560Z",
     "start_time": "2024-09-13T11:33:10.203131Z"
    }
   },
   "source": [
    "import math\n",
    "import torch\n",
    "import pandas as pd\n",
    "import numpy as np\n",
    "import random\n",
    "\n",
    "from tqdm import tqdm\n",
    "\n",
    "#读入数据集\n",
    "u1_base = pd.read_csv('ml-100k/u1.base', sep='\\t', names=['uid', 'iid', 'rate', 'timestamp'])\n",
    "u1_test = pd.read_csv('ml-100k/u1.test', sep='\\t', names=['uid', 'iid', 'rate', 'timestamp'])\n",
    "\n",
    "#初始化\n",
    "user_num = u1_base['uid'].max()\n",
    "item_num = u1_base['iid'].max()\n",
    "\n",
    "y_ui = np.zeros((user_num, item_num), int)\n",
    "\n",
    "I_u = {}\n",
    "U_i = {}\n",
    "P = set()\n",
    "#base记录转化为matrix\n",
    "for index, row in u1_base.iterrows():\n",
    "    user_id = row['uid'] - 1\n",
    "    item_id = row['iid'] - 1\n",
    "    rating = row['rate']\n",
    "    if rating >= 4:\n",
    "        P.add((user_id, item_id))\n",
    "        y_ui[user_id, item_id] = 1\n",
    "        if user_id not in I_u:\n",
    "            I_u[user_id] = set()\n",
    "        I_u[user_id].add(item_id)\n",
    "        if item_id not in U_i:\n",
    "            U_i[item_id] = set()\n",
    "        U_i[item_id].add(user_id)\n",
    "\n",
    "R = y_ui.sum()\n",
    "#全局平均\n",
    "GlobalAverage = R / user_num / item_num\n",
    "\n",
    "#计算四个参数 user_means item_means user_bias item_bias\n",
    "y_sum_row = [sum(row) for row in y_ui]\n",
    "\n",
    "y_sum_col = [sum(column) for column in zip(*y_ui)]\n",
    "\n",
    "user_bias = []\n",
    "for i in range(user_num):\n",
    "    if y_sum_row[i] == 0:\n",
    "        user_bias.append(0)\n",
    "    else:\n",
    "        sum_bias = 0\n",
    "        for j in range(item_num):\n",
    "            sum_bias += y_ui[i][j]\n",
    "        user_bias.append(sum_bias / item_num - GlobalAverage)\n",
    "\n",
    "item_bias = []\n",
    "for i in range(item_num):\n",
    "    if y_sum_col[i] == 0:\n",
    "        item_bias.append(0)\n",
    "    else:\n",
    "        sum_bias = 0\n",
    "        for j in range(user_num):\n",
    "            sum_bias += y_ui[j][i]\n",
    "        item_bias.append(sum_bias / user_num - GlobalAverage)\n",
    "\n",
    "ui_set_unob = set(zip(*np.where(y_ui == 0)))"
   ],
   "outputs": [],
   "execution_count": 1
  },
  {
   "metadata": {
    "ExecuteTime": {
     "end_time": "2024-09-13T11:33:13.663130Z",
     "start_time": "2024-09-13T11:33:13.660851Z"
    }
   },
   "cell_type": "code",
   "source": [
    "P_size = len(P)\n",
    "rho = 3\n",
    "A_size = rho*P_size\n",
    "alpha = 0.5\n",
    "lr = 0.01\n",
    "d= 20\n",
    "lmda = 0.001\n",
    "T = 100"
   ],
   "id": "8a96cbb7c8466555",
   "outputs": [],
   "execution_count": 2
  },
  {
   "metadata": {
    "ExecuteTime": {
     "end_time": "2024-09-13T11:33:15.284368Z",
     "start_time": "2024-09-13T11:33:15.264860Z"
    }
   },
   "cell_type": "code",
   "source": [
    "device = torch.device(\"cuda\" if torch.cuda.is_available() else \"cpu\")\n",
    "\n",
    "W = (torch.rand(item_num, d, device=device) - 0.5) * 0.01\n",
    "V = (torch.rand(item_num, d, device=device) - 0.5) * 0.01\n",
    "\n",
    "user_bias_tensor = torch.tensor(user_bias, device=device)\n",
    "item_bias_tensor = torch.tensor(item_bias, device=device)\n"
   ],
   "id": "6a09c77e63d5cf20",
   "outputs": [],
   "execution_count": 3
  },
  {
   "metadata": {
    "ExecuteTime": {
     "end_time": "2024-09-13T11:33:18.318354Z",
     "start_time": "2024-09-13T11:33:18.316158Z"
    }
   },
   "cell_type": "code",
   "source": [
    "def I_u_except_i(u, i):\n",
    "    Items_u_except_i = I_u[u].copy()\n",
    "    if i in Items_u_except_i:\n",
    "        Items_u_except_i.remove(i)\n",
    "    return Items_u_except_i"
   ],
   "id": "5067342564d6d35d",
   "outputs": [],
   "execution_count": 4
  },
  {
   "metadata": {
    "ExecuteTime": {
     "end_time": "2024-09-13T11:33:18.323826Z",
     "start_time": "2024-09-13T11:33:18.321826Z"
    }
   },
   "cell_type": "code",
   "source": [
    "def U_u_except_i(u, i):\n",
    "    U_u_exc_i = sum(W[i] for i in I_u_except_i(u, i))\n",
    "    return U_u_exc_i / len(I_u_except_i(u, i)) ** alpha"
   ],
   "id": "2146849b97fc7d08",
   "outputs": [],
   "execution_count": 5
  },
  {
   "metadata": {
    "ExecuteTime": {
     "end_time": "2024-09-13T11:33:19.836117Z",
     "start_time": "2024-09-13T11:33:19.833350Z"
    }
   },
   "cell_type": "code",
   "source": [
    "def FISM(u, i):\n",
    "    return user_bias_tensor[u] + item_bias_tensor[i] + np.dot(U_u_except_i(u, i), V[i])"
   ],
   "id": "35f2553021347228",
   "outputs": [],
   "execution_count": 6
  },
  {
   "metadata": {
    "ExecuteTime": {
     "start_time": "2024-09-13T11:33:21.357601Z"
    }
   },
   "cell_type": "code",
   "source": [
    "S_list = list(ui_set_unob)\n",
    "for t in range(T):\n",
    "    A = random.sample(S_list, A_size)\n",
    "    P_union_A = set(P).union(A)\n",
    "    for i in tqdm(P_union_A, desc=f\"Epoch {t + 1}/{T}\", leave=False):\n",
    "        user_id = i[0]\n",
    "        item_id = i[1]\n",
    "        if user_id not in I_u or len(I_u_except_i(user_id,item_id)) == 0:\n",
    "            continue\n",
    "        r_hat = FISM(user_id, item_id)\n",
    "        if i in P:\n",
    "            e_ui = 1 - r_hat\n",
    "        else:\n",
    "            e_ui = -r_hat\n",
    "\n",
    "        delta_bu = -e_ui + lmda * user_bias_tensor[user_id]\n",
    "        delta_bi = -e_ui + lmda * item_bias_tensor[item_id]\n",
    "        delta_Vi = -e_ui * U_u_except_i(user_id, item_id) + lmda * V[item_id]\n",
    "        for i_pie in I_u_except_i(user_id, item_id):\n",
    "            delta_Wi = -e_ui * V[item_id] / (len(I_u_except_i(user_id, item_id))) ** alpha + lmda * W[i_pie]\n",
    "            W[i_pie] = lr * delta_Wi\n",
    "        #update \n",
    "\n",
    "        user_bias_tensor[user_id] -= lr * delta_bu\n",
    "        item_bias_tensor[item_id] -= lr * delta_bi\n",
    "        V[item_id] -= lr * delta_Vi"
   ],
   "id": "bd584636762030be",
   "outputs": [
    {
     "name": "stderr",
     "output_type": "stream",
     "text": [
      "                                                                     \r"
     ]
    },
    {
     "ename": "KeyboardInterrupt",
     "evalue": "",
     "output_type": "error",
     "traceback": [
      "\u001B[0;31m---------------------------------------------------------------------------\u001B[0m",
      "\u001B[0;31mKeyboardInterrupt\u001B[0m                         Traceback (most recent call last)",
      "Cell \u001B[0;32mIn[7], line 20\u001B[0m\n\u001B[1;32m     18\u001B[0m delta_Vi \u001B[38;5;241m=\u001B[39m \u001B[38;5;241m-\u001B[39me_ui \u001B[38;5;241m*\u001B[39m U_u_except_i(user_id, item_id) \u001B[38;5;241m+\u001B[39m lmda \u001B[38;5;241m*\u001B[39m V[item_id]\n\u001B[1;32m     19\u001B[0m \u001B[38;5;28;01mfor\u001B[39;00m i_pie \u001B[38;5;129;01min\u001B[39;00m I_u_except_i(user_id, item_id):\n\u001B[0;32m---> 20\u001B[0m     delta_Wi \u001B[38;5;241m=\u001B[39m \u001B[38;5;241m-\u001B[39me_ui \u001B[38;5;241m*\u001B[39m V[item_id] \u001B[38;5;241m/\u001B[39m (\u001B[38;5;28mlen\u001B[39m(\u001B[43mI_u_except_i\u001B[49m\u001B[43m(\u001B[49m\u001B[43muser_id\u001B[49m\u001B[43m,\u001B[49m\u001B[43m \u001B[49m\u001B[43mitem_id\u001B[49m\u001B[43m)\u001B[49m)) \u001B[38;5;241m*\u001B[39m\u001B[38;5;241m*\u001B[39m alpha \u001B[38;5;241m+\u001B[39m lmda \u001B[38;5;241m*\u001B[39m W[i_pie]\n\u001B[1;32m     21\u001B[0m     W[i_pie] \u001B[38;5;241m=\u001B[39m lr \u001B[38;5;241m*\u001B[39m delta_Wi\n\u001B[1;32m     22\u001B[0m \u001B[38;5;66;03m#update \u001B[39;00m\n",
      "Cell \u001B[0;32mIn[4], line 1\u001B[0m, in \u001B[0;36mI_u_except_i\u001B[0;34m(u, i)\u001B[0m\n\u001B[0;32m----> 1\u001B[0m \u001B[38;5;28;01mdef\u001B[39;00m \u001B[38;5;21mI_u_except_i\u001B[39m(u, i):\n\u001B[1;32m      2\u001B[0m     Items_u_except_i \u001B[38;5;241m=\u001B[39m I_u[u]\u001B[38;5;241m.\u001B[39mcopy()\n\u001B[1;32m      3\u001B[0m     \u001B[38;5;28;01mif\u001B[39;00m i \u001B[38;5;129;01min\u001B[39;00m Items_u_except_i:\n",
      "\u001B[0;31mKeyboardInterrupt\u001B[0m: "
     ]
    }
   ],
   "execution_count": 7
  },
  {
   "metadata": {},
   "cell_type": "code",
   "outputs": [],
   "execution_count": null,
   "source": [
    "#test\n",
    "I_u_preferred = {}\n",
    "U_te = set()\n",
    "for index, row in u1_test.iterrows():\n",
    "    user_id = row['uid'] - 1\n",
    "    item_id = row['iid'] - 1\n",
    "    rating = row['rate']\n",
    "    if rating >= 4:\n",
    "        if user_id not in I_u_preferred:\n",
    "            I_u_preferred[user_id] = set()\n",
    "        I_u_preferred[user_id].add(item_id)\n",
    "        U_te.add(user_id)"
   ],
   "id": "46615fd2e1a3b675"
  },
  {
   "metadata": {},
   "cell_type": "code",
   "outputs": [],
   "execution_count": null,
   "source": [
    "#用户u未评价过的物品集\n",
    "def I_unob_u(user_id):\n",
    "    return np.where(y_ui[user_id] == 0)[0]"
   ],
   "id": "5352c80669e58a04"
  },
  {
   "metadata": {},
   "cell_type": "code",
   "outputs": [],
   "execution_count": null,
   "source": [
    "#为用户u推荐的物品\n",
    "def get_rec_items(u,R_HAT,k):\n",
    "    unob_items = I_unob_u(u)\n",
    "    items_pred = {i:R_HAT(u,i) for i in unob_items }\n",
    "    # 根据预测评分降序排序\n",
    "    sorted_items = sorted(items_pred.items(), key=lambda x: x[1], reverse=True)\n",
    "    # 输出前 k 个物品及其评分\n",
    "    top_k_items = sorted_items[:k]\n",
    "    return [k for k,v in top_k_items]\n"
   ],
   "id": "d342e122a1147d81"
  },
  {
   "metadata": {},
   "cell_type": "code",
   "outputs": [],
   "execution_count": null,
   "source": [
    "def Pre_at_k(R_HAT, k):\n",
    "    Pre = 0\n",
    "    for u in U_te:\n",
    "        rec_items = get_rec_items(u, R_HAT, k)\n",
    "        pre_items = I_u_preferred[u]  #用户实际喜欢项目 \n",
    "        Pre_u = len(set(rec_items).intersection(set(pre_items))) / k\n",
    "        Pre += Pre_u\n",
    "    return Pre / len(U_te)\n",
    "\n",
    "\n",
    "def Rec_at_k(R_HAT, k):\n",
    "    Rec = 0\n",
    "    for u in U_te:\n",
    "        rec_items = get_rec_items(u, R_HAT, k)\n",
    "        pre_items = I_u_preferred[u]\n",
    "        Rec_u = len(set(rec_items).intersection(set(pre_items))) / len(pre_items)\n",
    "        Rec += Rec_u\n",
    "    return Rec / len(U_te)\n",
    "\n",
    "\n",
    "def NDCG_at_k(R_HAT, k):\n",
    "    NDCG = 0\n",
    "    for u in U_te:\n",
    "        rec_items = get_rec_items(u, R_HAT, k)\n",
    "        pre_items = I_u_preferred[u]\n",
    "        DCG_u = 0\n",
    "        for pos in range(k):\n",
    "            if rec_items[pos] in pre_items:\n",
    "                DCG_u += 1 / math.log(pos + 2)\n",
    "        IDCG_u = sum(1.0 / math.log(pos + 2) for pos in range(min(len(pre_items), k)))  #Zu\n",
    "        NDCG += DCG_u / IDCG_u\n",
    "    return NDCG / len(U_te)\n"
   ],
   "id": "acf6e37116fc6f79"
  },
  {
   "metadata": {},
   "cell_type": "code",
   "outputs": [],
   "execution_count": null,
   "source": [
    "print(f\"Pre: {Pre_at_k(FISM, 5):.4f}\")\n",
    "print(f\"Rec: {Rec_at_k(FISM, 5):.4f}\")\n",
    "print(f\"NDCG: {NDCG_at_k(FISM, 5):.4f}\")"
   ],
   "id": "37eb8f39347e8bdc"
  }
 ],
 "metadata": {
  "kernelspec": {
   "display_name": "Python 3",
   "language": "python",
   "name": "python3"
  },
  "language_info": {
   "codemirror_mode": {
    "name": "ipython",
    "version": 2
   },
   "file_extension": ".py",
   "mimetype": "text/x-python",
   "name": "python",
   "nbconvert_exporter": "python",
   "pygments_lexer": "ipython2",
   "version": "2.7.6"
  }
 },
 "nbformat": 4,
 "nbformat_minor": 5
}
