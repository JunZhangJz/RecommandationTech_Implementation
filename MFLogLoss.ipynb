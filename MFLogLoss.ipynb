{
 "cells": [
  {
   "cell_type": "code",
   "id": "initial_id",
   "metadata": {
    "collapsed": true,
    "ExecuteTime": {
     "end_time": "2024-09-22T10:04:14.276880Z",
     "start_time": "2024-09-22T10:04:11.897943Z"
    }
   },
   "source": [
    "import math\n",
    "\n",
    "import pandas as pd\n",
    "import numpy as np\n",
    "import random\n",
    "\n",
    "from tqdm import tqdm\n",
    "\n",
    "#读入数据集\n",
    "u1_base = pd.read_csv('ml-100k/u1.base', sep='\\t', names=['uid', 'iid', 'rate', 'timestamp'])\n",
    "u1_test = pd.read_csv('ml-100k/u1.test', sep='\\t', names=['uid', 'iid', 'rate', 'timestamp'])\n",
    "\n",
    "#初始化\n",
    "user_num = u1_base['uid'].max()\n",
    "item_num = u1_base['iid'].max()\n",
    "\n",
    "y_ui = np.zeros((user_num, item_num), int)\n",
    "\n",
    "P = set()\n",
    "#base记录转化为matrix\n",
    "for index, row in u1_base.iterrows():\n",
    "    user_id = row['uid'] - 1\n",
    "    item_id = row['iid'] - 1\n",
    "    rating = row['rate']\n",
    "    if rating >= 4:\n",
    "        P.add((user_id, item_id))\n",
    "        y_ui[user_id, item_id] = 1\n",
    "\n",
    "R = y_ui.sum()\n",
    "#全局平均\n",
    "GlobalAverage = R / user_num / item_num\n",
    "\n",
    "#计算四个参数 user_means item_means user_bias item_bias\n",
    "y_sum_row = [sum(row) for row in y_ui]\n",
    "\n",
    "y_sum_col = [sum(column) for column in zip(*y_ui)]\n",
    "\n",
    "user_bias = []\n",
    "for i in range(user_num):\n",
    "    if y_sum_row[i] == 0:\n",
    "        user_bias.append(0)\n",
    "    else:\n",
    "        sum_bias = 0\n",
    "        for j in range(item_num):\n",
    "            sum_bias += y_ui[i][j]\n",
    "        user_bias.append(sum_bias / item_num - GlobalAverage)\n",
    "\n",
    "item_bias = []\n",
    "for i in range(item_num):\n",
    "    if y_sum_col[i] == 0:\n",
    "        item_bias.append(0)\n",
    "    else:\n",
    "        sum_bias = 0\n",
    "        for j in range(user_num):\n",
    "            sum_bias += y_ui[j][i]\n",
    "        item_bias.append(sum_bias / user_num - GlobalAverage)\n",
    "\n",
    "ui_set_unob = set(zip(*np.where(y_ui == 0)))"
   ],
   "outputs": [],
   "execution_count": 9
  },
  {
   "metadata": {
    "ExecuteTime": {
     "end_time": "2024-09-22T10:04:14.301887Z",
     "start_time": "2024-09-22T10:04:14.291504Z"
    }
   },
   "cell_type": "code",
   "source": [
    "P_size = len(P)\n",
    "rho = 3\n",
    "A_size = rho * P_size\n",
    "\n",
    "lr = 0.01\n",
    "d = 20\n",
    "lmda = 0.001\n",
    "T = 100\n",
    "\n",
    "U = np.random.rand(user_num, d)\n",
    "V = np.random.rand(item_num, d)\n",
    "U = (U - 0.5) * 0.01\n",
    "V = (V - 0.5) * 0.01\n"
   ],
   "id": "5f1abf377865218d",
   "outputs": [],
   "execution_count": 10
  },
  {
   "metadata": {
    "ExecuteTime": {
     "end_time": "2024-09-22T10:04:16.246579Z",
     "start_time": "2024-09-22T10:04:16.244160Z"
    }
   },
   "cell_type": "code",
   "source": [
    "def MF(u, i):\n",
    "    return user_bias[u] + item_bias[i] + np.dot(U[u], V[i])"
   ],
   "id": "2556ed4427023e87",
   "outputs": [],
   "execution_count": 11
  },
  {
   "metadata": {
    "ExecuteTime": {
     "end_time": "2024-09-22T10:06:42.731950Z",
     "start_time": "2024-09-22T10:04:19.901231Z"
    }
   },
   "cell_type": "code",
   "source": [
    "S_list = list(ui_set_unob)\n",
    "for t in range(T):\n",
    "    A = random.sample(S_list, A_size)\n",
    "    P_union_A = set(P).union(A)\n",
    "    for i in tqdm(P_union_A, desc=f\"Epoch {t + 1}/{T}\", leave=False):\n",
    "        user_id = i[0]\n",
    "        item_id = i[1]\n",
    "        r_hat = MF(user_id, item_id)\n",
    "        r_ui = 1 if i in P else -1 \n",
    "\n",
    "        e_ui = r_ui / (1 + np.exp(r_ui * r_hat))\n",
    "\n",
    "        delta_bu = -e_ui + lmda * user_bias[user_id]\n",
    "        delta_bi = -e_ui + lmda * item_bias[item_id]\n",
    "        delta_Vi = -e_ui * U[user_id] + lmda * V[item_id]\n",
    "        delta_Uu = -e_ui * V[item_id] + lmda * U[user_id]\n",
    "        \n",
    "        user_bias[user_id] -= lr * delta_bu\n",
    "        item_bias[item_id] -= lr * delta_bi\n",
    "        V[item_id] -= lr * delta_Vi\n",
    "        U[user_id] -= lr * delta_Uu"
   ],
   "id": "3e9228e1ce91f457",
   "outputs": [
    {
     "name": "stderr",
     "output_type": "stream",
     "text": [
      "                                                                          \r"
     ]
    }
   ],
   "execution_count": 12
  },
  {
   "metadata": {
    "ExecuteTime": {
     "end_time": "2024-09-22T10:06:45.491614Z",
     "start_time": "2024-09-22T10:06:45.181244Z"
    }
   },
   "cell_type": "code",
   "source": [
    "#test\n",
    "I_u_preferred = {}\n",
    "U_te = set()\n",
    "for index, row in u1_test.iterrows():\n",
    "    user_id = row['uid'] - 1\n",
    "    item_id = row['iid'] - 1\n",
    "    rating = row['rate']\n",
    "    if rating >= 4:\n",
    "        if user_id not in I_u_preferred:\n",
    "            I_u_preferred[user_id] = set()\n",
    "        I_u_preferred[user_id].add(item_id)\n",
    "        U_te.add(user_id)"
   ],
   "id": "91442123f3576ee7",
   "outputs": [],
   "execution_count": 13
  },
  {
   "metadata": {
    "ExecuteTime": {
     "end_time": "2024-09-22T10:06:47.702835Z",
     "start_time": "2024-09-22T10:06:47.698983Z"
    }
   },
   "cell_type": "code",
   "source": [
    "#用户u未评价过的物品集\n",
    "def I_unob_u(user_id):\n",
    "    return np.where(y_ui[user_id] == 0)[0]"
   ],
   "id": "9a0d96de61b0f73b",
   "outputs": [],
   "execution_count": 14
  },
  {
   "metadata": {
    "ExecuteTime": {
     "end_time": "2024-09-22T10:06:47.710507Z",
     "start_time": "2024-09-22T10:06:47.707805Z"
    }
   },
   "cell_type": "code",
   "source": [
    "#为用户u推荐的物品\n",
    "def get_rec_items(u,R_HAT,k):\n",
    "    unob_items = I_unob_u(u)\n",
    "    items_pred = {i:R_HAT(u,i) for i in unob_items }\n",
    "    # 根据预测评分降序排序\n",
    "    sorted_items = sorted(items_pred.items(), key=lambda x: x[1], reverse=True)\n",
    "    # 输出前 k 个物品及其评分\n",
    "    top_k_items = sorted_items[:k]\n",
    "    return [k for k,v in top_k_items]\n"
   ],
   "id": "70e4477d1e666699",
   "outputs": [],
   "execution_count": 15
  },
  {
   "metadata": {
    "ExecuteTime": {
     "end_time": "2024-09-22T10:06:49.624971Z",
     "start_time": "2024-09-22T10:06:49.618981Z"
    }
   },
   "cell_type": "code",
   "source": [
    "def Pre_at_k(R_HAT, k):\n",
    "    Pre = 0\n",
    "    for u in U_te:\n",
    "        rec_items = get_rec_items(u, R_HAT, k)\n",
    "        pre_items = I_u_preferred[u]  #用户实际喜欢项目 \n",
    "        Pre_u = len(set(rec_items).intersection(set(pre_items))) / k\n",
    "        Pre += Pre_u\n",
    "    return Pre / len(U_te)\n",
    "\n",
    "\n",
    "def Rec_at_k(R_HAT, k):\n",
    "    Rec = 0\n",
    "    for u in U_te:\n",
    "        rec_items = get_rec_items(u, R_HAT, k)\n",
    "        pre_items = I_u_preferred[u]\n",
    "        Rec_u = len(set(rec_items).intersection(set(pre_items))) / len(pre_items)\n",
    "        Rec += Rec_u\n",
    "    return Rec / len(U_te)\n",
    "\n",
    "\n",
    "def NDCG_at_k(R_HAT, k):\n",
    "    NDCG = 0\n",
    "    for u in U_te:\n",
    "        rec_items = get_rec_items(u, R_HAT, k)\n",
    "        pre_items = I_u_preferred[u]\n",
    "        DCG_u = 0\n",
    "        for pos in range(k):\n",
    "            if rec_items[pos] in pre_items:\n",
    "                DCG_u += 1 / math.log(pos + 2)\n",
    "        IDCG_u = sum(1.0 / math.log(pos + 2) for pos in range(min(len(pre_items), k)))  #Zu\n",
    "        NDCG += DCG_u / IDCG_u\n",
    "    return NDCG / len(U_te)\n"
   ],
   "id": "3b0e0798b71c65bd",
   "outputs": [],
   "execution_count": 16
  },
  {
   "metadata": {
    "ExecuteTime": {
     "end_time": "2024-09-22T10:06:53.662148Z",
     "start_time": "2024-09-22T10:06:51.437230Z"
    }
   },
   "cell_type": "code",
   "source": [
    "print(f\"Pre: {Pre_at_k(MF, 5):.4f}\")\n",
    "print(f\"Rec: {Rec_at_k(MF, 5):.4f}\")\n",
    "print(f\"NDCG: {NDCG_at_k(MF, 5):.4f}\")"
   ],
   "id": "c7acc17948d8fbe3",
   "outputs": [
    {
     "name": "stdout",
     "output_type": "stream",
     "text": [
      "Pre: 0.4101\n",
      "Rec: 0.1327\n",
      "NDCG: 0.4434\n"
     ]
    }
   ],
   "execution_count": 17
  },
  {
   "metadata": {},
   "cell_type": "code",
   "outputs": [],
   "execution_count": null,
   "source": "",
   "id": "c526114dbf78e20e"
  }
 ],
 "metadata": {
  "kernelspec": {
   "display_name": "Python 3",
   "language": "python",
   "name": "python3"
  },
  "language_info": {
   "codemirror_mode": {
    "name": "ipython",
    "version": 2
   },
   "file_extension": ".py",
   "mimetype": "text/x-python",
   "name": "python",
   "nbconvert_exporter": "python",
   "pygments_lexer": "ipython2",
   "version": "2.7.6"
  }
 },
 "nbformat": 4,
 "nbformat_minor": 5
}
