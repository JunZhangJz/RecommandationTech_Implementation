{
 "cells": [
  {
   "cell_type": "code",
   "execution_count": 77,
   "id": "initial_id",
   "metadata": {
    "collapsed": true,
    "ExecuteTime": {
     "end_time": "2024-08-07T11:28:08.638605Z",
     "start_time": "2024-08-07T11:28:05.856919Z"
    }
   },
   "outputs": [],
   "source": [
    "import random\n",
    "from collections import defaultdict\n",
    "import pandas as pd\n",
    "import numpy as np\n",
    "\n",
    "#读入数据集\n",
    "ua_base = pd.read_csv('ml-100k/ua.base', sep='\\t', names=['uid', 'iid', 'rate', 'timestamp'])\n",
    "ua_test = pd.read_csv('ml-100k/ua.test', sep='\\t', names=['uid', 'iid', 'rate', 'timestamp'])\n",
    "\n",
    "\n",
    "#定义误差函数\n",
    "def ERR(test):\n",
    "    cnt = 0\n",
    "    abs_err = 0\n",
    "    squ_err = 0\n",
    "\n",
    "    for index, row in test.iterrows():\n",
    "        user_id = row['uid'] - 1\n",
    "        item_id = row['iid'] - 1\n",
    "        true_rating = row['rate']\n",
    "\n",
    "        predicted_rating = R_HAT(user_id, item_id, U, V, W, user_bias, item_bias, miu)\n",
    "        if predicted_rating > 5:\n",
    "            predicted_rating = 5\n",
    "        if predicted_rating < 1:\n",
    "            predicted_rating = 1\n",
    "\n",
    "            # 计算绝对误差/平方误差\n",
    "        absolute_error = abs(predicted_rating - true_rating)\n",
    "        abs_err += absolute_error\n",
    "\n",
    "        square_error = pow(predicted_rating - true_rating, 2)\n",
    "        squ_err += square_error\n",
    "\n",
    "        cnt += 1\n",
    "    # 计算平均绝对误差/平方误差\n",
    "    mae = abs_err / cnt\n",
    "    rmse = (squ_err / cnt) ** 0.5\n",
    "    return mae, rmse\n",
    "\n",
    "\n",
    "#初始化\n",
    "user_num = ua_base['uid'].max()\n",
    "item_num = ua_base['iid'].max()\n",
    "\n",
    "rating_matrix = np.zeros((user_num, item_num), float)\n",
    "y_ui = np.zeros((user_num, item_num), int)\n",
    "\n",
    "#base记录转化为matrix\n",
    "for index, row in ua_base.iterrows():\n",
    "    user_id = row['uid']\n",
    "    item_id = row['iid']\n",
    "    rating = row['rate']\n",
    "    rating_matrix[user_id - 1, item_id - 1] = rating\n",
    "    y_ui[user_id - 1, item_id - 1] = 1\n",
    "\n",
    "#全局平均\n",
    "GlobalAverage = rating_matrix.sum() / y_ui.sum()\n",
    "\n",
    "#计算四个参数 user_means item_means user_bias item_bias\n",
    "rating_sum_row = [sum(row) for row in rating_matrix]\n",
    "y_sum_row = [sum(row) for row in y_ui]\n",
    "\n",
    "rating_sum_col = [sum(column) for column in zip(*rating_matrix)]\n",
    "y_sum_col = [sum(column) for column in zip(*y_ui)]\n",
    "\n",
    "user_means = []\n",
    "for i in range(user_num):\n",
    "    if y_sum_row[i] == 0:\n",
    "        user_means.append(GlobalAverage)\n",
    "    else:\n",
    "        user_means.append(rating_sum_row[i] / y_sum_row[i])\n",
    "\n",
    "item_means = []\n",
    "for i in range(item_num):\n",
    "    if y_sum_col[i] == 0:\n",
    "        item_means.append(GlobalAverage)\n",
    "    else:\n",
    "        item_means.append(rating_sum_col[i] / y_sum_col[i])\n",
    "\n",
    "user_bias = []\n",
    "for i in range(user_num):\n",
    "    if y_sum_row[i] == 0:\n",
    "        user_bias.append(0)\n",
    "    else:\n",
    "        sum_bias = 0\n",
    "        for j in range(item_num):\n",
    "            sum_bias += y_ui[i][j] * (rating_matrix[i][j] - GlobalAverage)\n",
    "        user_bias.append(sum_bias / y_sum_row[i])\n",
    "\n",
    "item_bias = []\n",
    "for i in range(item_num):\n",
    "    if y_sum_col[i] == 0:\n",
    "        item_bias.append(0)\n",
    "    else:\n",
    "        sum_bias = 0\n",
    "        for j in range(user_num):\n",
    "            sum_bias += y_ui[j][i] * (rating_matrix[j][i] - GlobalAverage)\n",
    "        item_bias.append(sum_bias / y_sum_col[i])"
   ]
  },
  {
   "cell_type": "code",
   "execution_count": 78,
   "outputs": [],
   "source": [
    "ua_base_num = len(ua_base)\n",
    "ua_base_num_half = int(ua_base_num / 2)\n",
    "indices = list(range(ua_base_num))\n",
    "random.shuffle(indices)\n",
    "\n",
    "ua_implicit = defaultdict(list)\n",
    "ua_explicit = np.zeros((ua_base_num_half, ua_base_num_half), float)\n",
    "\n",
    "for r in range(ua_base_num_half):\n",
    "    row = ua_base.iloc[indices[r]]\n",
    "    user_id = row['uid'] - 1\n",
    "    item_id = row['iid'] - 1\n",
    "    ua_implicit[user_id].append(item_id)"
   ],
   "metadata": {
    "collapsed": false,
    "ExecuteTime": {
     "end_time": "2024-08-07T11:28:09.247889Z",
     "start_time": "2024-08-07T11:28:08.701756Z"
    }
   },
   "id": "36d2df59a2cc9f87"
  },
  {
   "cell_type": "code",
   "execution_count": 79,
   "outputs": [],
   "source": [
    "alpha_u = alpha_v = alpha_w = beta_u = beta_v = 0.01\n",
    "lr = 0.01\n",
    "d = 20\n",
    "epoch = 100\n",
    "\n",
    "U = np.random.rand(user_num, d)\n",
    "V = np.random.rand(item_num, d)\n",
    "W = np.random.rand(item_num, d)\n",
    "U = (U - 0.5) * 0.01\n",
    "V = (V - 0.5) * 0.01\n",
    "W = (W - 0.5) * 0.01\n",
    "miu = GlobalAverage"
   ],
   "metadata": {
    "collapsed": false,
    "ExecuteTime": {
     "end_time": "2024-08-07T11:28:09.252245Z",
     "start_time": "2024-08-07T11:28:09.249108Z"
    }
   },
   "id": "1cb583b29c898bb4"
  },
  {
   "cell_type": "code",
   "execution_count": 80,
   "outputs": [],
   "source": [
    "def U_Tilde_u(u, W):\n",
    "    I_tilde_u = ua_implicit[u]\n",
    "    U_tilde_u = np.zeros(d, float)\n",
    "    for i_pie in I_tilde_u:\n",
    "        U_tilde_u += W[i_pie]\n",
    "    U_tilde_u /= len(I_tilde_u) ** 0.5\n",
    "    return U_tilde_u"
   ],
   "metadata": {
    "collapsed": false,
    "ExecuteTime": {
     "end_time": "2024-08-07T11:28:09.256764Z",
     "start_time": "2024-08-07T11:28:09.252613Z"
    }
   },
   "id": "9fd5a10f36a35b71"
  },
  {
   "cell_type": "code",
   "execution_count": 81,
   "outputs": [],
   "source": [
    "def R_HAT(u, i, U, V, W, bu, bi, miu):\n",
    "    U_tilde_u = U_Tilde_u(u, W)\n",
    "    return U[u] @ V[i].T + U_tilde_u @ V[i].T + bu[u] + bi[i] + miu"
   ],
   "metadata": {
    "collapsed": false,
    "ExecuteTime": {
     "end_time": "2024-08-07T11:28:09.262125Z",
     "start_time": "2024-08-07T11:28:09.256293Z"
    }
   },
   "id": "491d5f30bfd0f668"
  },
  {
   "cell_type": "code",
   "execution_count": 82,
   "outputs": [
    {
     "name": "stdout",
     "output_type": "stream",
     "text": [
      "100:45285"
     ]
    }
   ],
   "source": [
    "for t in range(epoch):\n",
    "    for n in range(ua_base_num_half, ua_base_num):\n",
    "        print(f'\\r{t + 1}:{n - ua_base_num_half + 1}', end='')\n",
    "        row = ua_base.iloc[indices[n]]\n",
    "        user_id = row['uid'] - 1\n",
    "        item_id = row['iid'] - 1\n",
    "        rating = row['rate']\n",
    "\n",
    "        e_ui = rating - R_HAT(user_id, item_id, U, V, W, user_bias, item_bias, miu)\n",
    "        #计算梯度\n",
    "\n",
    "        delta_Uu = -e_ui * V[item_id] + alpha_u * U[user_id]\n",
    "        delta_Vi = -e_ui * (U[user_id] + U_Tilde_u(user_id, W)) + alpha_v * V[item_id]\n",
    "        delta_bu = -e_ui + beta_u * user_bias[user_id]\n",
    "        delta_bi = -e_ui + beta_v * item_bias[item_id]\n",
    "        delta_miu = -e_ui\n",
    "\n",
    "        for i_pie in ua_implicit[user_id]:\n",
    "            if len(ua_implicit[user_id]) == 0:\n",
    "                continue\n",
    "            delta_W = -e_ui / len(ua_implicit[user_id]) * V[item_id] + alpha_w * W[i_pie]\n",
    "            #update \n",
    "            W[i_pie] -= lr * delta_W\n",
    "\n",
    "        miu -= lr * delta_miu\n",
    "        user_bias[user_id] -= lr * delta_bu\n",
    "        item_bias[item_id] -= lr * delta_bi\n",
    "        U[user_id] -= lr * delta_Uu\n",
    "        V[item_id] -= lr * delta_Vi\n",
    "    lr *= 0.9"
   ],
   "metadata": {
    "collapsed": false,
    "ExecuteTime": {
     "end_time": "2024-08-07T11:53:57.111219Z",
     "start_time": "2024-08-07T11:28:09.260498Z"
    }
   },
   "id": "cfb209cc9a78547f"
  },
  {
   "cell_type": "code",
   "execution_count": 83,
   "outputs": [
    {
     "name": "stdout",
     "output_type": "stream",
     "text": [
      "(RMSE:0.9736,MAE:0.7671)\n"
     ]
    }
   ],
   "source": [
    "mae, rmse = ERR(ua_test)\n",
    "print(f'(RMSE:{rmse:.4f},MAE:{mae:.4f})')  "
   ],
   "metadata": {
    "collapsed": false,
    "ExecuteTime": {
     "end_time": "2024-08-07T11:53:57.419382Z",
     "start_time": "2024-08-07T11:53:57.153408Z"
    }
   },
   "id": "30a1b4624e1f9889"
  },
  {
   "cell_type": "code",
   "execution_count": 85,
   "outputs": [],
   "source": [],
   "metadata": {
    "collapsed": false,
    "ExecuteTime": {
     "end_time": "2024-08-07T11:53:57.950688Z",
     "start_time": "2024-08-07T11:53:57.947402Z"
    }
   },
   "id": "afbf99652856341e"
  }
 ],
 "metadata": {
  "kernelspec": {
   "display_name": "Python 3",
   "language": "python",
   "name": "python3"
  },
  "language_info": {
   "codemirror_mode": {
    "name": "ipython",
    "version": 2
   },
   "file_extension": ".py",
   "mimetype": "text/x-python",
   "name": "python",
   "nbconvert_exporter": "python",
   "pygments_lexer": "ipython2",
   "version": "2.7.6"
  }
 },
 "nbformat": 4,
 "nbformat_minor": 5
}
