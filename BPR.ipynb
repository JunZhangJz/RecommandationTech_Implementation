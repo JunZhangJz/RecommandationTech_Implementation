{
 "cells": [
  {
   "cell_type": "code",
   "id": "initial_id",
   "metadata": {
    "collapsed": true,
    "ExecuteTime": {
     "end_time": "2024-09-13T09:53:13.493057Z",
     "start_time": "2024-09-13T09:53:11.924779Z"
    }
   },
   "source": [
    "import math\n",
    "\n",
    "import pandas as pd\n",
    "import numpy as np\n",
    "import random\n",
    "\n",
    "from tqdm import tqdm\n",
    "\n",
    "#读入数据集\n",
    "u1_base = pd.read_csv('ml-100k/u1.base', sep='\\t', names=['uid', 'iid', 'rate', 'timestamp'])\n",
    "u1_test = pd.read_csv('ml-100k/u1.test', sep='\\t', names=['uid', 'iid', 'rate', 'timestamp'])\n",
    "\n",
    "#初始化\n",
    "user_num = u1_base['uid'].max()\n",
    "item_num = u1_base['iid'].max()\n",
    "\n",
    "y_ui = np.zeros((user_num, item_num), int)\n",
    "\n",
    "ui_set = set()\n",
    "#base记录转化为matrix\n",
    "for index, row in u1_base.iterrows():\n",
    "    user_id = row['uid'] - 1\n",
    "    item_id = row['iid'] - 1\n",
    "    rating = row['rate']\n",
    "    if rating>=4:\n",
    "        ui_set.add((user_id,item_id))\n",
    "        y_ui[user_id, item_id] = 1\n",
    "\n",
    "R = y_ui.sum()\n",
    "#全局平均\n",
    "GlobalAverage = R / user_num/item_num\n",
    "\n",
    "#计算四个参数 user_means item_means user_bias item_bias\n",
    "y_sum_row = [sum(row) for row in y_ui]\n",
    "\n",
    "y_sum_col = [sum(column) for column in zip(*y_ui)]\n",
    "\n",
    "item_bias = []\n",
    "for i in range(item_num):\n",
    "    if y_sum_col[i] == 0:\n",
    "        item_bias.append(0)\n",
    "    else:\n",
    "        sum_bias = 0\n",
    "        for j in range(user_num):\n",
    "            sum_bias += y_ui[j][i]\n",
    "        item_bias.append(sum_bias / user_num - GlobalAverage)\n"
   ],
   "outputs": [],
   "execution_count": 69
  },
  {
   "metadata": {
    "ExecuteTime": {
     "end_time": "2024-09-13T09:53:13.499695Z",
     "start_time": "2024-09-13T09:53:13.497571Z"
    }
   },
   "cell_type": "code",
   "source": [
    "#用户u未评价过的物品集\n",
    "def I_unob_u(user_id):\n",
    "    return np.where(y_ui[user_id] == 0)[0]\n",
    "def sample_item_unob(user_id):\n",
    "    unob_items = I_unob_u(user_id)\n",
    "    if len(unob_items)>0:\n",
    "        return np.random.choice(unob_items)\n",
    "    else:\n",
    "        return -1"
   ],
   "id": "17e59e122c8ce1be",
   "outputs": [],
   "execution_count": 70
  },
  {
   "metadata": {
    "ExecuteTime": {
     "end_time": "2024-09-13T09:53:13.542379Z",
     "start_time": "2024-09-13T09:53:13.539815Z"
    }
   },
   "cell_type": "code",
   "source": [
    "def sigmoid(x):\n",
    "    return 1 / (1 + math.exp(-x))"
   ],
   "id": "3443dd07ac956c37",
   "outputs": [],
   "execution_count": 71
  },
  {
   "metadata": {
    "ExecuteTime": {
     "end_time": "2024-09-13T09:53:13.580616Z",
     "start_time": "2024-09-13T09:53:13.578806Z"
    }
   },
   "cell_type": "code",
   "source": [
    "def BPR(u,i):\n",
    "    return np.dot(U[u], V[i]) + item_bias[i]"
   ],
   "id": "9e0c19f8f54336aa",
   "outputs": [],
   "execution_count": 72
  },
  {
   "metadata": {
    "ExecuteTime": {
     "end_time": "2024-09-13T09:53:13.628433Z",
     "start_time": "2024-09-13T09:53:13.620727Z"
    }
   },
   "cell_type": "code",
   "source": [
    "T = 500\n",
    "lr = 0.01\n",
    "lmda = 0.01\n",
    "\n",
    "d = 20\n",
    "U = np.random.rand(user_num, d)\n",
    "V = np.random.rand(item_num, d)\n",
    "U = (U - 0.5) * 0.01\n",
    "V = (V - 0.5) * 0.01"
   ],
   "id": "a8c9057d12b0fb3f",
   "outputs": [],
   "execution_count": 73
  },
  {
   "metadata": {
    "ExecuteTime": {
     "end_time": "2024-09-13T10:00:42.252552Z",
     "start_time": "2024-09-13T09:53:13.663878Z"
    }
   },
   "cell_type": "code",
   "source": [
    "S_list = list(ui_set)\n",
    "for t in range(T):\n",
    "    for i in tqdm(range(R),desc=f\"Epoch {t+1}/{T}\",leave=False):\n",
    "        sampled_ui = random.sample(S_list, 1)[0]\n",
    "        user_id = sampled_ui[0]\n",
    "        item_id = sampled_ui[1]\n",
    "        unlike_item = sample_item_unob(user_id)\n",
    "        \n",
    "        r_uij = BPR(user_id,item_id)-BPR(user_id,unlike_item)\n",
    "        e = -sigmoid(-r_uij)\n",
    "        \n",
    "        delta_Uu = e * (V[item_id]-V[unlike_item]) + lmda * U[user_id]\n",
    "        delta_Vi = e * U[user_id] + lmda * V[item_id]\n",
    "        delta_Vj = e * (-U[user_id]) + lmda * V[unlike_item]\n",
    "        delta_bi = e + lmda * item_bias[item_id]\n",
    "        delta_bj = -e + lmda * item_bias[unlike_item]\n",
    "        #update \n",
    "\n",
    "        U[user_id] -= lr * delta_Uu\n",
    "        V[item_id] -= lr * delta_Vi\n",
    "        V[unlike_item] -= lr * delta_Vj\n",
    "        item_bias[item_id] -= lr * delta_bi\n",
    "        item_bias[unlike_item] -= lr * delta_bj"
   ],
   "id": "e599e94c39885b16",
   "outputs": [
    {
     "name": "stderr",
     "output_type": "stream",
     "text": [
      "                                                                       \r"
     ]
    }
   ],
   "execution_count": 74
  },
  {
   "metadata": {
    "ExecuteTime": {
     "end_time": "2024-09-13T10:00:42.583490Z",
     "start_time": "2024-09-13T10:00:42.293127Z"
    }
   },
   "cell_type": "code",
   "source": [
    "#test\n",
    "I_u_preferred = {}\n",
    "U_te = set()\n",
    "for index, row in u1_test.iterrows():\n",
    "    user_id = row['uid'] - 1\n",
    "    item_id = row['iid'] - 1\n",
    "    rating = row['rate']\n",
    "    if rating >= 4:\n",
    "        if user_id not in I_u_preferred:\n",
    "            I_u_preferred[user_id] = set()\n",
    "        I_u_preferred[user_id].add(item_id)\n",
    "        U_te.add(user_id)"
   ],
   "id": "a976330b6ac7eaf4",
   "outputs": [],
   "execution_count": 75
  },
  {
   "metadata": {
    "ExecuteTime": {
     "end_time": "2024-09-13T10:00:42.621607Z",
     "start_time": "2024-09-13T10:00:42.619195Z"
    }
   },
   "cell_type": "code",
   "source": [
    "#为用户u推荐的物品\n",
    "def get_rec_items(u,R_HAT,k):\n",
    "    unob_items = I_unob_u(u)\n",
    "    items_pred = {i:R_HAT(u,i) for i in unob_items }\n",
    "    # 根据预测评分降序排序\n",
    "    sorted_items = sorted(items_pred.items(), key=lambda x: x[1], reverse=True)\n",
    "    # 输出前 k 个物品及其评分\n",
    "    top_k_items = sorted_items[:k]\n",
    "    return [k for k,v in top_k_items]\n"
   ],
   "id": "c92589d994c41b87",
   "outputs": [],
   "execution_count": 76
  },
  {
   "metadata": {
    "ExecuteTime": {
     "end_time": "2024-09-13T10:00:42.659447Z",
     "start_time": "2024-09-13T10:00:42.654958Z"
    }
   },
   "cell_type": "code",
   "source": [
    "def Pre_at_k(R_HAT, k):\n",
    "    Pre = 0\n",
    "    for u in U_te:\n",
    "        rec_items = get_rec_items(u, R_HAT, k)\n",
    "        pre_items = I_u_preferred[u]  #用户实际喜欢项目 \n",
    "        Pre_u = len(set(rec_items).intersection(set(pre_items))) / k\n",
    "        Pre += Pre_u\n",
    "    return Pre / len(U_te)\n",
    "\n",
    "\n",
    "def Rec_at_k(R_HAT, k):\n",
    "    Rec = 0\n",
    "    for u in U_te:\n",
    "        rec_items = get_rec_items(u, R_HAT, k)\n",
    "        pre_items = I_u_preferred[u]\n",
    "        Rec_u = len(set(rec_items).intersection(set(pre_items))) / len(pre_items)\n",
    "        Rec += Rec_u\n",
    "    return Rec / len(U_te)\n",
    "\n",
    "\n",
    "def NDCG_at_k(R_HAT, k):\n",
    "    NDCG = 0\n",
    "    for u in U_te:\n",
    "        rec_items = get_rec_items(u, R_HAT, k)\n",
    "        pre_items = I_u_preferred[u]\n",
    "        DCG_u = 0\n",
    "        for pos in range(k):\n",
    "            if rec_items[pos] in pre_items:\n",
    "                DCG_u += 1 / math.log(pos + 2)\n",
    "        IDCG_u = sum(1.0 / math.log(pos + 2) for pos in range(min(len(pre_items), k)))  #Zu\n",
    "        NDCG += DCG_u / IDCG_u\n",
    "    return NDCG / len(U_te)\n"
   ],
   "id": "22ed5c3af6d1f191",
   "outputs": [],
   "execution_count": 77
  },
  {
   "metadata": {
    "ExecuteTime": {
     "end_time": "2024-09-13T10:01:05.250220Z",
     "start_time": "2024-09-13T10:01:03.017138Z"
    }
   },
   "cell_type": "code",
   "source": [
    "print(f\"Pre: {Pre_at_k(BPR, 5):.4f}\")\n",
    "print(f\"Rec: {Rec_at_k(BPR, 5):.4f}\")\n",
    "print(f\"NDCG: {NDCG_at_k(BPR, 5):.4f}\")"
   ],
   "id": "7a6d824534638a65",
   "outputs": [
    {
     "name": "stdout",
     "output_type": "stream",
     "text": [
      "Pre: 0.3816\n",
      "Rec: 0.1177\n",
      "NDCG: 0.4058\n"
     ]
    }
   ],
   "execution_count": 79
  },
  {
   "metadata": {},
   "cell_type": "code",
   "outputs": [],
   "execution_count": null,
   "source": "",
   "id": "675a5948b72f0f22"
  }
 ],
 "metadata": {
  "kernelspec": {
   "display_name": "Python 3",
   "language": "python",
   "name": "python3"
  },
  "language_info": {
   "codemirror_mode": {
    "name": "ipython",
    "version": 2
   },
   "file_extension": ".py",
   "mimetype": "text/x-python",
   "name": "python",
   "nbconvert_exporter": "python",
   "pygments_lexer": "ipython2",
   "version": "2.7.6"
  }
 },
 "nbformat": 4,
 "nbformat_minor": 5
}
