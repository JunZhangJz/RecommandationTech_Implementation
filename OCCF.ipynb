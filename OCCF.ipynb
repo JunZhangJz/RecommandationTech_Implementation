{
 "cells": [
  {
   "cell_type": "code",
   "id": "initial_id",
   "metadata": {
    "collapsed": true,
    "ExecuteTime": {
     "end_time": "2024-09-12T05:21:36.725431Z",
     "start_time": "2024-09-12T05:21:33.733957Z"
    }
   },
   "source": [
    "import pandas as pd\n",
    "import numpy as np\n",
    "\n",
    "#读入数据集\n",
    "u1_base = pd.read_csv('ml-100k/u1.base', sep='\\t', names=['uid', 'iid', 'rate', 'timestamp'])\n",
    "u1_test = pd.read_csv('ml-100k/u1.test', sep='\\t', names=['uid', 'iid', 'rate', 'timestamp'])\n",
    "\n",
    "#初始化\n",
    "user_num = u1_base['uid'].max()\n",
    "item_num = u1_base['iid'].max()\n",
    "\n",
    "rating_matrix = np.zeros((user_num, item_num), float)\n",
    "y_ui = np.zeros((user_num, item_num), int)\n",
    "\n",
    "#base记录转化为matrix\n",
    "import math\n",
    "\n",
    "import pandas as pd\n",
    "import numpy as np\n",
    "import random\n",
    "\n",
    "#读入数据集\n",
    "u1_base = pd.read_csv('ml-100k/u1.base', sep='\\t', names=['uid', 'iid', 'rate', 'timestamp'])\n",
    "u1_test = pd.read_csv('ml-100k/u1.test', sep='\\t', names=['uid', 'iid', 'rate', 'timestamp'])\n",
    "\n",
    "#初始化\n",
    "user_num = u1_base['uid'].max()\n",
    "item_num = u1_base['iid'].max()\n",
    "\n",
    "rating_matrix = np.zeros((user_num, item_num), float)\n",
    "y_ui = np.zeros((user_num, item_num), int)\n",
    "\n",
    "I_u = {}\n",
    "U_i = {}\n",
    "#base记录转化为matrix\n",
    "for index, row in u1_base.iterrows():\n",
    "    user_id = row['uid'] - 1\n",
    "    item_id = row['iid'] - 1\n",
    "    rating = row['rate']\n",
    "    if rating >= 4:\n",
    "        rating_matrix[user_id, item_id] = rating\n",
    "        y_ui[user_id, item_id] = 1\n",
    "        if user_id not in I_u:\n",
    "            I_u[user_id] = set()\n",
    "        I_u[user_id].add(item_id)\n",
    "        if item_id not in U_i:\n",
    "            U_i[item_id] = set()\n",
    "        U_i[item_id].add(user_id)\n",
    "\n",
    "I_u_preferred = {}\n",
    "U_te = set()\n",
    "for index, row in u1_test.iterrows():\n",
    "    user_id = row['uid'] - 1\n",
    "    item_id = row['iid'] - 1\n",
    "    rating = row['rate']\n",
    "    if rating >= 4:\n",
    "        if user_id not in I_u_preferred:\n",
    "            I_u_preferred[user_id] = set()\n",
    "        I_u_preferred[user_id].add(item_id)\n",
    "        U_te.add(user_id)\n",
    "\n",
    "import math\n",
    "\n",
    "import pandas as pd\n",
    "import numpy as np\n",
    "import random\n",
    "\n",
    "#读入数据集\n",
    "u1_base = pd.read_csv('ml-100k/u1.base', sep='\\t', names=['uid', 'iid', 'rate', 'timestamp'])\n",
    "u1_test = pd.read_csv('ml-100k/u1.test', sep='\\t', names=['uid', 'iid', 'rate', 'timestamp'])\n",
    "\n",
    "#初始化\n",
    "user_num = u1_base['uid'].max()\n",
    "item_num = u1_base['iid'].max()\n",
    "\n",
    "rating_matrix = np.zeros((user_num, item_num), float)\n",
    "y_ui = np.zeros((user_num, item_num), int)\n",
    "\n",
    "I_u = {}\n",
    "U_i = {}\n",
    "#base记录转化为matrix\n",
    "for index, row in u1_base.iterrows():\n",
    "    user_id = row['uid'] - 1\n",
    "    item_id = row['iid'] - 1\n",
    "    rating = row['rate']\n",
    "    if rating >= 4:\n",
    "        rating_matrix[user_id, item_id] = rating\n",
    "        y_ui[user_id, item_id] = 1\n",
    "        if user_id not in I_u:\n",
    "            I_u[user_id] = set()\n",
    "        I_u[user_id].add(item_id)\n",
    "        if item_id not in U_i:\n",
    "            U_i[item_id] = set()\n",
    "        U_i[item_id].add(user_id)\n",
    "\n",
    "I_u_preferred = {}\n",
    "U_te = set()\n",
    "for index, row in u1_test.iterrows():\n",
    "    user_id = row['uid'] - 1\n",
    "    item_id = row['iid'] - 1\n",
    "    rating = row['rate']\n",
    "    if rating >= 4:\n",
    "        if user_id not in I_u_preferred:\n",
    "            I_u_preferred[user_id] = set()\n",
    "        I_u_preferred[user_id].add(item_id)\n",
    "        U_te.add(user_id)\n",
    "\n",
    "#全局平均\n",
    "GlobalAverage = y_ui.sum() / user_num / item_num"
   ],
   "outputs": [],
   "execution_count": 51
  },
  {
   "metadata": {
    "ExecuteTime": {
     "end_time": "2024-09-12T05:21:36.732552Z",
     "start_time": "2024-09-12T05:21:36.730146Z"
    }
   },
   "cell_type": "code",
   "source": [
    "def I_unob_u(user_id):\n",
    "    return np.where(y_ui[user_id] == 0)[0]\n",
    "def get_rec_items(u, R_HAT, k):\n",
    "    unob_items = I_unob_u(u)\n",
    "    items_pred = {i: R_HAT(u, i) for i in unob_items}\n",
    "    # 根据预测评分降序排序\n",
    "    sorted_items = sorted(items_pred.items(), key=lambda x: x[1], reverse=True)\n",
    "    # 输出前 k 个物品及其评分\n",
    "    top_k_items = sorted_items[:k]\n",
    "    return [k for k, v in top_k_items]\n"
   ],
   "id": "741a063655432d02",
   "outputs": [],
   "execution_count": 52
  },
  {
   "metadata": {
    "ExecuteTime": {
     "end_time": "2024-09-12T05:21:36.745947Z",
     "start_time": "2024-09-12T05:21:36.741990Z"
    }
   },
   "cell_type": "code",
   "source": [
    "def Pre_at_k(R_HAT, k):\n",
    "    Pre = 0\n",
    "    for u in U_te:\n",
    "        rec_items = get_rec_items(u, R_HAT, k)\n",
    "        pre_items = I_u_preferred[u]  #用户实际喜欢项目 \n",
    "        Pre_u = len(set(rec_items).intersection(set(pre_items))) / k\n",
    "        Pre += Pre_u\n",
    "    return Pre / len(U_te)\n",
    "\n",
    "\n",
    "def Rec_at_k(R_HAT, k):\n",
    "    Rec = 0\n",
    "    for u in U_te:\n",
    "        rec_items = get_rec_items(u, R_HAT, k)\n",
    "        pre_items = I_u_preferred[u]\n",
    "        Rec_u = len(set(rec_items).intersection(set(pre_items))) / len(pre_items)\n",
    "        Rec += Rec_u\n",
    "    return Rec / len(U_te)\n",
    "\n",
    "\n",
    "def NDCG_at_k(R_HAT, k):\n",
    "    NDCG = 0\n",
    "    for u in U_te:\n",
    "        rec_items = get_rec_items(u, R_HAT, k)\n",
    "        pre_items = I_u_preferred[u]\n",
    "        DCG_u = 0\n",
    "        for pos in range(k):\n",
    "            if rec_items[pos] in pre_items:\n",
    "                DCG_u += 1 / math.log(pos + 2)\n",
    "        IDCG_u = sum(1.0 / math.log(pos + 2) for pos in range(min(len(pre_items), k)))  #Zu\n",
    "        NDCG += DCG_u / IDCG_u\n",
    "    return NDCG / len(U_te)\n"
   ],
   "id": "8c516949b6f876cf",
   "outputs": [],
   "execution_count": 53
  },
  {
   "metadata": {
    "ExecuteTime": {
     "end_time": "2024-09-12T05:21:36.758043Z",
     "start_time": "2024-09-12T05:21:36.755284Z"
    }
   },
   "cell_type": "code",
   "source": [
    "def Jaccard_Item(k,j):\n",
    "    if k not in U_i or j not in U_i:\n",
    "        return 0  # 如果 k 或 j 不在 U_i 中，返回 0\n",
    "    inter = len(U_i[k].intersection(U_i[j]))\n",
    "    uni = len(U_i[k].union(U_i[j]))\n",
    "    if uni == 0:\n",
    "        return 0\n",
    "    return inter/uni\n",
    "\n",
    "def Jaccard_User(w,u):\n",
    "    if w not in I_u or u not in I_u:\n",
    "        return 0  # 如果 k 或 j 不在 U_i 中，返回 0\n",
    "    inter = len(I_u[w].intersection(I_u[u]))\n",
    "    uni = len(I_u[w].union(I_u[u]))\n",
    "    if uni == 0:\n",
    "        return 0\n",
    "    return inter/uni\n"
   ],
   "id": "26741ad43601ef0b",
   "outputs": [],
   "execution_count": 54
  },
  {
   "metadata": {
    "ExecuteTime": {
     "end_time": "2024-09-12T05:21:40.433260Z",
     "start_time": "2024-09-12T05:21:36.767562Z"
    }
   },
   "cell_type": "code",
   "source": [
    "#item similarity\n",
    "s_kj = np.zeros((item_num, item_num), float)\n",
    "for i in range(item_num):\n",
    "    s_kj[i][i] = 1\n",
    "    for k in range(i):\n",
    "        coefficient = Jaccard_Item(i, k)\n",
    "        s_kj[i][k] = coefficient\n",
    "        s_kj[k][i] = coefficient\n",
    "        \n",
    "#user similarity\n",
    "s_wu = np.zeros((user_num, user_num), float)\n",
    "for i in range(user_num):\n",
    "    s_wu[i][i] = 1\n",
    "    for k in range(i):\n",
    "        coefficient = Jaccard_User(i, k)\n",
    "        s_wu[i][k] = coefficient\n",
    "        s_wu[k][i] = coefficient\n"
   ],
   "id": "142ab174adb934e9",
   "outputs": [],
   "execution_count": 55
  },
  {
   "metadata": {
    "ExecuteTime": {
     "end_time": "2024-09-12T05:21:40.445481Z",
     "start_time": "2024-09-12T05:21:40.441838Z"
    }
   },
   "cell_type": "code",
   "source": [
    "Kn = 50\n",
    "#select Kn neighbor\n",
    "def neighbor_k_item(i):\n",
    "    neighbors = np.where(s_kj[i] != 0)[0]\n",
    "    neighbors = neighbors[neighbors!=i]\n",
    "    neighbors_with_coef = [(neighbor, s_kj[i][neighbor]) for neighbor in neighbors]\n",
    "    # 按相似度排序（降序）\n",
    "    sorted_neighbors = sorted(neighbors_with_coef, key=lambda x: x[1], reverse=True)\n",
    "    # 获取前k个邻居\n",
    "    top_k = sorted_neighbors[:Kn]\n",
    "    return top_k\n",
    "\n",
    "def neighbor_k_user(u):\n",
    "    neighbors = np.where(s_wu[u] != 0)[0]\n",
    "    neighbors = neighbors[neighbors!=u]\n",
    "    neighbors_with_coef = [(neighbor, s_wu[u][neighbor]) for neighbor in neighbors]\n",
    "    # 按相似度排序（降序）\n",
    "    sorted_neighbors = sorted(neighbors_with_coef, key=lambda x: x[1], reverse=True)\n",
    "    # 获取前k个邻居\n",
    "    top_k = sorted_neighbors[:Kn]\n",
    "    return top_k\n"
   ],
   "id": "a44c05b4535b3b56",
   "outputs": [],
   "execution_count": 56
  },
  {
   "metadata": {
    "ExecuteTime": {
     "end_time": "2024-09-12T05:21:40.459097Z",
     "start_time": "2024-09-12T05:21:40.455251Z"
    }
   },
   "cell_type": "code",
   "source": [
    "def I_OCCF(u, i):\n",
    "    r_hat = 0\n",
    "    if i not in U_i:\n",
    "        return GlobalAverage\n",
    "    items_rated_by_u = I_u[u]\n",
    "    top_k = neighbor_k_item(i)\n",
    "    for neighbor, coef in top_k:\n",
    "        if neighbor in items_rated_by_u:\n",
    "            r_hat += coef\n",
    "    return r_hat\n",
    "\n",
    "\n",
    "def U_OCCF(u, i):\n",
    "    r_hat = 0\n",
    "    if i not in U_i:\n",
    "        return GlobalAverage\n",
    "    users_rated_j = U_i[i]\n",
    "    top_k = neighbor_k_user(u)\n",
    "    for neighbor, coef in top_k:\n",
    "        if neighbor in users_rated_j:\n",
    "            r_hat += coef\n",
    "    return r_hat\n",
    "\n",
    "\n",
    "def H_OCCF(u, i):\n",
    "    return I_OCCF(u, i) * 0.5 + U_OCCF(u, i) * 0.5\n"
   ],
   "id": "49e7f1354eb30675",
   "outputs": [],
   "execution_count": 57
  },
  {
   "metadata": {
    "ExecuteTime": {
     "end_time": "2024-09-12T04:40:59.329330Z",
     "start_time": "2024-09-12T04:37:12.315938Z"
    }
   },
   "cell_type": "code",
   "source": [
    "print(f\"I_OCCF Pre: {Pre_at_k(I_OCCF,5):.4f}\")\n",
    "print(f\"I_OCCF Rec: {Rec_at_k(I_OCCF,5):.4f}\")"
   ],
   "id": "9cb100bfac6d8f43",
   "outputs": [
    {
     "name": "stdout",
     "output_type": "stream",
     "text": [
      "I_OCCF Pre: 0.3627\n",
      "I_OCCF Rec: 0.1099\n"
     ]
    }
   ],
   "execution_count": 39
  },
  {
   "metadata": {
    "ExecuteTime": {
     "end_time": "2024-09-12T05:26:21.930074Z",
     "start_time": "2024-09-12T05:21:40.470295Z"
    }
   },
   "cell_type": "code",
   "source": [
    "print(f\"U_OCCF Pre: {Pre_at_k(U_OCCF,5):.4f}\")\n",
    "print(f\"U_OCCF Rec: {Rec_at_k(U_OCCF,5):.4f}\")"
   ],
   "id": "11fe9da791d3b5ff",
   "outputs": [
    {
     "name": "stdout",
     "output_type": "stream",
     "text": [
      "U_OCCF Pre: 0.3781\n",
      "U_OCCF Rec: 0.1215\n"
     ]
    }
   ],
   "execution_count": 58
  },
  {
   "metadata": {
    "ExecuteTime": {
     "end_time": "2024-09-12T05:34:54.399172Z",
     "start_time": "2024-09-12T05:26:21.947Z"
    }
   },
   "cell_type": "code",
   "source": [
    "print(f\"H_OCCF Pre: {Pre_at_k(H_OCCF,5):.4f}\")\n",
    "print(f\"H_OCCF Rec: {Rec_at_k(H_OCCF,5):.4f}\")"
   ],
   "id": "6600fe1c7bf3d2fe",
   "outputs": [
    {
     "name": "stdout",
     "output_type": "stream",
     "text": [
      "H_OCCF Pre: 0.3996\n",
      "H_OCCF Rec: 0.1326\n"
     ]
    }
   ],
   "execution_count": 59
  },
  {
   "metadata": {
    "ExecuteTime": {
     "end_time": "2024-09-12T05:34:54.418284Z",
     "start_time": "2024-09-12T05:34:54.415459Z"
    }
   },
   "cell_type": "code",
   "source": "GlobalAverage",
   "id": "c0b47f62cf4c79cc",
   "outputs": [
    {
     "data": {
      "text/plain": [
       "0.027828810573687086"
      ]
     },
     "execution_count": 60,
     "metadata": {},
     "output_type": "execute_result"
    }
   ],
   "execution_count": 60
  },
  {
   "metadata": {},
   "cell_type": "code",
   "outputs": [],
   "execution_count": null,
   "source": "",
   "id": "a0789e7bc0b336da"
  }
 ],
 "metadata": {
  "kernelspec": {
   "display_name": "Python 3",
   "language": "python",
   "name": "python3"
  },
  "language_info": {
   "codemirror_mode": {
    "name": "ipython",
    "version": 2
   },
   "file_extension": ".py",
   "mimetype": "text/x-python",
   "name": "python",
   "nbconvert_exporter": "python",
   "pygments_lexer": "ipython2",
   "version": "2.7.6"
  }
 },
 "nbformat": 4,
 "nbformat_minor": 5
}
