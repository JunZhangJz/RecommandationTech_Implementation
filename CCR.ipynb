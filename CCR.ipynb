{
 "cells": [
  {
   "cell_type": "code",
   "id": "initial_id",
   "metadata": {
    "collapsed": true,
    "ExecuteTime": {
     "end_time": "2024-09-11T07:18:33.853890Z",
     "start_time": "2024-09-11T07:18:30.405659Z"
    }
   },
   "source": [
    "import math\n",
    "\n",
    "import pandas as pd\n",
    "import numpy as np\n",
    "import random\n",
    "\n",
    "#读入数据集\n",
    "u1_base = pd.read_csv('ml-100k/u1.base', sep='\\t', names=['uid', 'iid', 'rate', 'timestamp'])\n",
    "u1_test = pd.read_csv('ml-100k/u1.test', sep='\\t', names=['uid', 'iid', 'rate', 'timestamp'])\n",
    "\n",
    "#初始化\n",
    "user_num = u1_base['uid'].max()\n",
    "item_num = u1_base['iid'].max()\n",
    "\n",
    "rating_matrix = np.zeros((user_num, item_num), float)\n",
    "y_ui = np.zeros((user_num, item_num), int)\n",
    "\n",
    "#base记录转化为matrix\n",
    "for index, row in u1_base.iterrows():\n",
    "    user_id = row['uid']\n",
    "    item_id = row['iid']\n",
    "    rating = row['rate']\n",
    "    rating_matrix[user_id - 1, item_id - 1] = rating\n",
    "    y_ui[user_id - 1, item_id - 1] = 1\n",
    "\n",
    "R = y_ui.sum()\n",
    "#全局平均\n",
    "GlobalAverage = rating_matrix.sum() / R\n",
    "\n",
    "#计算四个参数 user_means item_means user_bias item_bias\n",
    "rating_sum_row = [sum(row) for row in rating_matrix]\n",
    "y_sum_row = [sum(row) for row in y_ui]\n",
    "\n",
    "rating_sum_col = [sum(column) for column in zip(*rating_matrix)]\n",
    "y_sum_col = [sum(column) for column in zip(*y_ui)]\n",
    "\n",
    "user_means = []\n",
    "for i in range(user_num):\n",
    "    if y_sum_row[i] == 0:\n",
    "        user_means.append(GlobalAverage)\n",
    "    else:\n",
    "        user_means.append(rating_sum_row[i] / y_sum_row[i])\n",
    "\n",
    "item_means = []\n",
    "for i in range(item_num):\n",
    "    if y_sum_col[i] == 0:\n",
    "        item_means.append(GlobalAverage)\n",
    "    else:\n",
    "        item_means.append(rating_sum_col[i] / y_sum_col[i])\n",
    "\n",
    "user_bias = []\n",
    "for i in range(user_num):\n",
    "    if y_sum_row[i] == 0:\n",
    "        user_bias.append(0)\n",
    "    else:\n",
    "        sum_bias = 0\n",
    "        for j in range(item_num):\n",
    "            sum_bias += y_ui[i][j] * (rating_matrix[i][j] - GlobalAverage)\n",
    "        user_bias.append(sum_bias / y_sum_row[i])\n",
    "\n",
    "item_bias = []\n",
    "for i in range(item_num):\n",
    "    if y_sum_col[i] == 0:\n",
    "        item_bias.append(0)\n",
    "    else:\n",
    "        sum_bias = 0\n",
    "        for j in range(user_num):\n",
    "            sum_bias += y_ui[j][i] * (rating_matrix[j][i] - GlobalAverage)\n",
    "        item_bias.append(sum_bias / y_sum_col[i])\n"
   ],
   "outputs": [],
   "execution_count": 4
  },
  {
   "metadata": {
    "ExecuteTime": {
     "end_time": "2024-09-11T07:21:33.648075Z",
     "start_time": "2024-09-11T07:21:33.641422Z"
    }
   },
   "cell_type": "code",
   "source": [
    "#用户u评价过的物品集\n",
    "def I_u(user_id):\n",
    "    return np.where(y_ui[user_id] == 1)[0]\n",
    "#用户u未评价过的物品集\n",
    "def I_unob_u(user_id):\n",
    "    return np.where(y_ui[user_id] == 0)[0]"
   ],
   "id": "948e208f89c0c9a7",
   "outputs": [],
   "execution_count": 8
  },
  {
   "metadata": {
    "ExecuteTime": {
     "end_time": "2024-09-11T07:21:33.883748Z",
     "start_time": "2024-09-11T07:21:33.880721Z"
    }
   },
   "cell_type": "code",
   "source": "I_u(0),I_unob_u(0)",
   "id": "852d6c365accd4de",
   "outputs": [
    {
     "data": {
      "text/plain": [
       "(array([  0,   1,   2,   3,   4,   6,   7,   8,  10,  12,  14,  15,  17,\n",
       "         18,  20,  21,  24,  25,  27,  28,  29,  31,  33,  34,  36,  37,\n",
       "         39,  40,  41,  42,  44,  45,  47,  49,  51,  54,  56,  57,  58,\n",
       "         62,  65,  67,  70,  74,  76,  78,  82,  86,  87,  88,  92,  93,\n",
       "         94,  98, 100, 104, 105, 108, 109, 110, 114, 115, 118, 121, 122,\n",
       "        123, 125, 126, 130, 132, 134, 135, 136, 137, 138, 140, 141, 143,\n",
       "        145, 146, 148, 151, 152, 155, 157, 161, 164, 165, 166, 167, 168,\n",
       "        171, 172, 175, 177, 178, 180, 181, 186, 190, 191, 193, 194, 196,\n",
       "        197, 198, 202, 203, 204, 206, 210, 215, 216, 219, 222, 230, 233,\n",
       "        236, 237, 238, 239, 243, 244, 245, 246, 248, 250, 255, 256, 260,\n",
       "        262, 267, 268, 269, 270]),\n",
       " array([   5,    9,   11, ..., 1679, 1680, 1681]))"
      ]
     },
     "execution_count": 9,
     "metadata": {},
     "output_type": "execute_result"
    }
   ],
   "execution_count": 9
  },
  {
   "metadata": {},
   "cell_type": "code",
   "outputs": [],
   "execution_count": null,
   "source": [
    "#为用户u推荐的物品\n",
    "def get_rec_items(u,R_HAT,k):\n",
    "    unob_items = I_unob_u(u)\n",
    "    items_pred = {i:R_HAT(u,i) for i in unob_items }\n",
    "    # 根据预测评分降序排序\n",
    "    sorted_items = sorted(items_pred.items(), key=lambda x: x[1], reverse=True)\n",
    "    # 输出前 k 个物品及其评分\n",
    "    top_k_items = sorted_items[:k]\n",
    "    return [k for k,v in top_k_items]"
   ],
   "id": "5cd2c5c27b6126c0"
  },
  {
   "metadata": {
    "ExecuteTime": {
     "end_time": "2024-09-10T14:40:22.539661Z",
     "start_time": "2024-09-10T14:40:21.304436Z"
    }
   },
   "cell_type": "code",
   "source": [
    "# 正负样本集\n",
    "S_Pos = set()\n",
    "S_Neg = set()\n",
    "for index, row in u1_base.iterrows():\n",
    "    user_id = row['uid'] - 1 \n",
    "    item_id = row['iid'] - 1\n",
    "    rating = row['rate']\n",
    "    if rating >= user_means[user_id]:\n",
    "        tri = (user_id, item_id, 1)\n",
    "        S_Pos.add(tri)\n",
    "    else:\n",
    "        tri = (user_id, item_id, -1)\n",
    "        S_Neg.add(tri)\n",
    "        "
   ],
   "id": "b4614010c030d1a5",
   "outputs": [],
   "execution_count": 60
  },
  {
   "metadata": {
    "ExecuteTime": {
     "end_time": "2024-09-10T14:40:23.305274Z",
     "start_time": "2024-09-10T14:40:23.302798Z"
    }
   },
   "cell_type": "code",
   "source": [
    "d = 20\n",
    "def items_u_r(u, item, r):\n",
    "    items = np.where(rating_matrix[u] == r)[0]\n",
    "    items = items[items != item]\n",
    "    return items\n"
   ],
   "id": "d9a054b915eb3a89",
   "outputs": [],
   "execution_count": 61
  },
  {
   "metadata": {
    "ExecuteTime": {
     "end_time": "2024-09-10T14:40:23.837733Z",
     "start_time": "2024-09-10T14:40:23.834302Z"
    }
   },
   "cell_type": "code",
   "source": [
    "def U_MPC(u, i, M):\n",
    "    U_mpc = np.zeros(d, float)\n",
    "    for rating_class in range(5):\n",
    "        items = items_u_r(u, i, rating_class + 1)\n",
    "        items_len = len(items)\n",
    "        if items_len == 0:\n",
    "            continue\n",
    "        U_mpc += np.sum(M[rating_class, items, :], axis=0) / items_len ** 0.5\n",
    "    return U_mpc\n",
    "\n",
    "def R_HAT(u, i, miu, U, V, user_bias, item_bias, M):\n",
    "    return miu + user_bias[u] + item_bias[i] + np.dot(U[u], V[i]) + np.dot(U_MPC(u, i, M), V[i])\n"
   ],
   "id": "97bdecb966f21f89",
   "outputs": [],
   "execution_count": 62
  },
  {
   "metadata": {
    "ExecuteTime": {
     "end_time": "2024-09-10T14:40:24.476362Z",
     "start_time": "2024-09-10T14:40:24.470302Z"
    }
   },
   "cell_type": "code",
   "source": [
    "U = np.random.rand(user_num + 1, d)\n",
    "V = np.random.rand(item_num + 1, d)\n",
    "M = np.random.rand(5, item_num, d)\n",
    "U = (U - 0.5) * 0.01\n",
    "V = (V - 0.5) * 0.01\n",
    "M = (M - 0.5) * 0.01\n"
   ],
   "id": "d2d2b34eb6a66526",
   "outputs": [],
   "execution_count": 63
  },
  {
   "metadata": {
    "ExecuteTime": {
     "end_time": "2024-09-10T14:40:25.024327Z",
     "start_time": "2024-09-10T14:40:25.022469Z"
    }
   },
   "cell_type": "code",
   "source": [
    "T = 100\n",
    "p = 3"
   ],
   "id": "22763703c0180c02",
   "outputs": [],
   "execution_count": 64
  },
  {
   "metadata": {
    "ExecuteTime": {
     "end_time": "2024-09-10T14:40:25.566776Z",
     "start_time": "2024-09-10T14:40:25.562419Z"
    }
   },
   "cell_type": "code",
   "source": [
    "def sample_unobserved_positions(matrix, n):\n",
    "    # 获取所有值为0的元素的坐标\n",
    "    unobserved_positions = np.argwhere(matrix == 0)\n",
    "    \n",
    "    # 检查n是否超过零元素数量\n",
    "    if n > len(unobserved_positions):\n",
    "        raise ValueError(f\"n={n} 超过了矩阵中元素0的数量：{len(unobserved_positions)}\")\n",
    "    \n",
    "    # 随机选择n个坐标\n",
    "    sampled_positions = unobserved_positions[np.random.choice(len(unobserved_positions), n, replace=False)]\n",
    "    S_Unob = set()\n",
    "    for i in range(n):\n",
    "        tri = (sampled_positions[i][0], sampled_positions[i][1],-1)\n",
    "        S_Unob.add(tri)\n",
    "\n",
    "    # 返回采样的集合\n",
    "    return S_Unob"
   ],
   "id": "11839c6cc035716",
   "outputs": [],
   "execution_count": 65
  },
  {
   "metadata": {
    "ExecuteTime": {
     "end_time": "2024-09-10T14:40:27.265780Z",
     "start_time": "2024-09-10T14:40:27.074215Z"
    }
   },
   "cell_type": "code",
   "source": [
    "S_Unob = sample_unobserved_positions(y_ui, 3 * R)\n",
    "S_New = S_Neg | S_Unob | S_Pos\n",
    "S_list = list(S_New)\n",
    "sampled_triplet = random.sample(S_list, 1)[0]\n",
    "sampled_triplet[0],sampled_triplet"
   ],
   "id": "283454372c6489d8",
   "outputs": [
    {
     "data": {
      "text/plain": [
       "(86, (86, 1178, -1))"
      ]
     },
     "execution_count": 66,
     "metadata": {},
     "output_type": "execute_result"
    }
   ],
   "execution_count": 66
  },
  {
   "metadata": {
    "ExecuteTime": {
     "end_time": "2024-09-10T15:24:51.089312Z",
     "start_time": "2024-09-10T14:45:16.696628Z"
    }
   },
   "cell_type": "code",
   "source": [
    "miu = GlobalAverage\n",
    "lr = 0.01\n",
    "lmda = 0.01\n",
    "for t in range(T):\n",
    "    S_Unob = sample_unobserved_positions(y_ui, p * R)\n",
    "    S_New = S_Neg | S_Unob | S_Pos\n",
    "    S_Num = len(S_New)\n",
    "    S_list = list(S_New)\n",
    "    for i in range(S_Num):\n",
    "        sampled_triplet = random.sample(S_list, 1)[0]\n",
    "        user_id = sampled_triplet[0]\n",
    "        item_id = sampled_triplet[1]\n",
    "        yui = sampled_triplet[2]\n",
    "        U_mpc = U_MPC(user_id, item_id, M)\n",
    "        r_pred = R_HAT(user_id, item_id, miu, U, V, user_bias, item_bias, M)\n",
    "        e = -(1 + math.exp(-yui * r_pred)) * yui\n",
    "        #计算梯度\n",
    "        delta_Uu = e * V[item_id] + lmda * U[user_id]\n",
    "        delta_Vi = e * (U[user_id] + U_mpc) + lmda * V[item_id]\n",
    "        delta_miu = e\n",
    "        delta_bu = e + lmda * user_bias[user_id]\n",
    "        delta_bi = e + lmda * item_bias[item_id]\n",
    "\n",
    "        for r in range(5):\n",
    "            i_pie = items_u_r(user_id, item_id, r + 1)\n",
    "            i_num = len(i_pie)\n",
    "            if i_num == 0:\n",
    "                continue\n",
    "            for i in i_pie:\n",
    "                delta_M = e * V[item_id] / i_num ** 0.5 + lmda * M[r][i]\n",
    "                M[r][i] -= lr * delta_M\n",
    "        #update \n",
    "\n",
    "        miu -= lr * delta_miu\n",
    "        user_bias[user_id] -= lr * delta_bu\n",
    "        item_bias[item_id] -= lr * delta_bi\n",
    "        U[user_id] -= lr * delta_Uu\n",
    "        V[item_id] -= lr * delta_Vi\n",
    "        print(f'\\r(epoch:{t}', end='')   "
   ],
   "id": "5b81f2474ef4812b",
   "outputs": [
    {
     "name": "stdout",
     "output_type": "stream",
     "text": [
      "(epoch:17"
     ]
    },
    {
     "ename": "KeyboardInterrupt",
     "evalue": "",
     "output_type": "error",
     "traceback": [
      "\u001B[0;31m---------------------------------------------------------------------------\u001B[0m",
      "\u001B[0;31mKeyboardInterrupt\u001B[0m                         Traceback (most recent call last)",
      "Cell \u001B[0;32mIn[71], line 31\u001B[0m\n\u001B[1;32m     29\u001B[0m     \u001B[38;5;28;01mfor\u001B[39;00m i \u001B[38;5;129;01min\u001B[39;00m i_pie:\n\u001B[1;32m     30\u001B[0m         delta_M \u001B[38;5;241m=\u001B[39m e \u001B[38;5;241m*\u001B[39m V[item_id] \u001B[38;5;241m/\u001B[39m i_num \u001B[38;5;241m*\u001B[39m\u001B[38;5;241m*\u001B[39m \u001B[38;5;241m0.5\u001B[39m \u001B[38;5;241m+\u001B[39m lmda \u001B[38;5;241m*\u001B[39m M[r][i]\n\u001B[0;32m---> 31\u001B[0m         M[r][i] \u001B[38;5;241m-\u001B[39m\u001B[38;5;241m=\u001B[39m lr \u001B[38;5;241m*\u001B[39m delta_M\n\u001B[1;32m     32\u001B[0m \u001B[38;5;66;03m#update \u001B[39;00m\n\u001B[1;32m     34\u001B[0m miu \u001B[38;5;241m-\u001B[39m\u001B[38;5;241m=\u001B[39m lr \u001B[38;5;241m*\u001B[39m delta_miu\n",
      "\u001B[0;31mKeyboardInterrupt\u001B[0m: "
     ]
    }
   ],
   "execution_count": 71
  },
  {
   "metadata": {
    "ExecuteTime": {
     "end_time": "2024-09-10T06:49:31.790536Z",
     "start_time": "2024-09-10T06:49:31.781012Z"
    }
   },
   "cell_type": "code",
   "source": [
    "import random\n",
    "\n",
    "# 定义包含多个三元组的集合\n",
    "triplet_set = {\n",
    "    (1, 'apple', 3.14),\n",
    "    (2, 'banana', 2.71),\n",
    "    (3, 'cherry', 1.61),\n",
    "    (4, 'date', 1.41),\n",
    "    (5, 'elderberry', 2.0)\n",
    "}\n",
    "\n",
    "# 将集合转换为列表\n",
    "triplet_list = list(triplet_set)\n",
    "\n",
    "# 随机采样 2 个三元组\n",
    "sampled_triplets = random.sample(triplet_list, 2)\n",
    "\n",
    "print(sampled_triplets)"
   ],
   "id": "480ce39c72d3b62",
   "outputs": [
    {
     "name": "stdout",
     "output_type": "stream",
     "text": [
      "[(2, 'banana', 2.71), (3, 'cherry', 1.61)]\n"
     ]
    }
   ],
   "execution_count": 5
  },
  {
   "metadata": {},
   "cell_type": "code",
   "outputs": [],
   "execution_count": null,
   "source": "",
   "id": "ca6709e22e662f0e"
  }
 ],
 "metadata": {
  "kernelspec": {
   "display_name": "Python 3",
   "language": "python",
   "name": "python3"
  },
  "language_info": {
   "codemirror_mode": {
    "name": "ipython",
    "version": 2
   },
   "file_extension": ".py",
   "mimetype": "text/x-python",
   "name": "python",
   "nbconvert_exporter": "python",
   "pygments_lexer": "ipython2",
   "version": "2.7.6"
  }
 },
 "nbformat": 4,
 "nbformat_minor": 5
}
