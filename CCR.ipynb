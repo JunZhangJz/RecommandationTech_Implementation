{
 "cells": [
  {
   "cell_type": "code",
   "id": "initial_id",
   "metadata": {
    "collapsed": true,
    "ExecuteTime": {
     "end_time": "2024-09-12T13:15:00.848493Z",
     "start_time": "2024-09-12T13:14:57.054635Z"
    }
   },
   "source": [
    "import math\n",
    "\n",
    "import pandas as pd\n",
    "import numpy as np\n",
    "import random\n",
    "\n",
    "#读入数据集\n",
    "u1_base = pd.read_csv('ml-100k/u1.base', sep='\\t', names=['uid', 'iid', 'rate', 'timestamp'])\n",
    "u1_test = pd.read_csv('ml-100k/u1.test', sep='\\t', names=['uid', 'iid', 'rate', 'timestamp'])\n",
    "\n",
    "#初始化\n",
    "user_num = u1_base['uid'].max()\n",
    "item_num = u1_base['iid'].max()\n",
    "\n",
    "rating_matrix = np.zeros((user_num, item_num), float)\n",
    "y_ui = np.zeros((user_num, item_num), int)\n",
    "\n",
    "#base记录转化为matrix\n",
    "for index, row in u1_base.iterrows():\n",
    "    user_id = row['uid']\n",
    "    item_id = row['iid']\n",
    "    rating = row['rate']\n",
    "    rating_matrix[user_id - 1, item_id - 1] = rating\n",
    "    y_ui[user_id - 1, item_id - 1] = 1\n",
    "\n",
    "R = y_ui.sum()\n",
    "#全局平均\n",
    "GlobalAverage = rating_matrix.sum() / R\n",
    "\n",
    "#计算四个参数 user_means item_means user_bias item_bias\n",
    "rating_sum_row = [sum(row) for row in rating_matrix]\n",
    "y_sum_row = [sum(row) for row in y_ui]\n",
    "\n",
    "rating_sum_col = [sum(column) for column in zip(*rating_matrix)]\n",
    "y_sum_col = [sum(column) for column in zip(*y_ui)]\n",
    "\n",
    "user_means = []\n",
    "for i in range(user_num):\n",
    "    if y_sum_row[i] == 0:\n",
    "        user_means.append(GlobalAverage)\n",
    "    else:\n",
    "        user_means.append(rating_sum_row[i] / y_sum_row[i])\n",
    "\n",
    "item_means = []\n",
    "for i in range(item_num):\n",
    "    if y_sum_col[i] == 0:\n",
    "        item_means.append(GlobalAverage)\n",
    "    else:\n",
    "        item_means.append(rating_sum_col[i] / y_sum_col[i])\n",
    "\n",
    "user_bias = []\n",
    "for i in range(user_num):\n",
    "    if y_sum_row[i] == 0:\n",
    "        user_bias.append(0)\n",
    "    else:\n",
    "        sum_bias = 0\n",
    "        for j in range(item_num):\n",
    "            sum_bias += y_ui[i][j] * (rating_matrix[i][j] - GlobalAverage)\n",
    "        user_bias.append(sum_bias / y_sum_row[i])\n",
    "\n",
    "item_bias = []\n",
    "for i in range(item_num):\n",
    "    if y_sum_col[i] == 0:\n",
    "        item_bias.append(0)\n",
    "    else:\n",
    "        sum_bias = 0\n",
    "        for j in range(user_num):\n",
    "            sum_bias += y_ui[j][i] * (rating_matrix[j][i] - GlobalAverage)\n",
    "        item_bias.append(sum_bias / y_sum_col[i])\n",
    "\n",
    "I_u_preferred = {}\n",
    "U_te = set()\n",
    "for index, row in u1_test.iterrows():\n",
    "    user_id = row['uid'] - 1\n",
    "    item_id = row['iid'] - 1\n",
    "    rating = row['rate']\n",
    "    if rating > 4:\n",
    "        if user_id not in I_u_preferred:\n",
    "            I_u_preferred[user_id] = set()\n",
    "        I_u_preferred[user_id].add(item_id)\n",
    "        U_te.add(user_id)\n",
    "        \n",
    "        "
   ],
   "outputs": [],
   "execution_count": 23
  },
  {
   "metadata": {
    "ExecuteTime": {
     "end_time": "2024-09-12T13:15:00.864058Z",
     "start_time": "2024-09-12T13:15:00.852525Z"
    }
   },
   "cell_type": "code",
   "source": [
    "#用户u评价过的物品集\n",
    "def I_u(user_id):\n",
    "    return np.where(y_ui[user_id] == 1)[0]\n",
    "#用户u未评价过的物品集\n",
    "def I_unob_u(user_id):\n",
    "    return np.where(y_ui[user_id] == 0)[0]\n"
   ],
   "id": "948e208f89c0c9a7",
   "outputs": [],
   "execution_count": 24
  },
  {
   "metadata": {
    "ExecuteTime": {
     "end_time": "2024-09-12T13:15:01.514630Z",
     "start_time": "2024-09-12T13:15:01.500202Z"
    }
   },
   "cell_type": "code",
   "source": [
    "#为用户u推荐的物品\n",
    "def get_rec_items(u,R_HAT,k):\n",
    "    unob_items = I_unob_u(u)\n",
    "    items_pred = {i:R_HAT(u,i) for i in unob_items }\n",
    "    # 根据预测评分降序排序\n",
    "    sorted_items = sorted(items_pred.items(), key=lambda x: x[1], reverse=True)\n",
    "    # 输出前 k 个物品及其评分\n",
    "    top_k_items = sorted_items[:k]\n",
    "    return [k for k,v in top_k_items]\n"
   ],
   "id": "5cd2c5c27b6126c0",
   "outputs": [],
   "execution_count": 25
  },
  {
   "metadata": {
    "ExecuteTime": {
     "end_time": "2024-09-12T13:15:03.568742Z",
     "start_time": "2024-09-12T13:15:02.217410Z"
    }
   },
   "cell_type": "code",
   "source": [
    "# 正负样本集\n",
    "S_Pos = set()\n",
    "S_Neg = set()\n",
    "for index, row in u1_base.iterrows():\n",
    "    user_id = row['uid'] - 1 \n",
    "    item_id = row['iid'] - 1\n",
    "    rating = row['rate']\n",
    "    if rating >= user_means[user_id]:\n",
    "        tri = (user_id, item_id, 1)\n",
    "        S_Pos.add(tri)\n",
    "    else:\n",
    "        tri = (user_id, item_id, -1)\n",
    "        S_Neg.add(tri)\n",
    "        "
   ],
   "id": "b4614010c030d1a5",
   "outputs": [],
   "execution_count": 26
  },
  {
   "metadata": {
    "ExecuteTime": {
     "end_time": "2024-09-12T13:15:04.254189Z",
     "start_time": "2024-09-12T13:15:04.239866Z"
    }
   },
   "cell_type": "code",
   "source": [
    "d = 20\n",
    "def items_u_r(u, item, r):\n",
    "    items = np.where(rating_matrix[u] == r)[0]\n",
    "    items = items[items != item]\n",
    "    return items\n"
   ],
   "id": "d9a054b915eb3a89",
   "outputs": [],
   "execution_count": 27
  },
  {
   "metadata": {
    "ExecuteTime": {
     "end_time": "2024-09-12T13:15:04.981795Z",
     "start_time": "2024-09-12T13:15:04.966795Z"
    }
   },
   "cell_type": "code",
   "source": [
    "def U_MPC(u, i, M):\n",
    "    U_mpc = np.zeros(d, float)\n",
    "    for rating_class in range(5):\n",
    "        items = items_u_r(u, i, rating_class + 1)\n",
    "        items_len = len(items)\n",
    "        if items_len == 0:\n",
    "            continue\n",
    "        U_mpc += np.sum(M[rating_class, items, :], axis=0) / items_len ** 0.5\n",
    "    return U_mpc\n",
    "\n",
    "def R_HAT(u, i):\n",
    "    return miu + user_bias[u] + item_bias[i] + np.dot(U[u], V[i]) + np.dot(U_MPC(u, i, M), V[i])\n"
   ],
   "id": "97bdecb966f21f89",
   "outputs": [],
   "execution_count": 28
  },
  {
   "metadata": {
    "ExecuteTime": {
     "end_time": "2024-09-12T13:15:05.740485Z",
     "start_time": "2024-09-12T13:15:05.725703Z"
    }
   },
   "cell_type": "code",
   "source": [
    "U = np.random.rand(user_num + 1, d)\n",
    "V = np.random.rand(item_num + 1, d)\n",
    "M = np.random.rand(5, item_num, d)\n",
    "U = (U - 0.5) * 0.01\n",
    "V = (V - 0.5) * 0.01\n",
    "M = (M - 0.5) * 0.01\n",
    "miu = GlobalAverage\n"
   ],
   "id": "d2d2b34eb6a66526",
   "outputs": [],
   "execution_count": 29
  },
  {
   "metadata": {
    "ExecuteTime": {
     "end_time": "2024-09-12T13:15:06.515962Z",
     "start_time": "2024-09-12T13:15:06.501304Z"
    }
   },
   "cell_type": "code",
   "source": [
    "T = 20\n",
    "p = 3\n"
   ],
   "id": "22763703c0180c02",
   "outputs": [],
   "execution_count": 30
  },
  {
   "metadata": {
    "ExecuteTime": {
     "end_time": "2024-09-12T13:15:07.262650Z",
     "start_time": "2024-09-12T13:15:07.248897Z"
    }
   },
   "cell_type": "code",
   "source": [
    "def sample_unobserved_positions(matrix, n):\n",
    "    # 获取所有值为0的元素的坐标\n",
    "    unobserved_positions = np.argwhere(matrix == 0)\n",
    "    \n",
    "    # 检查n是否超过零元素数量\n",
    "    if n > len(unobserved_positions):\n",
    "        raise ValueError(f\"n={n} 超过了矩阵中元素0的数量：{len(unobserved_positions)}\")\n",
    "    \n",
    "    # 随机选择n个坐标\n",
    "    sampled_positions = unobserved_positions[np.random.choice(len(unobserved_positions), n, replace=False)]\n",
    "    S_Unob = set()\n",
    "    for i in range(n):\n",
    "        tri = (sampled_positions[i][0], sampled_positions[i][1],-1)\n",
    "        S_Unob.add(tri)\n",
    "\n",
    "    # 返回采样的集合\n",
    "    return S_Unob\n"
   ],
   "id": "11839c6cc035716",
   "outputs": [],
   "execution_count": 31
  },
  {
   "metadata": {
    "ExecuteTime": {
     "end_time": "2024-09-12T13:15:07.994722Z",
     "start_time": "2024-09-12T13:15:07.980003Z"
    }
   },
   "cell_type": "code",
   "source": [
    "def sigmoid(x):\n",
    "    return 1/(1+math.exp(-x))"
   ],
   "id": "c68099e484f22c6a",
   "outputs": [],
   "execution_count": 32
  },
  {
   "metadata": {
    "ExecuteTime": {
     "end_time": "2024-09-12T13:17:57.083205Z",
     "start_time": "2024-09-12T13:15:08.713245Z"
    }
   },
   "cell_type": "code",
   "source": [
    "lr = 0.01\n",
    "lmda = 0.01\n",
    "for t in range(T):\n",
    "    S_Unob = sample_unobserved_positions(y_ui, p * R)\n",
    "    S_New = S_Neg | S_Unob | S_Pos\n",
    "    S_Num = len(S_New)\n",
    "    S_list = list(S_New)\n",
    "    for i in range(S_Num):\n",
    "        print(f'\\repoch:{t + 1},{i}:{S_Num}',end='')\n",
    "        sampled_triplet = random.sample(S_list, 1)[0]\n",
    "        user_id = sampled_triplet[0]\n",
    "        item_id = sampled_triplet[1]\n",
    "        yui = sampled_triplet[2]\n",
    "        U_mpc = U_MPC(user_id, item_id, M)\n",
    "        r_pred = R_HAT(user_id, item_id)\n",
    "        e = -yui * (sigmoid(-yui * r_pred) - 1)\n",
    "        #计算梯度\n",
    "        delta_Uu = e * V[item_id] + lmda * U[user_id]\n",
    "        delta_Vi = e * (U[user_id] + U_mpc) + lmda * V[item_id]\n",
    "        delta_miu = e\n",
    "        delta_bu = e + lmda * user_bias[user_id]\n",
    "        delta_bi = e + lmda * item_bias[item_id]\n",
    "\n",
    "        for r in range(5):\n",
    "            i_pie = items_u_r(user_id, item_id, r + 1)\n",
    "            i_num = len(i_pie)\n",
    "            if i_num == 0:\n",
    "                continue\n",
    "            for i in i_pie:\n",
    "                delta_M = e * V[item_id] / i_num ** 0.5 + lmda * M[r][i]\n",
    "                M[r][i] -= lr * delta_M\n",
    "        #update \n",
    "\n",
    "        miu -= lr * delta_miu\n",
    "        user_bias[user_id] -= lr * delta_bu\n",
    "        item_bias[item_id] -= lr * delta_bi\n",
    "        U[user_id] -= lr * delta_Uu\n",
    "        V[item_id] -= lr * delta_Vi"
   ],
   "id": "5b81f2474ef4812b",
   "outputs": [
    {
     "name": "stdout",
     "output_type": "stream",
     "text": [
      "epoch:1,319999:320000"
     ]
    }
   ],
   "execution_count": 33
  },
  {
   "metadata": {
    "ExecuteTime": {
     "end_time": "2024-09-12T13:17:57.720581Z",
     "start_time": "2024-09-12T13:17:57.704958Z"
    }
   },
   "cell_type": "code",
   "source": [
    "def Pre_at_k(R_HAT, k):\n",
    "    Pre = 0\n",
    "    for u in U_te:\n",
    "        rec_items = get_rec_items(u, R_HAT, k)\n",
    "        pre_items = I_u_preferred[u]  #用户实际喜欢项目 \n",
    "        Pre_u = len(set(rec_items).intersection(set(pre_items))) / k\n",
    "        Pre += Pre_u\n",
    "    return Pre / len(U_te)\n",
    "\n",
    "\n",
    "def Rec_at_k(R_HAT, k):\n",
    "    Rec = 0\n",
    "    for u in U_te:\n",
    "        rec_items = get_rec_items(u, R_HAT, k)\n",
    "        pre_items = I_u_preferred[u]\n",
    "        Rec_u = len(set(rec_items).intersection(set(pre_items))) / len(pre_items)\n",
    "        Rec += Rec_u\n",
    "    return Rec / len(U_te)\n",
    "\n",
    "\n",
    "def NDCG_at_k(R_HAT, k):\n",
    "    NDCG = 0\n",
    "    for u in U_te:\n",
    "        rec_items = get_rec_items(u, R_HAT, k)\n",
    "        pre_items = I_u_preferred[u]\n",
    "        DCG_u = 0\n",
    "        for pos in range(k):\n",
    "            if rec_items[pos] in pre_items:\n",
    "                DCG_u += 1 / math.log(pos + 2)\n",
    "        IDCG_u = sum(1.0 / math.log(pos + 2) for pos in range(min(len(pre_items), k)))  #Zu\n",
    "        NDCG += DCG_u / IDCG_u\n",
    "    return NDCG / len(U_te)"
   ],
   "id": "480ce39c72d3b62",
   "outputs": [],
   "execution_count": 34
  },
  {
   "metadata": {
    "jupyter": {
     "is_executing": true
    },
    "ExecuteTime": {
     "start_time": "2024-09-12T13:17:58.311596Z"
    }
   },
   "cell_type": "code",
   "source": [
    "print(f\"Pre : {Pre_at_k(R_HAT, 5):.4f}\")\n",
    "print(f\"Rec : {Rec_at_k(R_HAT, 5):.4f}\")\n",
    "print(f\"NDCG: {NDCG_at_k(R_HAT, 5):.4f}\")"
   ],
   "id": "a444b3da487ed53e",
   "outputs": [
    {
     "name": "stdout",
     "output_type": "stream",
     "text": [
      "Pre : 0.0010\n"
     ]
    }
   ],
   "execution_count": null
  },
  {
   "metadata": {},
   "cell_type": "code",
   "outputs": [],
   "execution_count": null,
   "source": "",
   "id": "193c0defdc895ae5"
  }
 ],
 "metadata": {
  "kernelspec": {
   "display_name": "Python 3",
   "language": "python",
   "name": "python3"
  },
  "language_info": {
   "codemirror_mode": {
    "name": "ipython",
    "version": 2
   },
   "file_extension": ".py",
   "mimetype": "text/x-python",
   "name": "python",
   "nbconvert_exporter": "python",
   "pygments_lexer": "ipython2",
   "version": "2.7.6"
  }
 },
 "nbformat": 4,
 "nbformat_minor": 5
}
