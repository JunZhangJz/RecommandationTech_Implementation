{
 "cells": [
  {
   "cell_type": "code",
   "execution_count": 1,
   "id": "initial_id",
   "metadata": {
    "collapsed": true,
    "ExecuteTime": {
     "end_time": "2024-08-08T11:15:28.577742Z",
     "start_time": "2024-08-08T11:15:25.316807Z"
    }
   },
   "outputs": [],
   "source": [
    "import random\n",
    "\n",
    "import pandas as pd\n",
    "import numpy as np\n",
    "import math\n",
    "#读入数据集\n",
    "u1_base = pd.read_csv('ml-100k/u1.base', sep='\\t', names=['uid', 'iid', 'rate', 'timestamp'])\n",
    "u1_test = pd.read_csv('ml-100k/u1.test', sep='\\t', names=['uid', 'iid', 'rate', 'timestamp'])\n",
    "\n",
    "\n",
    "#定义误差函数\n",
    "def ERR(rating_matrix, test):\n",
    "    cnt = 0\n",
    "    abs_err = 0\n",
    "    squ_err = 0\n",
    "\n",
    "    for index, row in test.iterrows():\n",
    "        user_id = row['uid']\n",
    "        item_id = row['iid']\n",
    "        true_rating = row['rate']\n",
    "\n",
    "        predicted_rating = rating_matrix[user_id - 1][item_id - 1]\n",
    "\n",
    "        # 计算绝对误差/平方误差\n",
    "        absolute_error = abs(predicted_rating - true_rating)\n",
    "        abs_err += absolute_error\n",
    "\n",
    "        square_error = pow(predicted_rating - true_rating, 2)\n",
    "        squ_err += square_error\n",
    "\n",
    "        cnt += 1\n",
    "    # 计算平均绝对误差/平方误差\n",
    "    mae = abs_err / cnt\n",
    "    rmse = (squ_err / cnt) ** 0.5\n",
    "    return mae, rmse\n",
    "\n",
    "\n",
    "#初始化\n",
    "user_num = u1_base['uid'].max()\n",
    "item_num = u1_base['iid'].max()\n",
    "\n",
    "rating_matrix = np.zeros((user_num, item_num), float)\n",
    "y_ui = np.zeros((user_num, item_num), int)\n",
    "\n",
    "#base记录转化为matrix\n",
    "for index, row in u1_base.iterrows():\n",
    "    user_id = row['uid']\n",
    "    item_id = row['iid']\n",
    "    rating = row['rate']\n",
    "    rating_matrix[user_id - 1, item_id - 1] = rating\n",
    "    y_ui[user_id - 1, item_id - 1] = 1\n",
    "\n",
    "#全局平均\n",
    "GlobalAverage = rating_matrix.sum() / y_ui.sum()\n",
    "\n",
    "#计算四个参数 user_means item_means user_bias item_bias\n",
    "rating_sum_row = [sum(row) for row in rating_matrix]\n",
    "y_sum_row = [sum(row) for row in y_ui]\n",
    "\n",
    "rating_sum_col = [sum(column) for column in zip(*rating_matrix)]\n",
    "y_sum_col = [sum(column) for column in zip(*y_ui)]\n",
    "\n",
    "user_means = []\n",
    "for i in range(user_num):\n",
    "    if y_sum_row[i] == 0:\n",
    "        user_means.append(GlobalAverage)\n",
    "    else:\n",
    "        user_means.append(rating_sum_row[i] / y_sum_row[i])\n",
    "\n",
    "item_means = []\n",
    "for i in range(item_num):\n",
    "    if y_sum_col[i] == 0:\n",
    "        item_means.append(GlobalAverage)\n",
    "    else:\n",
    "        item_means.append(rating_sum_col[i] / y_sum_col[i])\n",
    "\n",
    "user_bias = []\n",
    "for i in range(user_num):\n",
    "    if y_sum_row[i] == 0:\n",
    "        user_bias.append(0)\n",
    "    else:\n",
    "        sum_bias = 0\n",
    "        for j in range(item_num):\n",
    "            sum_bias += y_ui[i][j] * (rating_matrix[i][j] - GlobalAverage)\n",
    "        user_bias.append(sum_bias / y_sum_row[i])\n",
    "\n",
    "item_bias = []\n",
    "for i in range(item_num):\n",
    "    if y_sum_col[i] == 0:\n",
    "        item_bias.append(0)\n",
    "    else:\n",
    "        sum_bias = 0\n",
    "        for j in range(user_num):\n",
    "            sum_bias += y_ui[j][i] * (rating_matrix[j][i] - GlobalAverage)\n",
    "        item_bias.append(sum_bias / y_sum_col[i])"
   ]
  },
  {
   "cell_type": "code",
   "execution_count": 3,
   "outputs": [
    {
     "name": "stdout",
     "output_type": "stream",
     "text": [
      "(RMSE:1.0173,MAE:0.8061)\n"
     ]
    }
   ],
   "source": [
    "#PSVD\n",
    "rating_matrix_psvd = np.copy(rating_matrix)\n",
    "#预处理\n",
    "for i in range(user_num):\n",
    "    for k in range(item_num):\n",
    "        if rating_matrix_psvd[i, k] != 0:\n",
    "            rating_matrix_psvd[i, k] -= user_means[i]\n",
    "# 计算SVD\n",
    "U, sigma, Vt = np.linalg.svd(rating_matrix_psvd, full_matrices=False)\n",
    "sigma = np.diag(sigma)\n",
    "k = 20  # 选择前k个奇异值\n",
    "U_k = U[:, :k]\n",
    "sigma_k = sigma[:k, :k]\n",
    "Vt_k = Vt[:k, :]\n",
    "# 重构评分矩阵\n",
    "R_approx = np.dot(U_k, np.dot(sigma_k, Vt_k))\n",
    "for idx, row in u1_test.iterrows():\n",
    "    user_id = row['uid'] - 1\n",
    "    item_id = row['iid'] - 1\n",
    "    R_approx[user_id, item_id] += user_means[user_id]\n",
    "    if R_approx[user_id, item_id] > 5:\n",
    "        R_approx[user_id, item_id] = 5\n",
    "    if R_approx[user_id, item_id] < 1:\n",
    "        R_approx[user_id, item_id] = 1\n",
    "mae1, rmse1 = ERR(R_approx, u1_test)\n",
    "print(f'(RMSE:{rmse1:.4f},MAE:{mae1:.4f})')"
   ],
   "metadata": {
    "collapsed": false,
    "ExecuteTime": {
     "end_time": "2024-08-08T11:17:49.590585Z",
     "start_time": "2024-08-08T11:17:47.583351Z"
    }
   },
   "id": "2cf0a656b3736035"
  },
  {
   "cell_type": "code",
   "execution_count": 4,
   "outputs": [],
   "source": [
    "#超参数\n",
    "alpha_u = alpha_v = beta_u = beta_v = 0.1\n",
    "lr = 0.01\n",
    "d = 20"
   ],
   "metadata": {
    "collapsed": false,
    "ExecuteTime": {
     "end_time": "2024-08-08T11:17:56.945907Z",
     "start_time": "2024-08-08T11:17:56.937894Z"
    }
   },
   "id": "1aed94cbe0ffc9be"
  },
  {
   "cell_type": "code",
   "execution_count": 4,
   "outputs": [],
   "source": [
    "#ALS\n",
    "\n",
    "# U = np.random.rand(user_num, d)\n",
    "# V = np.random.rand(item_num, d)\n",
    "# U = (U - 0.5) * 0.01\n",
    "# V = (V - 0.5) * 0.01\n",
    "# for t in range(epoch):\n",
    "#     print(f'\\r第{t+1}轮', end='')\n",
    "#     for u in range(user_num):\n",
    "#         b_u = np.zeros((1, d), float)\n",
    "#         A_u = np.zeros((d, d), float)\n",
    "#         for i in range(item_num):\n",
    "#             b_u += y_ui[u, i] * rating_matrix[u, i] * V[i]\n",
    "#             A_u += y_ui[u, i] * (V[i].T @ V[i] + alpha_u * np.eye(d))\n",
    "#         #更新\n",
    "#         if np.linalg.det(A_u) != 0:\n",
    "#             U[u] = b_u @ np.linalg.inv(A_u)\n",
    "#     for k in range(item_num):\n",
    "#         b_i = np.zeros((1, d), float)\n",
    "#         A_i = np.zeros((d, d), float)\n",
    "#         for i in range(user_num):\n",
    "#             b_i += y_ui[i, k] * rating_matrix[i, k] * U[i]\n",
    "#             A_i += y_ui[i, k] * (U[i].T @ U[i] + alpha_v * np.eye(d))\n",
    "#         #更新\n",
    "#         if np.linalg.det(A_i) != 0:\n",
    "#             V[k] = b_i @ np.linalg.inv(A_i)"
   ],
   "metadata": {
    "collapsed": false,
    "ExecuteTime": {
     "end_time": "2024-08-06T17:03:36.864827Z",
     "start_time": "2024-08-06T17:03:36.861569Z"
    }
   },
   "id": "da370ebf1b4afc15"
  },
  {
   "cell_type": "code",
   "execution_count": 5,
   "outputs": [],
   "source": [
    "#ALS\n",
    "\n",
    "# rating_matrix_als = np.copy(rating_matrix)\n",
    "# for i in range(user_num):\n",
    "#     for k in range(item_num):\n",
    "#         if rating_matrix_als[i, k] == 0:\n",
    "#             r_hat = np.dot(U[i], V[k])\n",
    "#             rating_matrix_als[i, k] = r_hat\n",
    "# mae2, rmse2 = ERR(rating_matrix_als, u1_test)\n",
    "# print(f'(RMSE:{rmse2:.4f},MAE:{mae2:.4f})')"
   ],
   "metadata": {
    "collapsed": false,
    "ExecuteTime": {
     "end_time": "2024-08-06T17:03:36.870932Z",
     "start_time": "2024-08-06T17:03:36.866857Z"
    }
   },
   "id": "4fc0afb6964d1e2a"
  },
  {
   "cell_type": "code",
   "execution_count": 5,
   "outputs": [
    {
     "name": "stdout",
     "output_type": "stream",
     "text": [
      "100:80000"
     ]
    }
   ],
   "source": [
    "#SGD\n",
    "U = np.copy(U_k)\n",
    "V = np.copy(Vt_k).T\n",
    "epoch = 100\n",
    "for t in range(epoch):\n",
    "    for n in range(len(u1_base)):\n",
    "        print(f'\\r{t+1}:{n+1}', end='')\n",
    "        random_num = random.randint(1, len(u1_base))\n",
    "        row = u1_base.iloc[random_num - 1]\n",
    "        user_id = row['uid'] - 1\n",
    "        item_id = row['iid'] - 1\n",
    "        rating = row['rate']\n",
    "        #计算梯度\n",
    "        delta_Uu = -(rating - U[user_id] @ V[item_id].T) * V[item_id] + alpha_u * U[user_id]\n",
    "        delta_Vi = -(rating - U[user_id] @ V[item_id].T) * U[user_id] + alpha_v * V[item_id]\n",
    "        #update\n",
    "        U[user_id] = U[user_id] - lr * delta_Uu\n",
    "        V[item_id] = V[item_id] - lr * delta_Vi\n",
    "    lr *= 0.9"
   ],
   "metadata": {
    "collapsed": false,
    "ExecuteTime": {
     "end_time": "2024-08-08T11:21:30.915668Z",
     "start_time": "2024-08-08T11:18:02.979001Z"
    }
   },
   "id": "844c2e29aa595fa"
  },
  {
   "cell_type": "code",
   "execution_count": 6,
   "outputs": [
    {
     "name": "stdout",
     "output_type": "stream",
     "text": [
      "(RMSE:0.9470,MAE:0.7481)\n"
     ]
    }
   ],
   "source": [
    "#SGD\n",
    "rating_matrix_sgd = np.copy(rating_matrix)\n",
    "for idx, row in u1_test.iterrows():\n",
    "    user_id = row['uid'] - 1\n",
    "    item_id = row['iid'] - 1\n",
    "    r_hat = np.dot(U[user_id], V[item_id])\n",
    "    if r_hat > 5:\n",
    "        r_hat = 5\n",
    "    if r_hat < 1:\n",
    "        r_hat = 1\n",
    "    rating_matrix_sgd[user_id,item_id] = r_hat\n",
    "mae3, rmse3 = ERR(rating_matrix_sgd, u1_test)\n",
    "print(f'(RMSE:{rmse3:.4f},MAE:{mae3:.4f})')"
   ],
   "metadata": {
    "collapsed": false,
    "ExecuteTime": {
     "end_time": "2024-08-08T11:21:31.514063Z",
     "start_time": "2024-08-08T11:21:30.917233Z"
    }
   },
   "id": "df2b9f19ff91dacc"
  },
  {
   "cell_type": "code",
   "execution_count": 7,
   "outputs": [],
   "source": [
    "#RSVD\n",
    "def R_HAT_RSVD(u, i, U, V, bu, bi, miu):\n",
    "    return U[u] @ V[i].T + bu[u] + bi[i] + miu"
   ],
   "metadata": {
    "collapsed": false,
    "ExecuteTime": {
     "end_time": "2024-08-08T11:21:31.514269Z",
     "start_time": "2024-08-08T11:21:31.510658Z"
    }
   },
   "id": "a3a4b2571ed6e7e8"
  },
  {
   "cell_type": "code",
   "execution_count": 8,
   "outputs": [
    {
     "name": "stdout",
     "output_type": "stream",
     "text": [
      "第100轮loss:36656.91483998905"
     ]
    }
   ],
   "source": [
    "#RSVD\n",
    "U = np.random.rand(user_num + 1, d)\n",
    "V = np.random.rand(item_num + 1, d)\n",
    "U = (U - 0.5) * 0.01\n",
    "V = (V - 0.5) * 0.01\n",
    "miu = GlobalAverage\n",
    "for t in range(epoch):\n",
    "    loss = 0\n",
    "    for n in range(len(u1_base)):\n",
    "        random_num = random.randint(1, len(u1_base))\n",
    "        row = u1_base.iloc[random_num - 1]\n",
    "        user_id = row['uid'] - 1\n",
    "        item_id = row['iid'] - 1\n",
    "        rating = row['rate']\n",
    "\n",
    "        R_hat = R_HAT_RSVD(user_id, item_id, U, V, user_bias, item_bias, miu)\n",
    "        #损失函数\n",
    "        loss += 0.5 * (rating - R_hat) ** 2 + 0.5 * alpha_u * (U[user_id] @ U[user_id].T) + 0.5 * alpha_v * (\n",
    "                V[item_id] @ V[item_id].T) + 0.5 * beta_u * (user_bias[user_id]) ** 2 + 0.5 * beta_v * (\n",
    "                    item_bias[item_id]) ** 2\n",
    "\n",
    "        e_ui = rating - R_hat\n",
    "        #计算梯度\n",
    "        delta_miu = -e_ui\n",
    "        delta_bu = -e_ui + beta_u * user_bias[user_id]\n",
    "        delta_bi = -e_ui + beta_v * item_bias[item_id]\n",
    "        delta_Uu = -e_ui * V[item_id] + alpha_u * U[user_id]\n",
    "        delta_Vi = -e_ui * U[user_id] + alpha_v * V[item_id]\n",
    "\n",
    "        #update\n",
    "        miu = miu - lr * delta_miu\n",
    "        user_bias[user_id] = user_bias[user_id] - lr * delta_bu\n",
    "        item_bias[item_id] = item_bias[item_id] - lr * delta_bi\n",
    "        U[user_id] = U[user_id] - lr * delta_Uu\n",
    "        V[item_id] = V[item_id] - lr * delta_Vi\n",
    "    lr *= 0.9\n",
    "    print(f'\\r第{t + 1}轮loss:{loss}', end='')"
   ],
   "metadata": {
    "collapsed": false,
    "ExecuteTime": {
     "end_time": "2024-08-08T11:24:59.937419Z",
     "start_time": "2024-08-08T11:21:31.519334Z"
    }
   },
   "id": "aa48555189f7d0a2"
  },
  {
   "cell_type": "code",
   "execution_count": 9,
   "outputs": [
    {
     "name": "stdout",
     "output_type": "stream",
     "text": [
      "(RMSE:0.9772,MAE:0.7663)\n"
     ]
    }
   ],
   "source": [
    "#RSVD\n",
    "rating_matrix_rsvd = np.copy(rating_matrix)\n",
    "for idx, row in u1_test.iterrows():\n",
    "    user_id = row['uid'] - 1\n",
    "    item_id = row['iid'] - 1\n",
    "    r_hat = miu + user_bias[user_id] + item_bias[item_id] + U[user_id] @ V[item_id].T \n",
    "    if r_hat > 5:\n",
    "        r_hat = 5\n",
    "    if r_hat < 1:\n",
    "        r_hat = 1\n",
    "    rating_matrix_rsvd[user_id,item_id] = r_hat\n",
    "mae4, rmse4 = ERR(rating_matrix_rsvd, u1_test)\n",
    "print(f'(RMSE:{rmse4:.4f},MAE:{mae4:.4f})')"
   ],
   "metadata": {
    "collapsed": false,
    "ExecuteTime": {
     "end_time": "2024-08-08T11:25:00.537196Z",
     "start_time": "2024-08-08T11:24:59.960396Z"
    }
   },
   "id": "a30f2d6881d0771e"
  },
  {
   "cell_type": "code",
   "execution_count": 10,
   "outputs": [],
   "source": [],
   "metadata": {
    "collapsed": false,
    "ExecuteTime": {
     "end_time": "2024-08-06T17:10:19.869311Z",
     "start_time": "2024-08-06T17:10:19.866679Z"
    }
   },
   "id": "c068f91e48db35fe"
  }
 ],
 "metadata": {
  "kernelspec": {
   "display_name": "Python 3",
   "language": "python",
   "name": "python3"
  },
  "language_info": {
   "codemirror_mode": {
    "name": "ipython",
    "version": 2
   },
   "file_extension": ".py",
   "mimetype": "text/x-python",
   "name": "python",
   "nbconvert_exporter": "python",
   "pygments_lexer": "ipython2",
   "version": "2.7.6"
  }
 },
 "nbformat": 4,
 "nbformat_minor": 5
}
