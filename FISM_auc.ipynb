{
 "cells": [
  {
   "cell_type": "code",
   "id": "initial_id",
   "metadata": {
    "collapsed": true,
    "ExecuteTime": {
     "end_time": "2024-09-22T07:38:31.937101Z",
     "start_time": "2024-09-22T07:38:30.067312Z"
    }
   },
   "source": [
    "import math\n",
    "\n",
    "import pandas as pd\n",
    "import numpy as np\n",
    "import random\n",
    "\n",
    "from tqdm import tqdm\n",
    "\n",
    "#读入数据集\n",
    "u1_base = pd.read_csv('ml-100k/u1.base', sep='\\t', names=['uid', 'iid', 'rate', 'timestamp'])\n",
    "u1_test = pd.read_csv('ml-100k/u1.test', sep='\\t', names=['uid', 'iid', 'rate', 'timestamp'])\n",
    "\n",
    "#初始化\n",
    "user_num = u1_base['uid'].max()\n",
    "item_num = u1_base['iid'].max()\n",
    "\n",
    "y_ui = np.zeros((user_num, item_num), int)\n",
    "\n",
    "I_u = {}\n",
    "U_i = {}\n",
    "P = set()\n",
    "#base记录转化为matrix\n",
    "for index, row in u1_base.iterrows():\n",
    "    user_id = row['uid'] - 1\n",
    "    item_id = row['iid'] - 1\n",
    "    rating = row['rate']\n",
    "    if rating >= 4:\n",
    "        P.add((user_id, item_id))\n",
    "        y_ui[user_id, item_id] = 1\n",
    "        I_u.setdefault(user_id,set())\n",
    "        U_i.setdefault(item_id,set())\n",
    "\n",
    "        I_u[user_id].add(item_id)\n",
    "        U_i[item_id].add(user_id)\n",
    "\n",
    "R = y_ui.sum()\n",
    "#全局平均\n",
    "GlobalAverage = R / user_num / item_num\n",
    "\n",
    "#计算四个参数 user_means item_means user_bias item_bias\n",
    "y_sum_row = [sum(row) for row in y_ui]\n",
    "\n",
    "y_sum_col = [sum(column) for column in zip(*y_ui)]\n",
    "\n",
    "user_bias = []\n",
    "for i in range(user_num):\n",
    "    if y_sum_row[i] == 0:\n",
    "        I_u.setdefault(i,set())\n",
    "        user_bias.append(0)\n",
    "    else:\n",
    "        sum_bias = 0\n",
    "        for j in range(item_num):\n",
    "            sum_bias += y_ui[i][j]\n",
    "        user_bias.append(sum_bias / item_num - GlobalAverage)\n",
    "\n",
    "item_bias = []\n",
    "for i in range(item_num):\n",
    "    if y_sum_col[i] == 0:\n",
    "        U_i.setdefault(i,set())\n",
    "        item_bias.append(0)\n",
    "    else:\n",
    "        sum_bias = 0\n",
    "        for j in range(user_num):\n",
    "            sum_bias += y_ui[j][i]\n",
    "        item_bias.append(sum_bias / user_num - GlobalAverage)"
   ],
   "outputs": [],
   "execution_count": 61
  },
  {
   "metadata": {
    "ExecuteTime": {
     "end_time": "2024-09-22T07:38:31.943332Z",
     "start_time": "2024-09-22T07:38:31.940808Z"
    }
   },
   "cell_type": "code",
   "source": [
    "alpha = 0.5\n",
    "lr = 0.01\n",
    "Au_size = 3\n",
    "\n",
    "d= 20\n",
    "lmda = 0.01\n",
    "T = 1000\n",
    "\n",
    "W = np.random.rand(item_num, d)\n",
    "V = np.random.rand(item_num, d)\n",
    "W = (W - 0.5) * 0.01\n",
    "V = (V - 0.5) * 0.01\n"
   ],
   "id": "98a2fbc90ec85336",
   "outputs": [],
   "execution_count": 62
  },
  {
   "metadata": {
    "ExecuteTime": {
     "end_time": "2024-09-22T07:38:31.975449Z",
     "start_time": "2024-09-22T07:38:31.973551Z"
    }
   },
   "cell_type": "code",
   "source": [
    "def I_u_except_i(u, i):\n",
    "    Items_u_except_i = I_u[u].copy()\n",
    "    Items_u_except_i = Items_u_except_i - {i}\n",
    "    return Items_u_except_i"
   ],
   "id": "ce29c23a5bc2ba10",
   "outputs": [],
   "execution_count": 63
  },
  {
   "metadata": {
    "ExecuteTime": {
     "end_time": "2024-09-22T07:38:32.016775Z",
     "start_time": "2024-09-22T07:38:32.014451Z"
    }
   },
   "cell_type": "code",
   "source": [
    "def U_u_except_i(u, i):\n",
    "    if len(I_u_except_i(u, i)) == 0:\n",
    "        return np.zeros(d)\n",
    "    U_u_exc_i = np.sum(W[list(I_u_except_i(u,i))],axis=0)\n",
    "    return U_u_exc_i / len(I_u_except_i(u, i)) ** alpha"
   ],
   "id": "9185d33175f3899a",
   "outputs": [],
   "execution_count": 64
  },
  {
   "metadata": {
    "ExecuteTime": {
     "end_time": "2024-09-22T07:38:32.047778Z",
     "start_time": "2024-09-22T07:38:32.045756Z"
    }
   },
   "cell_type": "code",
   "source": [
    "def FISM(u, i):\n",
    "    return user_bias[u] + item_bias[i] + np.dot(U_u_except_i(u, i), V[i])"
   ],
   "id": "c9f658173f65d188",
   "outputs": [],
   "execution_count": 65
  },
  {
   "metadata": {
    "ExecuteTime": {
     "end_time": "2024-09-22T07:38:32.078051Z",
     "start_time": "2024-09-22T07:38:32.075720Z"
    }
   },
   "cell_type": "code",
   "source": [
    "#用户u未评价过的物品集\n",
    "def I_unob_u(user_id):\n",
    "    return np.where(y_ui[user_id] == 0)[0]"
   ],
   "id": "93f0180789d98ed5",
   "outputs": [],
   "execution_count": 66
  },
  {
   "metadata": {
    "jupyter": {
     "is_executing": true
    },
    "ExecuteTime": {
     "start_time": "2024-09-22T07:38:32.112349Z"
    }
   },
   "cell_type": "code",
   "source": [
    "for t in range(T):\n",
    "    for u in tqdm(range(user_num), desc=f\"Epoch {t + 1}/{T}\", leave=False):\n",
    "        items_rated_by_u = I_u[u]\n",
    "        Iu_size = len(items_rated_by_u)\n",
    "        for i in items_rated_by_u:\n",
    "            Uu_i = U_u_except_i(u, i)\n",
    "            Uu = U_u_except_i(u, 2000)\n",
    "\n",
    "            Au = random.sample(list(I_unob_u(u)), Au_size)\n",
    "            x1 = 0\n",
    "            x2 = 0\n",
    "            x3 = 0\n",
    "            x4 = 0\n",
    "            for j in Au:\n",
    "                r_hat_i = FISM(u, i)\n",
    "                r_hat_j = FISM(u, j)\n",
    "                e_uij = (1 - r_hat_i + r_hat_j) / Au_size\n",
    "\n",
    "                x1 += -e_uij * ((V[i] / (Iu_size - 1) ** alpha if Iu_size > 1 else 0) - V[j] / (Iu_size ** alpha))\n",
    "                x2 += e_uij * (V[j] / (Iu_size ** alpha))\n",
    "                x3 += -e_uij\n",
    "                x4 += -e_uij * Uu_i\n",
    "\n",
    "                delta_bj = e_uij + lmda * item_bias[j]\n",
    "                delta_Vj = e_uij * Uu + lmda * V[j]\n",
    "                item_bias[j] -= lr * delta_bj\n",
    "                V[j] -= lr * delta_Vj\n",
    "\n",
    "            delta_bi = x3 + lmda * item_bias[i]\n",
    "            delta_Vi = x4 + lmda * V[i]\n",
    "            item_bias[i] -= lr * delta_bi\n",
    "            V[i] -= lr * delta_Vi\n",
    "\n",
    "            i_pie_list = list(I_u_except_i(u, i))\n",
    "            W[i_pie_list] -= lr * (x1 + lmda * W[i_pie_list])\n",
    "            W[i] -= lr * (x2 + lmda * W[i])"
   ],
   "id": "cb9b43ab0317c17c",
   "outputs": [
    {
     "name": "stderr",
     "output_type": "stream",
     "text": [
      "Epoch 1/1000:   0%|          | 0/943 [00:00<?, ?it/s]"
     ]
    }
   ],
   "execution_count": null
  },
  {
   "metadata": {},
   "cell_type": "code",
   "outputs": [],
   "execution_count": null,
   "source": [
    "#test\n",
    "I_u_preferred = {}\n",
    "U_te = set()\n",
    "for index, row in u1_test.iterrows():\n",
    "    user_id = row['uid'] - 1\n",
    "    item_id = row['iid'] - 1\n",
    "    rating = row['rate']\n",
    "    if rating >= 4:\n",
    "        if user_id not in I_u_preferred:\n",
    "            I_u_preferred[user_id] = set()\n",
    "        I_u_preferred[user_id].add(item_id)\n",
    "        U_te.add(user_id)"
   ],
   "id": "879fd12b69603f5"
  },
  {
   "metadata": {},
   "cell_type": "code",
   "outputs": [],
   "execution_count": null,
   "source": [
    "#为用户u推荐的物品\n",
    "def get_rec_items(u,R_HAT,k):\n",
    "    unob_items = I_unob_u(u)\n",
    "    items_pred = {i:R_HAT(u,i) for i in unob_items }\n",
    "    # 根据预测评分降序排序\n",
    "    sorted_items = sorted(items_pred.items(), key=lambda x: x[1], reverse=True)\n",
    "    # 输出前 k 个物品及其评分\n",
    "    top_k_items = sorted_items[:k]\n",
    "    return [k for k,v in top_k_items]\n"
   ],
   "id": "6cbbc26f3f224b30"
  },
  {
   "metadata": {},
   "cell_type": "code",
   "outputs": [],
   "execution_count": null,
   "source": [
    "def Pre_at_k(R_HAT, k):\n",
    "    Pre = 0\n",
    "    for u in U_te:\n",
    "        rec_items = get_rec_items(u, R_HAT, k)\n",
    "        pre_items = I_u_preferred[u]  #用户实际喜欢项目 \n",
    "        Pre_u = len(set(rec_items).intersection(set(pre_items))) / k\n",
    "        Pre += Pre_u\n",
    "    return Pre / len(U_te)\n",
    "\n",
    "\n",
    "def Rec_at_k(R_HAT, k):\n",
    "    Rec = 0\n",
    "    for u in U_te:\n",
    "        rec_items = get_rec_items(u, R_HAT, k)\n",
    "        pre_items = I_u_preferred[u]\n",
    "        Rec_u = len(set(rec_items).intersection(set(pre_items))) / len(pre_items)\n",
    "        Rec += Rec_u\n",
    "    return Rec / len(U_te)\n",
    "\n",
    "\n",
    "def NDCG_at_k(R_HAT, k):\n",
    "    NDCG = 0\n",
    "    for u in U_te:\n",
    "        rec_items = get_rec_items(u, R_HAT, k)\n",
    "        pre_items = I_u_preferred[u]\n",
    "        DCG_u = 0\n",
    "        for pos in range(k):\n",
    "            if rec_items[pos] in pre_items:\n",
    "                DCG_u += 1 / math.log(pos + 2)\n",
    "        IDCG_u = sum(1.0 / math.log(pos + 2) for pos in range(min(len(pre_items), k)))  #Zu\n",
    "        NDCG += DCG_u / IDCG_u\n",
    "    return NDCG / len(U_te)\n"
   ],
   "id": "d086fd8ee16b38ec"
  },
  {
   "metadata": {},
   "cell_type": "code",
   "outputs": [],
   "execution_count": null,
   "source": [
    "print(f\"Pre: {Pre_at_k(FISM, 5):.4f}\")\n",
    "print(f\"Rec: {Rec_at_k(FISM, 5):.4f}\")\n",
    "print(f\"NDCG: {NDCG_at_k(FISM, 5):.4f}\")"
   ],
   "id": "aa59973d202dc0b9"
  },
  {
   "metadata": {},
   "cell_type": "code",
   "outputs": [],
   "execution_count": null,
   "source": "",
   "id": "a057baceded47e78"
  }
 ],
 "metadata": {
  "kernelspec": {
   "display_name": "Python 3",
   "language": "python",
   "name": "python3"
  },
  "language_info": {
   "codemirror_mode": {
    "name": "ipython",
    "version": 2
   },
   "file_extension": ".py",
   "mimetype": "text/x-python",
   "name": "python",
   "nbconvert_exporter": "python",
   "pygments_lexer": "ipython2",
   "version": "2.7.6"
  }
 },
 "nbformat": 4,
 "nbformat_minor": 5
}
