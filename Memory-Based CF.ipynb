{
 "cells": [
  {
   "cell_type": "code",
   "execution_count": 1,
   "id": "initial_id",
   "metadata": {
    "collapsed": true,
    "ExecuteTime": {
     "end_time": "2024-08-06T14:27:36.739230Z",
     "start_time": "2024-08-06T14:27:34.952610Z"
    }
   },
   "outputs": [],
   "source": [
    "import pandas as pd\n",
    "import numpy as np\n",
    "import math\n",
    "\n",
    "#读入数据集\n",
    "u1_base = pd.read_csv('ml-100k/u1.base', sep='\\t', names=['uid', 'iid', 'rate', 'timestamp'])\n",
    "u1_test = pd.read_csv('ml-100k/u1.test', sep='\\t', names=['uid', 'iid', 'rate', 'timestamp'])\n",
    "\n",
    "\n",
    "#定义误差函数\n",
    "def ERR(rating_matrix, test):\n",
    "    cnt = 0\n",
    "    abs_err = 0\n",
    "    squ_err = 0\n",
    "\n",
    "    for index, row in test.iterrows():\n",
    "        user_id = row['uid']\n",
    "        item_id = row['iid']\n",
    "        true_rating = row['rate']\n",
    "\n",
    "        predicted_rating = rating_matrix[user_id - 1][item_id - 1]\n",
    "\n",
    "        # 计算绝对误差/平方误差\n",
    "        absolute_error = abs(predicted_rating - true_rating)\n",
    "        abs_err += absolute_error\n",
    "\n",
    "        square_error = pow(predicted_rating - true_rating, 2)\n",
    "        squ_err += square_error\n",
    "\n",
    "        cnt += 1\n",
    "    # 计算平均绝对误差/平方误差\n",
    "    mae = abs_err / cnt\n",
    "    rmse = (squ_err / cnt) ** 0.5\n",
    "    return mae, rmse\n",
    "\n",
    "\n",
    "#初始化\n",
    "user_num = u1_base['uid'].max()\n",
    "item_num = u1_base['iid'].max()\n",
    "\n",
    "rating_matrix = np.zeros((user_num, item_num), float)\n",
    "y_ui = np.zeros((user_num, item_num), int)\n",
    "user_num, item_num\n",
    "\n",
    "#base记录转化为matrix\n",
    "for index, row in u1_base.iterrows():\n",
    "    user_id = row['uid']\n",
    "    item_id = row['iid']\n",
    "    rating = row['rate']\n",
    "    rating_matrix[user_id - 1, item_id - 1] = rating\n",
    "    y_ui[user_id - 1, item_id - 1] = 1\n",
    "\n",
    "#全局平均\n",
    "GlobalAverage = rating_matrix.sum() / y_ui.sum()\n",
    "\n",
    "#计算两个参数 user_means item_means\n",
    "rating_sum_row = [sum(row) for row in rating_matrix]\n",
    "y_sum_row = [sum(row) for row in y_ui]\n",
    "\n",
    "rating_sum_col = [sum(column) for column in zip(*rating_matrix)]\n",
    "y_sum_col = [sum(column) for column in zip(*y_ui)]\n",
    "\n",
    "user_means = []\n",
    "for i in range(user_num):\n",
    "    if y_sum_row[i] == 0:\n",
    "        user_means.append(GlobalAverage)\n",
    "    else:\n",
    "        user_means.append(rating_sum_row[i] / y_sum_row[i])\n",
    "\n",
    "item_means = []\n",
    "for i in range(item_num):\n",
    "    if y_sum_col[i] == 0:\n",
    "        item_means.append(GlobalAverage)\n",
    "    else:\n",
    "        item_means.append(rating_sum_col[i] / y_sum_col[i])\n",
    "\n",
    "\n",
    "#两用户都评分过的item id \n",
    "def con_items(u, w):\n",
    "    con_item = []\n",
    "    for i in range(item_num):\n",
    "        if rating_matrix[u][i] != 0 and rating_matrix[w][i] != 0:\n",
    "            con_item.append(i)\n",
    "    return con_item\n",
    "\n",
    "\n",
    "#共同评过u,w的 user id\n",
    "def con_users(u, w):\n",
    "    con_user = []\n",
    "    for i in range(user_num):\n",
    "        if rating_matrix[i][u] != 0 and rating_matrix[i][w] != 0:\n",
    "            con_user.append(i)\n",
    "    return con_user\n",
    "\n",
    "\n",
    "def PCC_u(u, w):\n",
    "    con_item = con_items(u, w)\n",
    "    if len(con_item) == 0:\n",
    "        return 0\n",
    "    sum = 0\n",
    "    sum_u = 0\n",
    "    sum_w = 0\n",
    "    for i in con_item:\n",
    "        sum += (rating_matrix[u][i] - user_means[u]) * (rating_matrix[w][i] - user_means[w])\n",
    "        sum_u += (rating_matrix[u][i] - user_means[u]) ** 2\n",
    "        sum_w += (rating_matrix[w][i] - user_means[w]) ** 2\n",
    "    if sum_u == 0 or sum_w == 0:\n",
    "        return 0\n",
    "    return sum / (math.sqrt(sum_u) * math.sqrt(sum_w))\n",
    "\n",
    "\n",
    "def PCC_i(k, j):\n",
    "    con_user = con_users(k, j)\n",
    "    if len(con_user) == 0:\n",
    "        return 0\n",
    "    sum = 0\n",
    "    sum_u = 0\n",
    "    sum_w = 0\n",
    "    for i in con_user:\n",
    "        sum += (rating_matrix[i][k] - user_means[i]) * (rating_matrix[i][j] - user_means[i])\n",
    "        sum_u += (rating_matrix[i][k] - user_means[i]) ** 2\n",
    "        sum_w += (rating_matrix[i][j] - user_means[i]) ** 2\n",
    "    if sum_u == 0 or sum_w == 0:\n",
    "        return 0\n",
    "    return sum / (math.sqrt(sum_u) * math.sqrt(sum_w))"
   ]
  },
  {
   "cell_type": "code",
   "execution_count": 2,
   "outputs": [
    {
     "name": "stdout",
     "output_type": "stream",
     "text": [
      "100.00%"
     ]
    }
   ],
   "source": [
    "PCC_matrix_u = np.zeros((user_num, user_num), float)\n",
    "for i in range(user_num):\n",
    "    PCC_matrix_u[i][i] = 1\n",
    "    for k in range(i):\n",
    "        coefficient = PCC_u(i, k)\n",
    "        PCC_matrix_u[i][k] = coefficient\n",
    "        PCC_matrix_u[k][i] = coefficient\n",
    "    print(f'\\r{i / (user_num - 1) * 100:.2f}%', end='')"
   ],
   "metadata": {
    "collapsed": false,
    "ExecuteTime": {
     "end_time": "2024-08-06T14:29:16.323522Z",
     "start_time": "2024-08-06T14:27:36.740167Z"
    }
   },
   "id": "31417fc51503cee8"
  },
  {
   "cell_type": "code",
   "execution_count": 3,
   "outputs": [
    {
     "name": "stdout",
     "output_type": "stream",
     "text": [
      "100.00%"
     ]
    }
   ],
   "source": [
    "PCC_matrix_i = np.zeros((item_num, item_num), float)\n",
    "for i in range(item_num):\n",
    "    PCC_matrix_i[i][i] = 1\n",
    "    for k in range(i):\n",
    "        coefficient = PCC_i(i, k)\n",
    "        PCC_matrix_i[i][k] = coefficient\n",
    "        PCC_matrix_i[k][i] = coefficient\n",
    "    print(f'\\r{i / (item_num - 1) * 100:.2f}%', end='')"
   ],
   "metadata": {
    "collapsed": false,
    "ExecuteTime": {
     "end_time": "2024-08-06T14:32:06.077968Z",
     "start_time": "2024-08-06T14:29:16.328852Z"
    }
   },
   "id": "a8cfae5597fd1a87"
  },
  {
   "cell_type": "code",
   "execution_count": 4,
   "outputs": [],
   "source": [
    "#相似度非0 的user 邻居\n",
    "def non_zero_neighbors(u):\n",
    "    ret = np.where(PCC_matrix_u[u] != 0)[0]\n",
    "    return ret[ret != u]\n",
    "\n",
    "\n",
    "def users_rated_j(j):\n",
    "    return np.where(y_ui[:, j] == 1)[0]\n",
    "\n",
    "\n",
    "k = 20\n",
    "\n",
    "\n",
    "def predict_rate_u(u, j):\n",
    "    neighbors = np.intersect1d(non_zero_neighbors(u), users_rated_j(j))\n",
    "    neighbors_PCCs = [(neighbor, PCC_matrix_u[u][neighbor]) for neighbor in neighbors]\n",
    "    # 按相似度排序（降序）\n",
    "    sorted_neighbors = sorted(neighbors_PCCs, key=lambda x: x[1], reverse=True)\n",
    "    # 获取前k个邻居\n",
    "    top_k = sorted_neighbors[:k]\n",
    "\n",
    "    if len(top_k) == 0:\n",
    "        return user_means[u]\n",
    "    sum1 = 0\n",
    "    sum2 = 0\n",
    "    for neighbor, pcc in top_k:\n",
    "        sum1 += pcc * (rating_matrix[neighbor][j] - user_means[neighbor])\n",
    "        sum2 += pcc\n",
    "    if sum2 == 0:\n",
    "        return user_means[u]\n",
    "    predict_rate = user_means[u] + sum1 / sum2\n",
    "    if predict_rate < 1:\n",
    "        return 1\n",
    "    if predict_rate > 5:\n",
    "        return 5\n",
    "    return user_means[u] + sum1 / sum2\n",
    "\n",
    "\n",
    "#相似度非0 的item邻居\n",
    "def non_zero_neighbors_i(i):\n",
    "    ret = np.where(PCC_matrix_i[i] != 0)[0]\n",
    "    return ret[ret != i]\n",
    "\n",
    "\n",
    "def items_rated_u(u):\n",
    "    return np.where(y_ui[u] == 1)[0]\n",
    "\n",
    "\n",
    "def predict_rate_i(u, j):\n",
    "    neighbors = np.intersect1d(non_zero_neighbors_i(j), items_rated_u(u))\n",
    "    neighbors_PCCs = [(neighbor, PCC_matrix_i[j][neighbor]) for neighbor in neighbors]\n",
    "    # 按相似度排序（降序）\n",
    "    sorted_neighbors = sorted(neighbors_PCCs, key=lambda x: x[1], reverse=True)\n",
    "    # 获取前k个邻居\n",
    "    top_k = sorted_neighbors[:k]\n",
    "\n",
    "    if len(top_k) == 0:\n",
    "        return user_means[u]\n",
    "    sum1 = 0\n",
    "    sum2 = 0\n",
    "    for neighbor, pcc in top_k:\n",
    "        sum1 += pcc * rating_matrix[u][neighbor]\n",
    "        sum2 += pcc\n",
    "    if sum2 == 0:\n",
    "        return user_means[u]\n",
    "    predict_rate = sum1 / sum2\n",
    "    if predict_rate < 1:\n",
    "        return 1\n",
    "    if predict_rate > 5:\n",
    "        return 5\n",
    "    return predict_rate"
   ],
   "metadata": {
    "collapsed": false,
    "ExecuteTime": {
     "end_time": "2024-08-06T14:32:06.087733Z",
     "start_time": "2024-08-06T14:32:06.081893Z"
    }
   },
   "id": "82bd86c28b8a0d2b"
  },
  {
   "cell_type": "code",
   "execution_count": 5,
   "outputs": [],
   "source": [
    "filled_matrix_u = np.copy(rating_matrix)\n",
    "for idx, row in u1_test.iterrows():\n",
    "    user_id = row['uid'] - 1\n",
    "    item_id = row['iid'] - 1\n",
    "    filled_matrix_u[user_id][item_id] = predict_rate_u(user_id, item_id)\n",
    "mae1, rmse1 = ERR(filled_matrix_u, u1_test)"
   ],
   "metadata": {
    "collapsed": false,
    "ExecuteTime": {
     "end_time": "2024-08-06T14:32:08.290071Z",
     "start_time": "2024-08-06T14:32:06.085311Z"
    }
   },
   "id": "a6a233dbc7ab1cc"
  },
  {
   "cell_type": "code",
   "execution_count": 6,
   "outputs": [],
   "source": [
    "filled_matrix_i = np.copy(rating_matrix)\n",
    "for idx, row in u1_test.iterrows():\n",
    "    user_id = row['uid'] - 1\n",
    "    item_id = row['iid'] - 1\n",
    "    filled_matrix_i[user_id][item_id] = predict_rate_i(user_id, item_id)\n",
    "mae2, rmse2 = ERR(filled_matrix_i, u1_test)"
   ],
   "metadata": {
    "collapsed": false,
    "ExecuteTime": {
     "end_time": "2024-08-06T14:32:10.509366Z",
     "start_time": "2024-08-06T14:32:08.290781Z"
    }
   },
   "id": "c27da34397f8d2c0"
  },
  {
   "cell_type": "code",
   "execution_count": 7,
   "outputs": [],
   "source": [
    "filled_matrix_ui = np.copy(rating_matrix)\n",
    "for idx, row in u1_test.iterrows():\n",
    "    user_id = row['uid'] - 1\n",
    "    item_id = row['iid'] - 1\n",
    "    filled_matrix_ui[user_id][item_id] = 0.5 * filled_matrix_u[user_id, item_id] + 0.5 * filled_matrix_i[user_id, item_id]\n",
    "mae3, rmse3 = ERR(filled_matrix_ui, u1_test)"
   ],
   "metadata": {
    "collapsed": false,
    "ExecuteTime": {
     "end_time": "2024-08-06T14:32:11.054814Z",
     "start_time": "2024-08-06T14:32:10.509904Z"
    }
   },
   "id": "e749406ef1da686"
  },
  {
   "cell_type": "code",
   "execution_count": 8,
   "outputs": [
    {
     "name": "stdout",
     "output_type": "stream",
     "text": [
      "(RMSE:0.9819,MAE:0.7642)\n",
      "(RMSE:1.0770,MAE:0.8335)\n",
      "(RMSE:0.9877,MAE:0.7771)\n"
     ]
    }
   ],
   "source": [
    "print(f'(RMSE:{rmse1:.4f},MAE:{mae1:.4f})')\n",
    "print(f'(RMSE:{rmse2:.4f},MAE:{mae2:.4f})')\n",
    "print(f'(RMSE:{rmse3:.4f},MAE:{mae3:.4f})')"
   ],
   "metadata": {
    "collapsed": false,
    "ExecuteTime": {
     "end_time": "2024-08-06T14:32:11.064161Z",
     "start_time": "2024-08-06T14:32:11.055222Z"
    }
   },
   "id": "9c83fa83cbcbe5a9"
  },
  {
   "cell_type": "code",
   "execution_count": 8,
   "outputs": [],
   "source": [],
   "metadata": {
    "collapsed": false,
    "ExecuteTime": {
     "end_time": "2024-08-06T14:32:11.064456Z",
     "start_time": "2024-08-06T14:32:11.061087Z"
    }
   },
   "id": "b96f4661b97ca68e"
  }
 ],
 "metadata": {
  "kernelspec": {
   "display_name": "Python 3",
   "language": "python",
   "name": "python3"
  },
  "language_info": {
   "codemirror_mode": {
    "name": "ipython",
    "version": 2
   },
   "file_extension": ".py",
   "mimetype": "text/x-python",
   "name": "python",
   "nbconvert_exporter": "python",
   "pygments_lexer": "ipython2",
   "version": "2.7.6"
  }
 },
 "nbformat": 4,
 "nbformat_minor": 5
}
