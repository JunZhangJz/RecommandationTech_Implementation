{
 "cells": [
  {
   "cell_type": "code",
   "execution_count": 2,
   "id": "initial_id",
   "metadata": {
    "ExecuteTime": {
     "end_time": "2024-08-07T15:29:08.011426Z",
     "start_time": "2024-08-07T15:29:04.525987Z"
    }
   },
   "outputs": [],
   "source": [
    "import random\n",
    "\n",
    "import pandas as pd\n",
    "import numpy as np\n",
    "import math\n",
    "\n",
    "#读入数据集\n",
    "u1_base = pd.read_csv('ml-100k/u1.base', sep='\\t', names=['uid', 'iid', 'rate', 'timestamp'])\n",
    "u1_test = pd.read_csv('ml-100k/u1.test', sep='\\t', names=['uid', 'iid', 'rate', 'timestamp'])\n",
    "\n",
    "#初始化\n",
    "user_num = u1_base['uid'].max()\n",
    "item_num = u1_base['iid'].max()\n",
    "\n",
    "rating_matrix = np.zeros((user_num, item_num), float)\n",
    "y_ui = np.zeros((user_num, item_num), int)\n",
    "\n",
    "#base记录转化为matrix\n",
    "for index, row in u1_base.iterrows():\n",
    "    user_id = row['uid']\n",
    "    item_id = row['iid']\n",
    "    rating = row['rate']\n",
    "    rating_matrix[user_id - 1, item_id - 1] = rating\n",
    "    y_ui[user_id - 1, item_id - 1] = 1\n",
    "\n",
    "#全局平均\n",
    "GlobalAverage = rating_matrix.sum() / y_ui.sum()\n",
    "\n",
    "#计算四个参数 user_means item_means user_bias item_bias\n",
    "rating_sum_row = [sum(row) for row in rating_matrix]\n",
    "y_sum_row = [sum(row) for row in y_ui]\n",
    "\n",
    "rating_sum_col = [sum(column) for column in zip(*rating_matrix)]\n",
    "y_sum_col = [sum(column) for column in zip(*y_ui)]\n",
    "\n",
    "user_means = []\n",
    "for i in range(user_num):\n",
    "    if y_sum_row[i] == 0:\n",
    "        user_means.append(GlobalAverage)\n",
    "    else:\n",
    "        user_means.append(rating_sum_row[i] / y_sum_row[i])\n",
    "\n",
    "item_means = []\n",
    "for i in range(item_num):\n",
    "    if y_sum_col[i] == 0:\n",
    "        item_means.append(GlobalAverage)\n",
    "    else:\n",
    "        item_means.append(rating_sum_col[i] / y_sum_col[i])\n",
    "\n",
    "user_bias = []\n",
    "for i in range(user_num):\n",
    "    if y_sum_row[i] == 0:\n",
    "        user_bias.append(0)\n",
    "    else:\n",
    "        sum_bias = 0\n",
    "        for j in range(item_num):\n",
    "            sum_bias += y_ui[i][j] * (rating_matrix[i][j] - GlobalAverage)\n",
    "        user_bias.append(sum_bias / y_sum_row[i])\n",
    "\n",
    "item_bias = []\n",
    "for i in range(item_num):\n",
    "    if y_sum_col[i] == 0:\n",
    "        item_bias.append(0)\n",
    "    else:\n",
    "        sum_bias = 0\n",
    "        for j in range(user_num):\n",
    "            sum_bias += y_ui[j][i] * (rating_matrix[j][i] - GlobalAverage)\n",
    "        item_bias.append(sum_bias / y_sum_col[i])\n"
   ]
  },
  {
   "cell_type": "code",
   "execution_count": 2,
   "id": "d23035fa51af7df5",
   "metadata": {
    "ExecuteTime": {
     "end_time": "2024-08-07T12:07:01.632706Z",
     "start_time": "2024-08-07T12:07:01.628236Z"
    }
   },
   "outputs": [],
   "source": [
    "def items_u_r(u, item, r):\n",
    "    items = np.where(rating_matrix[u] == r)[0]\n",
    "    items = items[items != item]\n",
    "    return items\n"
   ]
  },
  {
   "cell_type": "code",
   "execution_count": 3,
   "id": "78f9cbed1488cb19",
   "metadata": {
    "ExecuteTime": {
     "end_time": "2024-08-07T12:07:01.632915Z",
     "start_time": "2024-08-07T12:07:01.630787Z"
    }
   },
   "outputs": [],
   "source": [
    "#超参数\n",
    "lmda = 0.001\n",
    "lr = 0.01\n",
    "d = 20\n",
    "epoch = 20\n",
    "u1_base_num = len(u1_base)\n"
   ]
  },
  {
   "cell_type": "code",
   "execution_count": 4,
   "id": "816e035cb7402060",
   "metadata": {
    "ExecuteTime": {
     "end_time": "2024-08-07T12:07:01.638165Z",
     "start_time": "2024-08-07T12:07:01.634335Z"
    }
   },
   "outputs": [],
   "source": [
    "def U_MPC(u, i, M):\n",
    "    U_mpc = np.zeros(d, float)\n",
    "    for rating_class in range(5):\n",
    "        items = items_u_r(u, i, rating_class + 1)\n",
    "        items_len = len(items)\n",
    "        if items_len == 0:\n",
    "            continue\n",
    "        U_mpc += np.sum(M[rating_class, items, :], axis=0) / items_len ** 0.5\n",
    "    return U_mpc\n",
    "\n",
    "def R_HAT(u, i, miu, U, V, user_bias, item_bias, M):\n",
    "    return miu + user_bias[u] + item_bias[i] + np.dot(U[u], V[i]) + np.dot(U_MPC(u, i, M), V[i])\n"
   ]
  },
  {
   "cell_type": "code",
   "execution_count": 5,
   "id": "f1c299af5d8c015",
   "metadata": {
    "ExecuteTime": {
     "end_time": "2024-08-07T12:24:20.877295Z",
     "start_time": "2024-08-07T12:07:01.640063Z"
    }
   },
   "outputs": [
    {
     "name": "stdout",
     "output_type": "stream",
     "text": [
      "20:80000"
     ]
    }
   ],
   "source": [
    "U = np.random.rand(user_num + 1, d)\n",
    "V = np.random.rand(item_num + 1, d)\n",
    "M = np.random.rand(5, item_num, d)\n",
    "U = (U - 0.5) * 0.01\n",
    "V = (V - 0.5) * 0.01\n",
    "M = (M - 0.5) * 0.01\n",
    "miu = GlobalAverage\n",
    "for t in range(epoch):\n",
    "    indices = list(range(u1_base_num))\n",
    "    random.shuffle(indices)\n",
    "    for n in range(u1_base_num):\n",
    "        print(f'\\r{t + 1}:{n + 1}', end='')\n",
    "        row = u1_base.iloc[indices[n]]\n",
    "        user_id = row['uid'] - 1\n",
    "        item_id = row['iid'] - 1\n",
    "        rating = row['rate']\n",
    "\n",
    "        U_mpc = U_MPC(user_id, item_id, M)\n",
    "        e_ui = rating - R_HAT(user_id, item_id, miu, U, V, user_bias, item_bias, M)\n",
    "        #计算梯度\n",
    "        delta_miu = -e_ui\n",
    "        delta_bu = -e_ui + lmda * user_bias[user_id]\n",
    "        delta_bi = -e_ui + lmda * item_bias[item_id]\n",
    "        delta_Uu = -e_ui * V[item_id] + lmda * U[user_id]\n",
    "        delta_Vi = -e_ui * (U[user_id] + U_mpc) + lmda * V[item_id]\n",
    "\n",
    "        for r in range(5):\n",
    "            i_pie = items_u_r(user_id, item_id, r + 1)\n",
    "            i_num = len(i_pie)\n",
    "            if i_num == 0:\n",
    "                continue\n",
    "            for i in i_pie:\n",
    "                delta_M = -e_ui * V[item_id] / i_num ** 0.5 + lmda * M[r][i]\n",
    "                M[r][i] -= lr * delta_M\n",
    "        #update \n",
    "\n",
    "        miu -= lr * delta_miu\n",
    "        user_bias[user_id] -= lr * delta_bu\n",
    "        item_bias[item_id] -= lr * delta_bi\n",
    "        U[user_id] -= lr * delta_Uu\n",
    "        V[item_id] -= lr * delta_Vi\n",
    "    lr *= 0.9"
   ]
  },
  {
   "cell_type": "code",
   "execution_count": 14,
   "outputs": [],
   "source": [
    "def ERR(test):\n",
    "    cnt = 0\n",
    "    abs_err = 0\n",
    "    squ_err = 0\n",
    "\n",
    "    for index, row in test.iterrows():\n",
    "        user_id = row['uid'] - 1\n",
    "        item_id = row['iid'] - 1\n",
    "        real_rating = row['rate']\n",
    "\n",
    "        predicted_rating = R_HAT(user_id, item_id, miu, U, V, user_bias, item_bias, M)\n",
    "        if predicted_rating > 5:\n",
    "            predicted_rating = 5\n",
    "        if predicted_rating < 1:\n",
    "            predicted_rating = 1\n",
    "\n",
    "        # 计算绝对误差/平方误差\n",
    "        absolute_error = abs(predicted_rating - real_rating)\n",
    "        abs_err += absolute_error\n",
    "\n",
    "        square_error = pow(predicted_rating - real_rating, 2)\n",
    "        squ_err += square_error\n",
    "\n",
    "        cnt += 1\n",
    "    # 计算平均绝对误差/平方误差\n",
    "    mae = abs_err / cnt\n",
    "    rmse = (squ_err / cnt) ** 0.5\n",
    "    return mae, rmse"
   ],
   "metadata": {
    "collapsed": false,
    "ExecuteTime": {
     "end_time": "2024-08-07T12:28:59.290562Z",
     "start_time": "2024-08-07T12:28:59.287004Z"
    }
   },
   "id": "6ab3877150e3bedc"
  },
  {
   "cell_type": "code",
   "execution_count": 15,
   "outputs": [
    {
     "name": "stdout",
     "output_type": "stream",
     "text": [
      "(RMSE:0.9175,MAE:0.7192)\n"
     ]
    }
   ],
   "source": [
    "mae, rmse = ERR(u1_test)\n",
    "print(f'(RMSE:{rmse:.4f},MAE:{mae:.4f})')   "
   ],
   "metadata": {
    "collapsed": false,
    "ExecuteTime": {
     "end_time": "2024-08-07T12:29:01.077176Z",
     "start_time": "2024-08-07T12:28:59.881751Z"
    }
   },
   "id": "1f222f6a31875a55"
  },
  {
   "cell_type": "code",
   "execution_count": null,
   "outputs": [],
   "source": [],
   "metadata": {
    "collapsed": false
   },
   "id": "293a9044a82c5f55"
  }
 ],
 "metadata": {
  "kernelspec": {
   "display_name": "Python 3 (ipykernel)",
   "language": "python",
   "name": "python3"
  },
  "language_info": {
   "codemirror_mode": {
    "name": "ipython",
    "version": 3
   },
   "file_extension": ".py",
   "mimetype": "text/x-python",
   "name": "python",
   "nbconvert_exporter": "python",
   "pygments_lexer": "ipython3",
   "version": "3.10.9"
  }
 },
 "nbformat": 4,
 "nbformat_minor": 5
}
