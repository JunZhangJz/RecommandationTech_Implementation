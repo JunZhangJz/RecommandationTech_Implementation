{
 "cells": [
  {
   "cell_type": "code",
   "execution_count": 133,
   "id": "initial_id",
   "metadata": {
    "collapsed": true,
    "ExecuteTime": {
     "end_time": "2024-08-08T12:12:15.284055Z",
     "start_time": "2024-08-08T12:12:12.069449Z"
    }
   },
   "outputs": [],
   "source": [
    "import random\n",
    "import torch\n",
    "import torch.nn as nn\n",
    "import torch.optim as optim\n",
    "\n",
    "import pandas as pd\n",
    "import numpy as np\n",
    "from torch.utils.data import TensorDataset, DataLoader\n",
    "\n",
    "# 读取数据集\n",
    "u1_base = pd.read_csv('ml-100k/u1.base', sep='\\t', names=['uid', 'iid', 'rate', 'timestamp'])\n",
    "u1_test = pd.read_csv('ml-100k/u1.test', sep='\\t', names=['uid', 'iid', 'rate', 'timestamp'])\n",
    "\n",
    "\n",
    "#定义误差函数\n",
    "def ERR(model, test):\n",
    "    cnt = 0\n",
    "    abs_err = 0\n",
    "    squ_err = 0\n",
    "\n",
    "    for index, row in test.iterrows():\n",
    "        user_id = row['uid'] - 1\n",
    "        item_id = row['iid'] - 1\n",
    "        true_rating = row['rate']\n",
    "\n",
    "        predicted_rating = model(user_id, item_id)\n",
    "        if predicted_rating > 5:\n",
    "            predicted_rating = 5\n",
    "        if predicted_rating < 1:\n",
    "            predicted_rating = 1\n",
    "\n",
    "        absolute_error = abs(predicted_rating - true_rating)\n",
    "        abs_err += absolute_error\n",
    "\n",
    "        square_error = (predicted_rating - true_rating) ** 2\n",
    "        squ_err += square_error\n",
    "\n",
    "        cnt += 1\n",
    "\n",
    "    mae = abs_err / cnt\n",
    "    rmse = (squ_err / cnt) ** 0.5\n",
    "    return mae, rmse\n",
    "\n",
    "\n",
    "user_num = u1_base['uid'].max()\n",
    "item_num = u1_base['iid'].max()\n",
    "\n",
    "rating_matrix = np.zeros((user_num, item_num), float)\n",
    "y_ui = np.zeros((user_num, item_num), int)\n",
    "\n",
    "# 记录转换为矩阵\n",
    "for index, row in u1_base.iterrows():\n",
    "    user_id = row['uid']\n",
    "    item_id = row['iid']\n",
    "    rating = row['rate']\n",
    "    rating_matrix[user_id - 1, item_id - 1] = rating\n",
    "    y_ui[user_id - 1, item_id - 1] = 1\n",
    "\n",
    "# Global average\n",
    "GlobalAverage = rating_matrix.sum() / y_ui.sum()\n",
    "\n",
    "#计算四个参数:user_means, item_means, user_bias, item_bias\n",
    "rating_sum_row = [sum(row) for row in rating_matrix]\n",
    "y_sum_row = [sum(row) for row in y_ui]\n",
    "\n",
    "rating_sum_col = [sum(column) for column in zip(*rating_matrix)]\n",
    "y_sum_col = [sum(column) for column in zip(*y_ui)]\n",
    "\n",
    "user_means = []\n",
    "for i in range(user_num):\n",
    "    if y_sum_row[i] == 0:\n",
    "        user_means.append(GlobalAverage)\n",
    "    else:\n",
    "        user_means.append(rating_sum_row[i] / y_sum_row[i])\n",
    "\n",
    "item_means = []\n",
    "for i in range(item_num):\n",
    "    if y_sum_col[i] == 0:\n",
    "        item_means.append(GlobalAverage)\n",
    "    else:\n",
    "        item_means.append(rating_sum_col[i] / y_sum_col[i])\n",
    "\n",
    "user_bias = []\n",
    "for i in range(user_num):\n",
    "    if y_sum_row[i] == 0:\n",
    "        user_bias.append(0)\n",
    "    else:\n",
    "        sum_bias = 0\n",
    "        for j in range(item_num):\n",
    "            sum_bias += y_ui[i][j] * (rating_matrix[i][j] - GlobalAverage)\n",
    "        user_bias.append(sum_bias / y_sum_row[i])\n",
    "\n",
    "item_bias = []\n",
    "for i in range(item_num):\n",
    "    if y_sum_col[i] == 0:\n",
    "        item_bias.append(0)\n",
    "    else:\n",
    "        sum_bias = 0\n",
    "        for j in range(user_num):\n",
    "            sum_bias += y_ui[j][i] * (rating_matrix[j][i] - GlobalAverage)\n",
    "        item_bias.append(sum_bias / y_sum_col[i])"
   ]
  },
  {
   "cell_type": "code",
   "execution_count": 134,
   "outputs": [],
   "source": [
    "# RSVD\n",
    "class RSVD(nn.Module):\n",
    "    def __init__(self, user_num, item_num, d, GlobalAverage, user_bias, item_bias):\n",
    "        super(RSVD, self).__init__()\n",
    "        self.U = nn.Parameter(torch.randn(user_num, d) * 0.01)\n",
    "        self.V = nn.Parameter(torch.randn(item_num, d) * 0.01)\n",
    "        self.user_bias = nn.Parameter(torch.tensor(user_bias, dtype=torch.float32))\n",
    "        self.item_bias = nn.Parameter(torch.tensor(item_bias, dtype=torch.float32))\n",
    "        self.GlobalAverage = GlobalAverage\n",
    "\n",
    "    def forward(self, user_id, item_id):\n",
    "        U_u = self.U[user_id]\n",
    "        V_i = self.V[item_id]\n",
    "        bu_u = self.user_bias[user_id]\n",
    "        bi_i = self.item_bias[item_id]\n",
    "        pred = torch.sum(U_u * V_i) + bu_u + bi_i + self.GlobalAverage\n",
    "        return pred"
   ],
   "metadata": {
    "collapsed": false,
    "ExecuteTime": {
     "end_time": "2024-08-08T12:12:15.290585Z",
     "start_time": "2024-08-08T12:12:15.286116Z"
    }
   },
   "id": "3249476abac421b3"
  },
  {
   "cell_type": "code",
   "execution_count": 135,
   "outputs": [],
   "source": [
    "d = 20\n",
    "alpha_u = 0.01\n",
    "alpha_v = 0.01\n",
    "beta_u = 0.01\n",
    "beta_v = 0.01\n",
    "lr = 0.01\n",
    "epochs = 60\n",
    "\n",
    "#转换到tensor\n",
    "train_data = torch.tensor(u1_base[['uid', 'iid']].values - 1, dtype=torch.long)\n",
    "train_ratings = torch.tensor(u1_base['rate'].values, dtype=torch.float32)\n",
    "\n",
    "# Dataset\n",
    "train_dataset = TensorDataset(train_data, train_ratings)\n",
    "\n",
    "# batch size = 2000\n",
    "batch_size = 2000\n",
    "train_loader = DataLoader(train_dataset, batch_size=batch_size, shuffle=True)\n",
    "\n",
    "# 定义模型、优化器、loss\n",
    "model = RSVD(user_num, item_num, d, GlobalAverage, user_bias, item_bias)\n",
    "optimizer = optim.SGD(model.parameters(), lr=lr, weight_decay=0.01)\n",
    "criterion = nn.MSELoss()"
   ],
   "metadata": {
    "collapsed": false,
    "ExecuteTime": {
     "end_time": "2024-08-08T12:12:15.304100Z",
     "start_time": "2024-08-08T12:12:15.290358Z"
    }
   },
   "id": "bb9b48a51348262d"
  },
  {
   "cell_type": "code",
   "execution_count": 136,
   "outputs": [
    {
     "name": "stdout",
     "output_type": "stream",
     "text": [
      "Epoch 1, Loss: 34.77484029531479\n",
      "Epoch 2, Loss: 34.73276746273041\n",
      "Epoch 3, Loss: 34.70992112159729\n",
      "Epoch 4, Loss: 34.69286423921585\n",
      "Epoch 5, Loss: 34.65987080335617\n",
      "Epoch 6, Loss: 34.62838286161423\n",
      "Epoch 7, Loss: 34.60522359609604\n",
      "Epoch 8, Loss: 34.58187735080719\n",
      "Epoch 9, Loss: 34.566838920116425\n",
      "Epoch 10, Loss: 34.539741814136505\n",
      "Epoch 11, Loss: 34.53562414646149\n",
      "Epoch 12, Loss: 34.493729531764984\n",
      "Epoch 13, Loss: 34.47113084793091\n",
      "Epoch 14, Loss: 34.462037563323975\n",
      "Epoch 15, Loss: 34.440704107284546\n",
      "Epoch 16, Loss: 34.42167121171951\n",
      "Epoch 17, Loss: 34.41071951389313\n",
      "Epoch 18, Loss: 34.38404440879822\n",
      "Epoch 19, Loss: 34.37974691390991\n",
      "Epoch 20, Loss: 34.36994421482086\n",
      "Epoch 21, Loss: 34.34861320257187\n",
      "Epoch 22, Loss: 34.33832436800003\n",
      "Epoch 23, Loss: 34.330923199653625\n",
      "Epoch 24, Loss: 34.31173872947693\n",
      "Epoch 25, Loss: 34.308274030685425\n",
      "Epoch 26, Loss: 34.29112994670868\n",
      "Epoch 27, Loss: 34.28686338663101\n",
      "Epoch 28, Loss: 34.276792109012604\n",
      "Epoch 29, Loss: 34.2761390209198\n",
      "Epoch 30, Loss: 34.25706088542938\n",
      "Epoch 31, Loss: 34.267358243465424\n",
      "Epoch 32, Loss: 34.256886303424835\n",
      "Epoch 33, Loss: 34.24223870038986\n",
      "Epoch 34, Loss: 34.238607466220856\n",
      "Epoch 35, Loss: 34.24163490533829\n",
      "Epoch 36, Loss: 34.23220890760422\n",
      "Epoch 37, Loss: 34.23647999763489\n",
      "Epoch 38, Loss: 34.23234951496124\n",
      "Epoch 39, Loss: 34.226706981658936\n",
      "Epoch 40, Loss: 34.23389196395874\n",
      "Epoch 41, Loss: 34.22246539592743\n"
     ]
    }
   ],
   "source": [
    "# train\n",
    "for epoch in range(epochs):\n",
    "    model.train()\n",
    "    total_loss = 0.0\n",
    "\n",
    "    for batch_data, batch_ratings in train_loader:\n",
    "        user_id, item_id = batch_data[:, 0], batch_data[:, 1]\n",
    "        optimizer.zero_grad()\n",
    "\n",
    "        predictions = model(user_id, item_id)\n",
    "\n",
    "        loss = criterion(predictions, batch_ratings) #单个batch的loss\n",
    "        loss.backward()\n",
    "        optimizer.step()\n",
    "        total_loss += loss.item()\n",
    "    print(f'Epoch {epoch + 1}, Loss: {total_loss}')#一个epoch总loss\n",
    "    if total_loss < 34.223:\n",
    "        break\n",
    "    lr *= 0.9"
   ],
   "metadata": {
    "collapsed": false,
    "ExecuteTime": {
     "end_time": "2024-08-08T12:12:30.856172Z",
     "start_time": "2024-08-08T12:12:15.306851Z"
    }
   },
   "id": "6310fbebebf243ca"
  },
  {
   "cell_type": "code",
   "execution_count": 137,
   "outputs": [
    {
     "name": "stdout",
     "output_type": "stream",
     "text": [
      "(RMSE:0.9683,MAE:0.7670)\n"
     ]
    }
   ],
   "source": [
    "#评价指标 ERR\n",
    "mae, rmse = ERR(model,u1_test)\n",
    "print(f'(RMSE:{rmse:.4f},MAE:{mae:.4f})')"
   ],
   "metadata": {
    "collapsed": false,
    "ExecuteTime": {
     "end_time": "2024-08-08T12:14:07.840857Z",
     "start_time": "2024-08-08T12:14:06.249572Z"
    }
   },
   "id": "a9249e7358e60dd5"
  },
  {
   "cell_type": "code",
   "execution_count": null,
   "outputs": [],
   "source": [],
   "metadata": {
    "collapsed": false
   },
   "id": "f1badc24c1dbd0f9"
  }
 ],
 "metadata": {
  "kernelspec": {
   "display_name": "Python 3",
   "language": "python",
   "name": "python3"
  },
  "language_info": {
   "codemirror_mode": {
    "name": "ipython",
    "version": 2
   },
   "file_extension": ".py",
   "mimetype": "text/x-python",
   "name": "python",
   "nbconvert_exporter": "python",
   "pygments_lexer": "ipython2",
   "version": "2.7.6"
  }
 },
 "nbformat": 4,
 "nbformat_minor": 5
}
