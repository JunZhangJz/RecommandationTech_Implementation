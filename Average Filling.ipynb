{
 "cells": [
  {
   "cell_type": "code",
   "execution_count": 23,
   "outputs": [],
   "source": [
    "import pandas as pd\n",
    "import numpy as np\n",
    "\n",
    "#读入数据集\n",
    "u1_base = pd.read_csv('ml-100k/u1.base', sep='\\t', names=['uid', 'iid', 'rate', 'timestamp'])\n",
    "u1_test = pd.read_csv('ml-100k/u1.test', sep='\\t', names=['uid', 'iid', 'rate', 'timestamp'])\n",
    "\n",
    "\n",
    "#定义误差函数\n",
    "def ERR(rating_matrix, test):\n",
    "    cnt = 0\n",
    "    abs_err = 0\n",
    "    squ_err = 0\n",
    "\n",
    "    for index, row in test.iterrows():\n",
    "        user_id = row['uid']\n",
    "        item_id = row['iid']\n",
    "        true_rating = row['rate']\n",
    "\n",
    "        predicted_rating = rating_matrix[user_id - 1][item_id - 1]\n",
    "\n",
    "        # 计算绝对误差/平方误差\n",
    "\n",
    "        absolute_error = abs(predicted_rating - true_rating)\n",
    "        abs_err += absolute_error\n",
    "\n",
    "        square_error = pow(predicted_rating - true_rating, 2)\n",
    "        squ_err += square_error\n",
    "\n",
    "        cnt += 1\n",
    "    # 计算平均绝对误差/平方误差\n",
    "    mae = abs_err / cnt\n",
    "    rmse = (squ_err / cnt) ** 0.5\n",
    "\n",
    "    return mae, rmse\n",
    "\n",
    "\n",
    "#初始化\n",
    "user_num = u1_base['uid'].max()\n",
    "item_num = u1_base['iid'].max()\n",
    "\n",
    "rating_matrix = np.zeros((user_num, item_num), float)\n",
    "y_ui = np.zeros((user_num, item_num), int)\n",
    "\n",
    "#base记录转化为matrix\n",
    "for index, row in u1_base.iterrows():\n",
    "    user_id = row['uid']\n",
    "    item_id = row['iid']\n",
    "    rating = row['rate']\n",
    "    rating_matrix[user_id - 1, item_id - 1] = rating\n",
    "    y_ui[user_id - 1, item_id - 1] = 1\n",
    "\n",
    "#全局平均\n",
    "GlobalAverage = rating_matrix.sum() / y_ui.sum()\n",
    "\n",
    "#计算四个参数 user_means item_means user_bias item_bias\n",
    "rating_sum_row = [sum(row) for row in rating_matrix]\n",
    "y_sum_row = [sum(row) for row in y_ui]\n",
    "\n",
    "rating_sum_col = [sum(column) for column in zip(*rating_matrix)]\n",
    "y_sum_col = [sum(column) for column in zip(*y_ui)]\n",
    "\n",
    "user_means = []\n",
    "for i in range(user_num):\n",
    "    if y_sum_row[i] == 0:\n",
    "        user_means.append(GlobalAverage)\n",
    "    else:\n",
    "        user_means.append(rating_sum_row[i] / y_sum_row[i])\n",
    "\n",
    "item_means = []\n",
    "for i in range(item_num):\n",
    "    if y_sum_col[i] == 0:\n",
    "        item_means.append(GlobalAverage)\n",
    "    else:\n",
    "        item_means.append(rating_sum_col[i] / y_sum_col[i])\n",
    "\n",
    "user_bias = []\n",
    "for i in range(user_num):\n",
    "    if y_sum_row[i] == 0:\n",
    "        user_bias.append(0)\n",
    "    else:\n",
    "        sum_bias = 0\n",
    "        for j in range(item_num):\n",
    "            sum_bias += y_ui[i][j] * (rating_matrix[i][j] - item_means[j])\n",
    "        user_bias.append(sum_bias / y_sum_row[i])\n",
    "\n",
    "item_bias = []\n",
    "for i in range(item_num):\n",
    "    if y_sum_col[i] == 0:\n",
    "        item_bias.append(0)\n",
    "    else:\n",
    "        sum_bias = 0\n",
    "        for j in range(user_num):\n",
    "            sum_bias += y_ui[j][i] * (rating_matrix[j][i] - user_means[j])\n",
    "        item_bias.append(sum_bias / y_sum_col[i])"
   ],
   "metadata": {
    "collapsed": false,
    "ExecuteTime": {
     "end_time": "2024-08-07T11:34:59.841137Z",
     "start_time": "2024-08-07T11:34:56.677827Z"
    }
   },
   "id": "34063c49"
  },
  {
   "cell_type": "code",
   "execution_count": 24,
   "outputs": [],
   "source": [
    "filled_matrix_u = np.copy(rating_matrix)\n",
    "for idx, row in u1_test.iterrows():\n",
    "    user_id = row['uid'] - 1\n",
    "    item_id = row['iid'] - 1\n",
    "    filled_matrix_u[user_id, item_id] = user_means[user_id]\n",
    "mae1, rmse1 = ERR(filled_matrix_u, u1_test)"
   ],
   "metadata": {
    "collapsed": false,
    "ExecuteTime": {
     "end_time": "2024-08-07T11:35:00.479606Z",
     "start_time": "2024-08-07T11:34:59.844209Z"
    }
   },
   "id": "ae73da6f"
  },
  {
   "cell_type": "code",
   "execution_count": 25,
   "outputs": [],
   "source": [
    "filled_matrix_i = np.copy(rating_matrix)\n",
    "for idx, row in u1_test.iterrows():\n",
    "    user_id = row['uid'] - 1\n",
    "    item_id = row['iid'] - 1\n",
    "    filled_matrix_i[user_id, item_id] = item_means[item_id]\n",
    "mae2, rmse2 = ERR(filled_matrix_i, u1_test)"
   ],
   "metadata": {
    "collapsed": false,
    "ExecuteTime": {
     "end_time": "2024-08-07T11:35:01.069829Z",
     "start_time": "2024-08-07T11:35:00.480488Z"
    }
   },
   "id": "75bb6601"
  },
  {
   "cell_type": "code",
   "execution_count": 26,
   "outputs": [],
   "source": [
    "filled_matrix_ui = np.copy(rating_matrix)\n",
    "for idx, row in u1_test.iterrows():\n",
    "    user_id = row['uid'] - 1\n",
    "    item_id = row['iid'] - 1\n",
    "    filled_matrix_ui[user_id, item_id] = user_means[user_id] / 2 + item_means[item_id] / 2\n",
    "mae3, rmse3 = ERR(filled_matrix_ui, u1_test)"
   ],
   "metadata": {
    "collapsed": false,
    "ExecuteTime": {
     "end_time": "2024-08-07T11:35:01.678909Z",
     "start_time": "2024-08-07T11:35:01.070698Z"
    }
   },
   "id": "f7747a3e"
  },
  {
   "cell_type": "code",
   "execution_count": 27,
   "outputs": [],
   "source": [
    "filled_matrix_BuRi = np.copy(rating_matrix)\n",
    "for idx, row in u1_test.iterrows():\n",
    "    user_id = row['uid'] - 1\n",
    "    item_id = row['iid'] - 1\n",
    "    filled_matrix_BuRi[user_id, item_id] = user_bias[user_id] + item_means[item_id]\n",
    "mae4, rmse4 = ERR(filled_matrix_BuRi, u1_test)"
   ],
   "metadata": {
    "collapsed": false,
    "ExecuteTime": {
     "end_time": "2024-08-07T11:35:02.334882Z",
     "start_time": "2024-08-07T11:35:01.681221Z"
    }
   },
   "id": "a2a69f59"
  },
  {
   "cell_type": "code",
   "execution_count": 28,
   "outputs": [],
   "source": [
    "filled_matrix_RuBi = np.copy(rating_matrix)\n",
    "for idx, row in u1_test.iterrows():\n",
    "    user_id = row['uid'] - 1\n",
    "    item_id = row['iid'] - 1\n",
    "    filled_matrix_RuBi[user_id][item_id] = user_means[user_id] + item_bias[item_id]\n",
    "mae5, rmse5 = ERR(filled_matrix_RuBi, u1_test)"
   ],
   "metadata": {
    "collapsed": false,
    "ExecuteTime": {
     "end_time": "2024-08-07T11:35:02.934362Z",
     "start_time": "2024-08-07T11:35:02.335947Z"
    }
   },
   "id": "7216ee4d"
  },
  {
   "cell_type": "code",
   "execution_count": 29,
   "id": "00c07260",
   "metadata": {
    "ExecuteTime": {
     "end_time": "2024-08-07T11:35:03.544715Z",
     "start_time": "2024-08-07T11:35:02.935312Z"
    }
   },
   "outputs": [],
   "source": [
    "filled_matrix_GAB = np.copy(rating_matrix)\n",
    "for idx, row in u1_test.iterrows():\n",
    "    user_id = row['uid'] - 1\n",
    "    item_id = row['iid'] - 1\n",
    "    filled_matrix_GAB[user_id][item_id] = GlobalAverage + user_bias[user_id] + item_bias[item_id]\n",
    "mae6, rmse6 = ERR(filled_matrix_GAB, u1_test)"
   ]
  },
  {
   "cell_type": "code",
   "execution_count": 30,
   "id": "eaae94e3",
   "metadata": {
    "ExecuteTime": {
     "end_time": "2024-08-07T11:35:03.548885Z",
     "start_time": "2024-08-07T11:35:03.545645Z"
    }
   },
   "outputs": [
    {
     "name": "stdout",
     "output_type": "stream",
     "text": [
      "(RMSE:1.0630,MAE:0.8502)\n",
      "(RMSE:1.0334,MAE:0.8276)\n",
      "(RMSE:0.9985,MAE:0.8085)\n",
      "(RMSE:0.9602,MAE:0.7574)\n",
      "(RMSE:0.9758,MAE:0.7696)\n",
      "(RMSE:0.9623,MAE:0.7613)\n"
     ]
    }
   ],
   "source": [
    "print(f'(RMSE:{rmse1:.4f},MAE:{mae1:.4f})')\n",
    "print(f'(RMSE:{rmse2:.4f},MAE:{mae2:.4f})')\n",
    "print(f'(RMSE:{rmse3:.4f},MAE:{mae3:.4f})')\n",
    "print(f'(RMSE:{rmse4:.4f},MAE:{mae4:.4f})')\n",
    "print(f'(RMSE:{rmse5:.4f},MAE:{mae5:.4f})')\n",
    "print(f'(RMSE:{rmse6:.4f},MAE:{mae6:.4f})')"
   ]
  }
 ],
 "metadata": {
  "kernelspec": {
   "display_name": "Python 3 (ipykernel)",
   "language": "python",
   "name": "python3"
  },
  "language_info": {
   "codemirror_mode": {
    "name": "ipython",
    "version": 3
   },
   "file_extension": ".py",
   "mimetype": "text/x-python",
   "name": "python",
   "nbconvert_exporter": "python",
   "pygments_lexer": "ipython3",
   "version": "3.10.9"
  }
 },
 "nbformat": 4,
 "nbformat_minor": 5
}
